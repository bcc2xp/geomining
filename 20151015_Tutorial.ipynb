{
 "cells": [
  {
   "cell_type": "code",
   "execution_count": 2,
   "metadata": {
    "collapsed": false
   },
   "outputs": [
    {
     "name": "stdout",
     "output_type": "stream",
     "text": [
      "Populating the interactive namespace from numpy and matplotlib\n"
     ]
    }
   ],
   "source": [
    "%pylab inline"
   ]
  },
  {
   "cell_type": "code",
   "execution_count": 14,
   "metadata": {
    "collapsed": false
   },
   "outputs": [
    {
     "name": "stdout",
     "output_type": "stream",
     "text": [
      "[[0 0]\n",
      " [0 1]\n",
      " [0 2]\n",
      " [1 0]\n",
      " [1 1]\n",
      " [1 2]\n",
      " [2 0]\n",
      " [2 1]\n",
      " [2 2]]\n",
      "[[ 0.5  0.5]\n",
      " [ 0.5  1.5]\n",
      " [ 0.5  2.5]\n",
      " [ 1.5  0.5]\n",
      " [ 1.5  1.5]\n",
      " [ 1.5  2.5]\n",
      " [ 2.5  0.5]\n",
      " [ 2.5  1.5]\n",
      " [ 2.5  2.5]]\n"
     ]
    }
   ],
   "source": [
    "import numpy as np\n",
    "from itertools import product, izip\n",
    "from scipy.spatial import KDTree\n",
    "\n",
    "pointsXY1 = np.array(list(product(xrange(3), xrange(3))))\n",
    "print pointsXY1\n",
    "k1 = KDTree(pointsXY1)\n",
    "\n",
    "pointsXY2 = np.array(list(product(np.arange(0.5, 3), np.arange(0.5, 3))))\n",
    "print pointsXY2\n",
    "k2 = KDTree(pointsXY2)\n"
   ]
  },
  {
   "cell_type": "code",
   "execution_count": 17,
   "metadata": {
    "collapsed": false
   },
   "outputs": [
    {
     "name": "stdout",
     "output_type": "stream",
     "text": [
      "[[0 0]\n",
      " [0 1]]\n",
      "[[0 0]\n",
      " [0 1]\n",
      " [1 0]]\n",
      "*** [0 0] *** \n",
      "[[ 0.5  0.5]]\n",
      "*** [0 1] *** \n",
      "[[ 0.5  0.5]\n",
      " [ 0.5  1.5]]\n",
      "*** [0 2] *** \n",
      "[[ 0.5  1.5]\n",
      " [ 0.5  2.5]]\n",
      "*** [1 0] *** \n",
      "[[ 0.5  0.5]\n",
      " [ 1.5  0.5]]\n",
      "*** [1 1] *** \n",
      "[[ 0.5  0.5]\n",
      " [ 0.5  1.5]\n",
      " [ 1.5  0.5]\n",
      " [ 1.5  1.5]]\n",
      "*** [1 2] *** \n",
      "[[ 0.5  1.5]\n",
      " [ 0.5  2.5]\n",
      " [ 1.5  1.5]\n",
      " [ 1.5  2.5]]\n",
      "*** [2 0] *** \n",
      "[[ 1.5  0.5]\n",
      " [ 2.5  0.5]]\n",
      "*** [2 1] *** \n",
      "[[ 1.5  0.5]\n",
      " [ 1.5  1.5]\n",
      " [ 2.5  0.5]\n",
      " [ 2.5  1.5]]\n",
      "*** [2 2] *** \n",
      "[[ 1.5  1.5]\n",
      " [ 1.5  2.5]\n",
      " [ 2.5  1.5]\n",
      " [ 2.5  2.5]]\n",
      "[0 0] [0 1]\n",
      "[0 1] [0 2]\n",
      "[1 1] [2 1]\n",
      "[2 0] [2 1]\n",
      "[1 1] [1 2]\n",
      "[2 1] [2 2]\n",
      "[0 1] [1 1]\n",
      "[1 0] [2 0]\n",
      "[0 0] [1 0]\n",
      "[1 0] [1 1]\n",
      "[0 2] [1 2]\n",
      "[1 2] [2 2]\n"
     ]
    }
   ],
   "source": [
    "\n",
    "# X, Y\n",
    "from scipy.spatial import KDTree\n",
    "\n",
    "distances, indices = k1.query((0, 0), k=2)\n",
    "print pointsXY1[indices]\n",
    "indices = k1.query_ball_point((0, 0), 1)\n",
    "print pointsXY1[indices]\n",
    "\n",
    "indexLists = k1.query_ball_tree(k2, 1)\n",
    "for point, indices in izip(pointsXY1, indexLists):\n",
    "    print '*** %s *** ' % point\n",
    "    print pointsXY2[indices]\n",
    "    \n",
    "indexPairs = k1.query_pairs(1)\n",
    "for index1, index2 in indexPairs:\n",
    "    print pointsXY1[index1], pointsXY1[index2]"
   ]
  },
  {
   "cell_type": "code",
   "execution_count": 2,
   "metadata": {
    "collapsed": false
   },
   "outputs": [],
   "source": [
    "import geometryIO\n",
    "import shapely\n",
    "import shapely.geometry\n",
    "#import pysal\n",
    "import pylab as pl\n",
    "from shapely.geometry import Point, LineString, Polygon"
   ]
  },
  {
   "cell_type": "code",
   "execution_count": 3,
   "metadata": {
    "collapsed": true
   },
   "outputs": [],
   "source": [
    "def plot(shapelyGeometries):\n",
    "    'Plot shapelyGeometries'\n",
    "    figure = pl.figure(num=None, figsize=(4, 4), dpi=180)\n",
    "    axes = pl.axes()\n",
    "    axes.set_aspect('equal', 'datalim')\n",
    "    axes.xaxis.set_visible(False)\n",
    "    axes.yaxis.set_visible(False)\n",
    "    draw(shapelyGeometries)\n",
    "            \n",
    "def draw(gs):\n",
    "    'Draw shapelyGeometries'\n",
    "    # Handle single and multiple geometries\n",
    "    try:\n",
    "        gs = iter(gs)\n",
    "    except TypeError:\n",
    "        gs = [gs]\n",
    "    # For each shapelyGeometry,\n",
    "    for g in gs:\n",
    "        gType = g.geom_type\n",
    "        if gType.startswith('Multi') or gType == 'GeometryCollection':\n",
    "            draw(g.geoms)\n",
    "        else:\n",
    "            draw_(g)\n",
    "            \n",
    "def draw_(g):\n",
    "    'Draw a shapelyGeometry; thanks to Sean Gilles'\n",
    "    gType = g.geom_type\n",
    "    if gType == 'Point':\n",
    "        pl.plot(g.x, g.y, 'k,')\n",
    "    elif gType == 'LineString':\n",
    "        x, y = g.xy\n",
    "        pl.plot(x, y, 'b-')\n",
    "    elif gType == 'Polygon':\n",
    "        x, y = g.exterior.xy\n",
    "        pl.fill(x, y, color='#cccccc', aa=True) \n",
    "        pl.plot(x, y, color='#666666', aa=True, lw=1.0)\n",
    "        for hole in g.interiors:\n",
    "            x, y = hole.xy\n",
    "            pl.fill(x, y, color='#ffffff', aa=True) \n",
    "            pl.plot(x, y, color='#999999', aa=True, lw=1.0)"
   ]
  },
  {
   "cell_type": "code",
   "execution_count": 8,
   "metadata": {
    "collapsed": false
   },
   "outputs": [
    {
     "ename": "TypeError",
     "evalue": "draw() takes no arguments (1 given)",
     "output_type": "error",
     "traceback": [
      "\u001b[1;31m---------------------------------------------------------------------------\u001b[0m",
      "\u001b[1;31mTypeError\u001b[0m                                 Traceback (most recent call last)",
      "\u001b[1;32m<ipython-input-8-3601c104fa91>\u001b[0m in \u001b[0;36m<module>\u001b[1;34m()\u001b[0m\n\u001b[0;32m      9\u001b[0m )\n\u001b[0;32m     10\u001b[0m \u001b[0mplot\u001b[0m\u001b[1;33m(\u001b[0m\u001b[0mlineString1\u001b[0m\u001b[1;33m)\u001b[0m\u001b[1;33m\u001b[0m\u001b[0m\n\u001b[1;32m---> 11\u001b[1;33m \u001b[0mdraw\u001b[0m\u001b[1;33m(\u001b[0m\u001b[0mpolygon1\u001b[0m\u001b[1;33m)\u001b[0m\u001b[1;33m\u001b[0m\u001b[0m\n\u001b[0m",
      "\u001b[1;31mTypeError\u001b[0m: draw() takes no arguments (1 given)"
     ]
    },
    {
     "data": {
      "image/png": "[encoded data removed]",
      "text/plain": [
       "<matplotlib.figure.Figure at 0xa937d50>"
      ]
     },
     "metadata": {},
     "output_type": "display_data"
    }
   ],
   "source": [
    "point1 = Point((6, 10))\n",
    "lineString1 = LineString(((3, 4), (10, 50), (20, 25)))\n",
    "polygon1 = Polygon(\n",
    "    ((1, 1), (5, 1), (5, 5), (1, 5), (1, 1)),      # Shell\n",
    "    [\n",
    "        ((2, 2), (2, 3), (3, 3), (3, 2), (2, 2)),  # Hole\n",
    "        ((3, 3), (3, 4), (4, 4), (4, 3), (3, 3)),  # Hole\n",
    "    ]\n",
    ")\n",
    "plot(lineString1)\n",
    "draw(polygon1)"
   ]
  },
  {
   "cell_type": "code",
   "execution_count": 5,
   "metadata": {
    "collapsed": false
   },
   "outputs": [
    {
     "name": "stdout",
     "output_type": "stream",
     "text": [
      "16.0\n",
      "174.413712264\n"
     ]
    }
   ],
   "source": [
    "from shapely import wkt, geometry\n",
    "wktPoly = \"POLYGON((0 0,4 0,4 4,0 4,0 0))\"\n",
    "poly = wkt.loads(wktPoly)\n",
    "print poly.area\n",
    "\n",
    "\n",
    "buf = poly.buffer(5.0)\n",
    "print buf.area\n",
    "#TM_WORLD_BORDERS-0.3.shx"
   ]
  },
  {
   "cell_type": "code",
   "execution_count": 8,
   "metadata": {
    "collapsed": false
   },
   "outputs": [],
   "source": [
    "import osgeo.ogr\n",
    "shapefile = osgeo.ogr.Open(\"TM_WORLD_BORDERS-0.3.shp\")"
   ]
  },
  {
   "cell_type": "code",
   "execution_count": 8,
   "metadata": {
    "collapsed": false
   },
   "outputs": [],
   "source": [
    "import pysal as ps  # 1.5 or higher\n",
    "import numpy as np  # 1.7 or higher\n",
    "import pandas as pd # 0.10 or higher\n",
    "\n",
    "shp_link = 'WGS84.shp'\n",
    "shp = ps.open(shp_link)\n",
    "from pysal.contrib.viz import mapping as viz\n",
    "viz.plot_poly_lines(shp_link)"
   ]
  },
  {
   "cell_type": "code",
   "execution_count": 3,
   "metadata": {
    "collapsed": false
   },
   "outputs": [],
   "source": [
    "import networkx as nx"
   ]
  },
  {
   "cell_type": "code",
   "execution_count": 4,
   "metadata": {
    "collapsed": false
   },
   "outputs": [],
   "source": [
    "graph = nx.Graph()\n",
    "\n",
    "graph.add_edge('台北101', '忠孝敦化', duration=5)\n",
    "graph.add_edge('台北車站', '忠孝復興', duration=10)\n",
    "graph.add_edge('忠孝復興', '忠孝敦化', duration=2)\n",
    "graph.add_edge('忠孝敦化', '敦化南路二段', duration=10)"
   ]
  },
  {
   "cell_type": "code",
   "execution_count": 5,
   "metadata": {
    "collapsed": false
   },
   "outputs": [
    {
     "data": {
      "image/png": "[encoded data removed]",
      "text/plain": [
       "<matplotlib.figure.Figure at 0x868c530>"
      ]
     },
     "metadata": {},
     "output_type": "display_data"
    }
   ],
   "source": [
    "nx.draw(graph)"
   ]
  },
  {
   "cell_type": "code",
   "execution_count": 6,
   "metadata": {
    "collapsed": false
   },
   "outputs": [
    {
     "name": "stdout",
     "output_type": "stream",
     "text": [
      "忠孝敦化\n"
     ]
    }
   ],
   "source": [
    "print [node for node, connectionCount in nx.degree(graph).iteritems() if connectionCount > 2][0]"
   ]
  },
  {
   "cell_type": "code",
   "execution_count": 7,
   "metadata": {
    "collapsed": false
   },
   "outputs": [
    {
     "ename": "UnicodeDecodeError",
     "evalue": "'ascii' codec can't decode byte 0xe5 in position 0: ordinal not in range(128)",
     "output_type": "error",
     "traceback": [
      "\u001b[1;31m---------------------------------------------------------------------------\u001b[0m",
      "\u001b[1;31mUnicodeDecodeError\u001b[0m                        Traceback (most recent call last)",
      "\u001b[1;32m<ipython-input-7-3bff8ddcadb2>\u001b[0m in \u001b[0;36m<module>\u001b[1;34m()\u001b[0m\n\u001b[1;32m----> 1\u001b[1;33m \u001b[0mlabels\u001b[0m\u001b[1;33m=\u001b[0m\u001b[0mnx\u001b[0m\u001b[1;33m.\u001b[0m\u001b[0mdraw_networkx_labels\u001b[0m\u001b[1;33m(\u001b[0m\u001b[0mgraph\u001b[0m\u001b[1;33m,\u001b[0m\u001b[0mpos\u001b[0m\u001b[1;33m=\u001b[0m\u001b[0mnx\u001b[0m\u001b[1;33m.\u001b[0m\u001b[0mspring_layout\u001b[0m\u001b[1;33m(\u001b[0m\u001b[0mgraph\u001b[0m\u001b[1;33m)\u001b[0m\u001b[1;33m)\u001b[0m\u001b[1;33m\u001b[0m\u001b[0m\n\u001b[0m\u001b[0;32m      2\u001b[0m \u001b[0mnx\u001b[0m\u001b[1;33m.\u001b[0m\u001b[0mdraw\u001b[0m\u001b[1;33m(\u001b[0m\u001b[0mgraph\u001b[0m\u001b[1;33m)\u001b[0m\u001b[1;33m\u001b[0m\u001b[0m\n",
      "\u001b[1;32mC:\\Python27\\lib\\site-packages\\networkx\\drawing\\nx_pylab.pyc\u001b[0m in \u001b[0;36mdraw_networkx_labels\u001b[1;34m(G, pos, labels, font_size, font_color, font_family, font_weight, alpha, bbox, ax, **kwds)\u001b[0m\n\u001b[0;32m    732\u001b[0m                   \u001b[0mtransform\u001b[0m\u001b[1;33m=\u001b[0m\u001b[0max\u001b[0m\u001b[1;33m.\u001b[0m\u001b[0mtransData\u001b[0m\u001b[1;33m,\u001b[0m\u001b[1;33m\u001b[0m\u001b[0m\n\u001b[0;32m    733\u001b[0m                   \u001b[0mbbox\u001b[0m\u001b[1;33m=\u001b[0m\u001b[0mbbox\u001b[0m\u001b[1;33m,\u001b[0m\u001b[1;33m\u001b[0m\u001b[0m\n\u001b[1;32m--> 734\u001b[1;33m                   \u001b[0mclip_on\u001b[0m\u001b[1;33m=\u001b[0m\u001b[0mTrue\u001b[0m\u001b[1;33m,\u001b[0m\u001b[1;33m\u001b[0m\u001b[0m\n\u001b[0m\u001b[0;32m    735\u001b[0m                   )\n\u001b[0;32m    736\u001b[0m         \u001b[0mtext_items\u001b[0m\u001b[1;33m[\u001b[0m\u001b[0mn\u001b[0m\u001b[1;33m]\u001b[0m \u001b[1;33m=\u001b[0m \u001b[0mt\u001b[0m\u001b[1;33m\u001b[0m\u001b[0m\n",
      "\u001b[1;32mC:\\Python27\\lib\\site-packages\\matplotlib\\axes\\_axes.pyc\u001b[0m in \u001b[0;36mtext\u001b[1;34m(self, x, y, s, fontdict, withdash, **kwargs)\u001b[0m\n\u001b[0;32m    584\u001b[0m         \u001b[1;32melse\u001b[0m\u001b[1;33m:\u001b[0m\u001b[1;33m\u001b[0m\u001b[0m\n\u001b[0;32m    585\u001b[0m             t = mtext.Text(\n\u001b[1;32m--> 586\u001b[1;33m                 x=x, y=y, text=s)\n\u001b[0m\u001b[0;32m    587\u001b[0m         \u001b[0mself\u001b[0m\u001b[1;33m.\u001b[0m\u001b[0m_set_artist_props\u001b[0m\u001b[1;33m(\u001b[0m\u001b[0mt\u001b[0m\u001b[1;33m)\u001b[0m\u001b[1;33m\u001b[0m\u001b[0m\n\u001b[0;32m    588\u001b[0m \u001b[1;33m\u001b[0m\u001b[0m\n",
      "\u001b[1;32mC:\\Python27\\lib\\site-packages\\matplotlib\\text.pyc\u001b[0m in \u001b[0;36m__init__\u001b[1;34m(self, x, y, text, color, verticalalignment, horizontalalignment, multialignment, fontproperties, rotation, linespacing, rotation_mode, **kwargs)\u001b[0m\n\u001b[0;32m    188\u001b[0m             \u001b[0mfontproperties\u001b[0m \u001b[1;33m=\u001b[0m \u001b[0mFontProperties\u001b[0m\u001b[1;33m(\u001b[0m\u001b[0mfontproperties\u001b[0m\u001b[1;33m)\u001b[0m\u001b[1;33m\u001b[0m\u001b[0m\n\u001b[0;32m    189\u001b[0m \u001b[1;33m\u001b[0m\u001b[0m\n\u001b[1;32m--> 190\u001b[1;33m         \u001b[0mself\u001b[0m\u001b[1;33m.\u001b[0m\u001b[0mset_text\u001b[0m\u001b[1;33m(\u001b[0m\u001b[0mtext\u001b[0m\u001b[1;33m)\u001b[0m\u001b[1;33m\u001b[0m\u001b[0m\n\u001b[0m\u001b[0;32m    191\u001b[0m         \u001b[0mself\u001b[0m\u001b[1;33m.\u001b[0m\u001b[0mset_color\u001b[0m\u001b[1;33m(\u001b[0m\u001b[0mcolor\u001b[0m\u001b[1;33m)\u001b[0m\u001b[1;33m\u001b[0m\u001b[0m\n\u001b[0;32m    192\u001b[0m         \u001b[0mself\u001b[0m\u001b[1;33m.\u001b[0m\u001b[0m_verticalalignment\u001b[0m \u001b[1;33m=\u001b[0m \u001b[0mverticalalignment\u001b[0m\u001b[1;33m\u001b[0m\u001b[0m\n",
      "\u001b[1;32mC:\\Python27\\lib\\site-packages\\matplotlib\\text.pyc\u001b[0m in \u001b[0;36mset_text\u001b[1;34m(self, s)\u001b[0m\n\u001b[0;32m   1026\u001b[0m         \u001b[0mACCEPTS\u001b[0m\u001b[1;33m:\u001b[0m \u001b[0mstring\u001b[0m \u001b[1;32mor\u001b[0m \u001b[0manything\u001b[0m \u001b[0mprintable\u001b[0m \u001b[1;32mwith\u001b[0m \u001b[1;34m'%s'\u001b[0m \u001b[0mconversion\u001b[0m\u001b[1;33m.\u001b[0m\u001b[1;33m\u001b[0m\u001b[0m\n\u001b[0;32m   1027\u001b[0m         \"\"\"\n\u001b[1;32m-> 1028\u001b[1;33m         \u001b[0mself\u001b[0m\u001b[1;33m.\u001b[0m\u001b[0m_text\u001b[0m \u001b[1;33m=\u001b[0m \u001b[1;34m'%s'\u001b[0m \u001b[1;33m%\u001b[0m \u001b[1;33m(\u001b[0m\u001b[0ms\u001b[0m\u001b[1;33m,\u001b[0m\u001b[1;33m)\u001b[0m\u001b[1;33m\u001b[0m\u001b[0m\n\u001b[0m\u001b[0;32m   1029\u001b[0m \u001b[1;33m\u001b[0m\u001b[0m\n\u001b[0;32m   1030\u001b[0m     \u001b[1;33m@\u001b[0m\u001b[0mstaticmethod\u001b[0m\u001b[1;33m\u001b[0m\u001b[0m\n",
      "\u001b[1;31mUnicodeDecodeError\u001b[0m: 'ascii' codec can't decode byte 0xe5 in position 0: ordinal not in range(128)"
     ]
    },
    {
     "data": {
      "image/png": "[encoded data removed]",
      "text/plain": [
       "<matplotlib.figure.Figure at 0x86e5030>"
      ]
     },
     "metadata": {},
     "output_type": "display_data"
    }
   ],
   "source": [
    "labels=nx.draw_networkx_labels(graph,pos=nx.spring_layout(graph))\n",
    "nx.draw(graph)"
   ]
  },
  {
   "cell_type": "code",
   "execution_count": 24,
   "metadata": {
    "collapsed": false
   },
   "outputs": [
    {
     "data": {
      "image/png": "[encoded data removed]",
      "text/plain": [
       "<matplotlib.figure.Figure at 0x89daa50>"
      ]
     },
     "metadata": {},
     "output_type": "display_data"
    }
   ],
   "source": [
    "import networkx as nx\n",
    "\n",
    "G=nx.Graph()\n",
    "\n",
    "G.add_edge('a','b',weight=32)\n",
    "G.add_edge('a','f',weight=3)\n",
    "G.add_edge('b','c',weight=21)\n",
    "G.add_edge('b','e',weight=12)\n",
    "G.add_edge('b','f',weight=7)\n",
    "G.add_edge('c','e',weight=6)\n",
    "G.add_edge('c','g',weight=11)\n",
    "G.add_edge('c','f',weight=2)\n",
    "G.add_edge('d','e',weight=13)\n",
    "G.add_edge('d','g',weight=9)\n",
    "\n",
    "# positions for all nodes\n",
    "pos=nx.spring_layout(G) \n",
    "\n",
    "# nodes\n",
    "nx.draw_networkx_nodes(G,pos,node_size=700)\n",
    "\n",
    "# edges\n",
    "nx.draw_networkx_edges(G,pos, width=6)\n",
    "\n",
    "# edge label\n",
    "nx.draw_networkx_edge_labels(G,pos, \n",
    "    {\n",
    "        (\"a\",\"b\"):\"32\",(\"a\",\"f\"):\"3\", (\"b\",\"c\"):\"21\", (\"b\",\"e\"):\"12\",(\"b\",\"f\"):\"7\", (\"c\",\"e\"):\"6\",\\\n",
    "        (\"c\",\"g\"):\"11\", (\"d\",\"e\"):\"13\", (\"d\",\"g\"):\"9\", (\"c\",\"f\"):\"2\"\n",
    "    },\n",
    "    label_pos=0.3\n",
    ")\n",
    "\n",
    "# labels\n",
    "nx.draw_networkx_labels(G,pos,font_size=20,font_family='sans-serif')\n",
    "\n",
    "plt.axis('off')\n",
    "plt.savefig(\"weighted_graph.png\") # save as png\n",
    "plt.show() # display"
   ]
  },
  {
   "cell_type": "code",
   "execution_count": 25,
   "metadata": {
    "collapsed": false
   },
   "outputs": [
    {
     "data": {
      "text/plain": [
       "['a', 'f', 'c', 'g']"
      ]
     },
     "execution_count": 25,
     "metadata": {},
     "output_type": "execute_result"
    }
   ],
   "source": [
    "nx.dijkstra_path(G, 'a', 'g', weight='weight')"
   ]
  },
  {
   "cell_type": "code",
   "execution_count": 26,
   "metadata": {
    "collapsed": false
   },
   "outputs": [
    {
     "data": {
      "text/plain": [
       "16"
      ]
     },
     "execution_count": 26,
     "metadata": {},
     "output_type": "execute_result"
    }
   ],
   "source": [
    "nx.dijkstra_path_length(G, 'a', 'g', weight='weight')"
   ]
  },
  {
   "cell_type": "code",
   "execution_count": 27,
   "metadata": {
    "collapsed": false
   },
   "outputs": [
    {
     "data": {
      "text/plain": [
       "['a', 'f', 'c', 'g']"
      ]
     },
     "execution_count": 27,
     "metadata": {},
     "output_type": "execute_result"
    }
   ],
   "source": [
    "nx.astar_path(G, 'a', 'g', weight='weight')"
   ]
  },
  {
   "cell_type": "code",
   "execution_count": 28,
   "metadata": {
    "collapsed": false
   },
   "outputs": [
    {
     "data": {
      "text/plain": [
       "['c', 'b', 'e', 'f']"
      ]
     },
     "execution_count": 28,
     "metadata": {},
     "output_type": "execute_result"
    }
   ],
   "source": [
    "[node for node, connectionCount in nx.degree(G).iteritems() if connectionCount > 2]"
   ]
  },
  {
   "cell_type": "code",
   "execution_count": 29,
   "metadata": {
    "collapsed": false
   },
   "outputs": [],
   "source": [
    "from networkx.algorithms import minimum_spanning_tree\n",
    "optimized_graph = minimum_spanning_tree(G)"
   ]
  },
  {
   "cell_type": "code",
   "execution_count": 31,
   "metadata": {
    "collapsed": false
   },
   "outputs": [
    {
     "data": {
      "text/plain": [
       "[('a', 'f'), ('f', 'c'), ('c', 'e'), ('c', 'g'), ('g', 'd'), ('f', 'b')]"
      ]
     },
     "execution_count": 31,
     "metadata": {},
     "output_type": "execute_result"
    }
   ],
   "source": [
    "from networkx.algorithms import dfs_edges\n",
    "list(dfs_edges(optimized_graph))"
   ]
  },
  {
   "cell_type": "code",
   "execution_count": null,
   "metadata": {
    "collapsed": true
   },
   "outputs": [],
   "source": []
  }
 ],
 "metadata": {
  "kernelspec": {
   "display_name": "Python 2",
   "language": "python",
   "name": "python2"
  },
  "language_info": {
   "codemirror_mode": {
    "name": "ipython",
    "version": 2
   },
   "file_extension": ".py",
   "mimetype": "text/x-python",
   "name": "python",
   "nbconvert_exporter": "python",
   "pygments_lexer": "ipython2",
   "version": "2.7.10"
  }
 },
 "nbformat": 4,
 "nbformat_minor": 0
}
