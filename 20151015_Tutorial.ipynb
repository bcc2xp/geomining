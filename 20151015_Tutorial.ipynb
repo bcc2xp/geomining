{
 "cells": [
  {
   "cell_type": "code",
   "execution_count": 62,
   "metadata": {
    "collapsed": false
   },
   "outputs": [
    {
     "name": "stdout",
     "output_type": "stream",
     "text": [
      "Populating the interactive namespace from numpy and matplotlib\n"
     ]
    }
   ],
   "source": [
    "%pylab inline"
   ]
  },
  {
   "cell_type": "code",
   "execution_count": 63,
   "metadata": {
    "collapsed": false
   },
   "outputs": [],
   "source": [
    "import math\n",
    " \n",
    "def from_points(cell_size, points):\n",
    "    hashmap = HashMap(cell_size)\n",
    "    for point in points:\n",
    "        dict_setdefault(hashmap.grid, hashmap.key(point),[]).append(point)\n",
    "    return hashmap\n",
    " \n",
    "def dict_setdefault(D, k, d):\n",
    "    r = D.get(k,d)\n",
    "    if k not in D:\n",
    "        D[k] = d\n",
    "    return r"
   ]
  },
  {
   "cell_type": "code",
   "execution_count": 64,
   "metadata": {
    "collapsed": true
   },
   "outputs": [],
   "source": [
    "class HashMap(object):\n",
    "    def __init__(self, cell_size):\n",
    "        self.cell_size = cell_size\n",
    "        self.grid = {}\n",
    " \n",
    "    def key(self, point):\n",
    "        cell_size = self.cell_size\n",
    "        return (\n",
    "            int((math.floor(point[0]/cell_size))*cell_size),\n",
    "            int((math.floor(point[1]/cell_size))*cell_size)\n",
    "        )\n",
    " \n",
    "    def insert(self, point):\n",
    "        dict_setdefault( self.grid, self.key(point), []).append(point)\n",
    "   \n",
    "    def query(self, point):\n",
    "        return dict_setdefault( self.grid, self.key(point), [])"
   ]
  },
  {
   "cell_type": "code",
   "execution_count": 65,
   "metadata": {
    "collapsed": false
   },
   "outputs": [
    {
     "data": {
      "image/png": "[encoded data removed]",
      "text/plain": [
       "<matplotlib.figure.Figure at 0x2f199828>"
      ]
     },
     "metadata": {},
     "output_type": "display_data"
    }
   ],
   "source": [
    "import matplotlib.pyplot as plt\n",
    "import numpy\n",
    "\n",
    "x = numpy.array([1,1,5,5,7,7.8])\n",
    "y = numpy.array([1,1.5,5.5,5,7,7])\n",
    "\n",
    "fig = plt.figure()\n",
    "ax = fig.gca()\n",
    "ax.set_xticks(numpy.arange(0,12,2))\n",
    "ax.set_yticks(numpy.arange(0,12,2))\n",
    "plt.scatter(x,y)\n",
    "plt.grid()\n",
    "plt.show()"
   ]
  },
  {
   "cell_type": "code",
   "execution_count": 66,
   "metadata": {
    "collapsed": false
   },
   "outputs": [
    {
     "name": "stdout",
     "output_type": "stream",
     "text": [
      "[(1.0, 1.0), (1.0, 1.5)]\n",
      "[(1.0, 1.0), (1.0, 1.5), (1.2, 1.3)]\n"
     ]
    }
   ],
   "source": [
    "points = []\n",
    "\n",
    "for i in range(0,len(x)):\n",
    "    points.append((x[i], y[i]))\n",
    "\n",
    "hashmap = from_points(2, points)\n",
    "print hashmap.query((0.0,0.0))\n",
    "\n",
    "hashmap.insert((1.2,1.3))\n",
    "print hashmap.query((0.0,0.0))"
   ]
  },
  {
   "cell_type": "code",
   "execution_count": 35,
   "metadata": {
    "collapsed": false
   },
   "outputs": [],
   "source": [
    "from bs4 import BeautifulSoup\n",
    "import csv\n",
    "f = open('land.kml', 'r')\n",
    "soup=BeautifulSoup(f.read())\n",
    "f.close()\n",
    "csvfile = open('land.csv', 'wb')\n",
    "\n",
    "spamwriter = csv.writer(csvfile, quoting=csv.QUOTE_MINIMAL)\n",
    "for elem in soup.findAll('placemark'):\n",
    "    for ele in elem.findAll('simpledata'):\n",
    "        if ele.get('name').encode('utf-8') == '總價元':\n",
    "            name =  int(ele.text)\n",
    "    coordinates = elem.find('coordinates').text.split(',')\n",
    "    lat = float(coordinates[0])\n",
    "    lon = float(coordinates[1])\n",
    "    spamwriter.writerow([name, lat, lon])\n",
    "csvfile.close()"
   ]
  },
  {
   "cell_type": "code",
   "execution_count": 14,
   "metadata": {
    "collapsed": false
   },
   "outputs": [
    {
     "name": "stdout",
     "output_type": "stream",
     "text": [
      "[[0 0]\n",
      " [0 1]\n",
      " [0 2]\n",
      " [1 0]\n",
      " [1 1]\n",
      " [1 2]\n",
      " [2 0]\n",
      " [2 1]\n",
      " [2 2]]\n",
      "[[ 0.5  0.5]\n",
      " [ 0.5  1.5]\n",
      " [ 0.5  2.5]\n",
      " [ 1.5  0.5]\n",
      " [ 1.5  1.5]\n",
      " [ 1.5  2.5]\n",
      " [ 2.5  0.5]\n",
      " [ 2.5  1.5]\n",
      " [ 2.5  2.5]]\n"
     ]
    }
   ],
   "source": [
    "import numpy as np\n",
    "from itertools import product, izip\n",
    "from scipy.spatial import KDTree\n",
    "\n",
    "pointsXY1 = np.array(list(product(xrange(3), xrange(3))))\n",
    "print pointsXY1\n",
    "k1 = KDTree(pointsXY1)\n",
    "\n",
    "pointsXY2 = np.array(list(product(np.arange(0.5, 3), np.arange(0.5, 3))))\n",
    "print pointsXY2\n",
    "k2 = KDTree(pointsXY2)\n"
   ]
  },
  {
   "cell_type": "code",
   "execution_count": 17,
   "metadata": {
    "collapsed": false
   },
   "outputs": [
    {
     "name": "stdout",
     "output_type": "stream",
     "text": [
      "[[0 0]\n",
      " [0 1]]\n",
      "[[0 0]\n",
      " [0 1]\n",
      " [1 0]]\n",
      "*** [0 0] *** \n",
      "[[ 0.5  0.5]]\n",
      "*** [0 1] *** \n",
      "[[ 0.5  0.5]\n",
      " [ 0.5  1.5]]\n",
      "*** [0 2] *** \n",
      "[[ 0.5  1.5]\n",
      " [ 0.5  2.5]]\n",
      "*** [1 0] *** \n",
      "[[ 0.5  0.5]\n",
      " [ 1.5  0.5]]\n",
      "*** [1 1] *** \n",
      "[[ 0.5  0.5]\n",
      " [ 0.5  1.5]\n",
      " [ 1.5  0.5]\n",
      " [ 1.5  1.5]]\n",
      "*** [1 2] *** \n",
      "[[ 0.5  1.5]\n",
      " [ 0.5  2.5]\n",
      " [ 1.5  1.5]\n",
      " [ 1.5  2.5]]\n",
      "*** [2 0] *** \n",
      "[[ 1.5  0.5]\n",
      " [ 2.5  0.5]]\n",
      "*** [2 1] *** \n",
      "[[ 1.5  0.5]\n",
      " [ 1.5  1.5]\n",
      " [ 2.5  0.5]\n",
      " [ 2.5  1.5]]\n",
      "*** [2 2] *** \n",
      "[[ 1.5  1.5]\n",
      " [ 1.5  2.5]\n",
      " [ 2.5  1.5]\n",
      " [ 2.5  2.5]]\n",
      "[0 0] [0 1]\n",
      "[0 1] [0 2]\n",
      "[1 1] [2 1]\n",
      "[2 0] [2 1]\n",
      "[1 1] [1 2]\n",
      "[2 1] [2 2]\n",
      "[0 1] [1 1]\n",
      "[1 0] [2 0]\n",
      "[0 0] [1 0]\n",
      "[1 0] [1 1]\n",
      "[0 2] [1 2]\n",
      "[1 2] [2 2]\n"
     ]
    }
   ],
   "source": [
    "# X, Y\n",
    "from scipy.spatial import KDTree\n",
    "\n",
    "distances, indices = k1.query((0, 0), k=2)\n",
    "print pointsXY1[indices]\n",
    "indices = k1.query_ball_point((0, 0), 1)\n",
    "print pointsXY1[indices]\n",
    "\n",
    "indexLists = k1.query_ball_tree(k2, 1)\n",
    "for point, indices in izip(pointsXY1, indexLists):\n",
    "    print '*** %s *** ' % point\n",
    "    print pointsXY2[indices]\n",
    "    \n",
    "indexPairs = k1.query_pairs(1)\n",
    "for index1, index2 in indexPairs:\n",
    "    print pointsXY1[index1], pointsXY1[index2]"
   ]
  },
  {
   "cell_type": "code",
   "execution_count": 71,
   "metadata": {
    "collapsed": false
   },
   "outputs": [],
   "source": [
    "import networkx as nx"
   ]
  },
  {
   "cell_type": "code",
   "execution_count": 76,
   "metadata": {
    "collapsed": false
   },
   "outputs": [],
   "source": [
    "graph = nx.Graph()\n",
    "\n",
    "graph.add_edge('台北101', '忠孝敦化', duration=5)\n",
    "graph.add_edge('台北車站', '忠孝復興', duration=10)\n",
    "graph.add_edge('忠孝復興', '忠孝敦化', duration=2)\n",
    "graph.add_edge('忠孝敦化', '敦化南路二段', duration=10)"
   ]
  },
  {
   "cell_type": "code",
   "execution_count": 77,
   "metadata": {
    "collapsed": false
   },
   "outputs": [
    {
     "data": {
      "image/png": "[encoded data removed]",
      "text/plain": [
       "<matplotlib.figure.Figure at 0x311cff98>"
      ]
     },
     "metadata": {},
     "output_type": "display_data"
    }
   ],
   "source": [
    "nx.draw(graph)"
   ]
  },
  {
   "cell_type": "code",
   "execution_count": 78,
   "metadata": {
    "collapsed": false
   },
   "outputs": [
    {
     "name": "stdout",
     "output_type": "stream",
     "text": [
      "忠孝敦化\n"
     ]
    }
   ],
   "source": [
    "print [node for node, connectionCount in nx.degree(graph).iteritems() if connectionCount > 2][0]"
   ]
  },
  {
   "cell_type": "code",
   "execution_count": 79,
   "metadata": {
    "collapsed": false
   },
   "outputs": [
    {
     "data": {
      "image/png": "[encoded data removed]",
      "text/plain": [
       "<matplotlib.figure.Figure at 0xdf2e240>"
      ]
     },
     "metadata": {},
     "output_type": "display_data"
    }
   ],
   "source": [
    "#labels=nx.draw_networkx_labels(graph,pos=nx.spring_layout(graph))\n",
    "nx.draw(graph)"
   ]
  },
  {
   "cell_type": "code",
   "execution_count": 80,
   "metadata": {
    "collapsed": false
   },
   "outputs": [
    {
     "name": "stderr",
     "output_type": "stream",
     "text": [
      "C:\\Anaconda\\lib\\site-packages\\matplotlib\\text.py:52: UnicodeWarning: Unicode equal comparison failed to convert both arguments to Unicode - interpreting them as being unequal\n",
      "  if rotation in ('horizontal', None):\n",
      "C:\\Anaconda\\lib\\site-packages\\matplotlib\\text.py:54: UnicodeWarning: Unicode equal comparison failed to convert both arguments to Unicode - interpreting them as being unequal\n",
      "  elif rotation == 'vertical':\n"
     ]
    },
    {
     "data": {
      "image/png": "[encoded data removed]",
      "text/plain": [
       "<matplotlib.figure.Figure at 0x2ff6a780>"
      ]
     },
     "metadata": {},
     "output_type": "display_data"
    }
   ],
   "source": [
    "import networkx as nx\n",
    "\n",
    "G=nx.Graph()\n",
    "\n",
    "G.add_edge('a','b',weight=32)\n",
    "G.add_edge('a','f',weight=3)\n",
    "G.add_edge('b','c',weight=21)\n",
    "G.add_edge('b','e',weight=12)\n",
    "G.add_edge('b','f',weight=7)\n",
    "G.add_edge('c','e',weight=6)\n",
    "G.add_edge('c','g',weight=11)\n",
    "G.add_edge('c','f',weight=2)\n",
    "G.add_edge('d','e',weight=13)\n",
    "G.add_edge('d','g',weight=9)\n",
    "\n",
    "# positions for all nodes\n",
    "pos=nx.spring_layout(G) \n",
    "\n",
    "# nodes\n",
    "nx.draw_networkx_nodes(G,pos,node_size=700)\n",
    "\n",
    "# edges\n",
    "nx.draw_networkx_edges(G,pos, width=6)\n",
    "\n",
    "# edge label\n",
    "nx.draw_networkx_edge_labels(G,pos, \n",
    "    {\n",
    "        (\"a\",\"b\"):\"32\",(\"a\",\"f\"):\"3\", (\"b\",\"c\"):\"21\", (\"b\",\"e\"):\"12\",(\"b\",\"f\"):\"7\", (\"c\",\"e\"):\"6\",\\\n",
    "        (\"c\",\"g\"):\"11\", (\"d\",\"e\"):\"13\", (\"d\",\"g\"):\"9\", (\"c\",\"f\"):\"2\"\n",
    "    },\n",
    "    label_pos=0.3\n",
    ")\n",
    "\n",
    "# labels\n",
    "nx.draw_networkx_labels(G,pos,font_size=20,font_family='sans-serif')\n",
    "\n",
    "plt.axis('off')\n",
    "plt.savefig(\"weighted_graph.png\") # save as png\n",
    "plt.show() # display"
   ]
  },
  {
   "cell_type": "code",
   "execution_count": 81,
   "metadata": {
    "collapsed": false
   },
   "outputs": [
    {
     "data": {
      "text/plain": [
       "['a', 'f', 'c', 'g']"
      ]
     },
     "execution_count": 81,
     "metadata": {},
     "output_type": "execute_result"
    }
   ],
   "source": [
    "nx.dijkstra_path(G, 'a', 'g', weight='weight')"
   ]
  },
  {
   "cell_type": "code",
   "execution_count": 82,
   "metadata": {
    "collapsed": false
   },
   "outputs": [
    {
     "data": {
      "text/plain": [
       "16"
      ]
     },
     "execution_count": 82,
     "metadata": {},
     "output_type": "execute_result"
    }
   ],
   "source": [
    "nx.dijkstra_path_length(G, 'a', 'g', weight='weight')"
   ]
  },
  {
   "cell_type": "code",
   "execution_count": 83,
   "metadata": {
    "collapsed": false
   },
   "outputs": [
    {
     "data": {
      "text/plain": [
       "['a', 'f', 'c', 'g']"
      ]
     },
     "execution_count": 83,
     "metadata": {},
     "output_type": "execute_result"
    }
   ],
   "source": [
    "nx.astar_path(G, 'a', 'g', weight='weight')"
   ]
  },
  {
   "cell_type": "code",
   "execution_count": 84,
   "metadata": {
    "collapsed": false
   },
   "outputs": [
    {
     "data": {
      "text/plain": [
       "['c', 'b', 'e', 'f']"
      ]
     },
     "execution_count": 84,
     "metadata": {},
     "output_type": "execute_result"
    }
   ],
   "source": [
    "[node for node, connectionCount in nx.degree(G).iteritems() if connectionCount > 2]"
   ]
  },
  {
   "cell_type": "code",
   "execution_count": 85,
   "metadata": {
    "collapsed": false
   },
   "outputs": [],
   "source": [
    "from networkx.algorithms import minimum_spanning_tree\n",
    "optimized_graph = minimum_spanning_tree(G)"
   ]
  },
  {
   "cell_type": "code",
   "execution_count": 86,
   "metadata": {
    "collapsed": false
   },
   "outputs": [
    {
     "data": {
      "text/plain": [
       "[('a', 'f'), ('f', 'c'), ('c', 'e'), ('c', 'g'), ('g', 'd'), ('f', 'b')]"
      ]
     },
     "execution_count": 86,
     "metadata": {},
     "output_type": "execute_result"
    }
   ],
   "source": [
    "from networkx.algorithms import dfs_edges\n",
    "list(dfs_edges(optimized_graph))"
   ]
  }
 ],
 "metadata": {
  "kernelspec": {
   "display_name": "Python 2",
   "language": "python",
   "name": "python2"
  },
  "language_info": {
   "codemirror_mode": {
    "name": "ipython",
    "version": 2
   },
   "file_extension": ".py",
   "mimetype": "text/x-python",
   "name": "python",
   "nbconvert_exporter": "python",
   "pygments_lexer": "ipython2",
   "version": "2.7.10"
  }
 },
 "nbformat": 4,
 "nbformat_minor": 0
}
