{
 "cells": [
  {
   "cell_type": "code",
   "execution_count": 2,
   "metadata": {
    "collapsed": false
   },
   "outputs": [
    {
     "name": "stdout",
     "output_type": "stream",
     "text": [
      "Populating the interactive namespace from numpy and matplotlib\n"
     ]
    }
   ],
   "source": [
    "%pylab inline"
   ]
  },
  {
   "cell_type": "code",
   "execution_count": 3,
   "metadata": {
    "collapsed": false
   },
   "outputs": [
    {
     "name": "stderr",
     "output_type": "stream",
     "text": [
      "C:\\Anaconda\\lib\\site-packages\\matplotlib\\collections.py:590: FutureWarning: elementwise comparison failed; returning scalar instead, but in the future will perform elementwise comparison\n",
      "  if self._edgecolors == str('face'):\n"
     ]
    },
    {
     "data": {
      "image/png": "[encoded data removed]",
      "text/plain": [
       "<matplotlib.figure.Figure at 0x15a0d128>"
      ]
     },
     "metadata": {},
     "output_type": "display_data"
    }
   ],
   "source": [
    "import networkx as nx\n",
    "\n",
    "graph = nx.Graph()\n",
    "graph.add_edge('台北101', '忠孝敦化', duration=5)\n",
    "graph.add_edge('台北車站', '忠孝復興', duration=10)\n",
    "graph.add_edge('忠孝復興', '忠孝敦化', duration=2)\n",
    "graph.add_edge('忠孝敦化', '敦化南路二段', duration=10)\n",
    "\n",
    "nx.draw(graph)\n"
   ]
  },
  {
   "cell_type": "code",
   "execution_count": 4,
   "metadata": {
    "collapsed": false
   },
   "outputs": [
    {
     "name": "stdout",
     "output_type": "stream",
     "text": [
      "Help on package networkx:\n",
      "\n",
      "NAME\n",
      "    networkx\n",
      "\n",
      "FILE\n",
      "    c:\\anaconda\\lib\\site-packages\\networkx\\__init__.py\n",
      "\n",
      "DESCRIPTION\n",
      "    NetworkX\n",
      "    ========\n",
      "    \n",
      "        NetworkX (NX) is a Python package for the creation, manipulation, and\n",
      "        study of the structure, dynamics, and functions of complex networks.\n",
      "    \n",
      "        https://networkx.lanl.gov/\n",
      "    \n",
      "    Using\n",
      "    -----\n",
      "    \n",
      "        Just write in Python\n",
      "    \n",
      "        >>> import networkx as nx\n",
      "        >>> G=nx.Graph()\n",
      "        >>> G.add_edge(1,2)\n",
      "        >>> G.add_node(42)\n",
      "        >>> print(sorted(G.nodes()))\n",
      "        [1, 2, 42]\n",
      "        >>> print(sorted(G.edges()))\n",
      "        [(1, 2)]\n",
      "\n",
      "PACKAGE CONTENTS\n",
      "    algorithms (package)\n",
      "    classes (package)\n",
      "    convert\n",
      "    convert_matrix\n",
      "    drawing (package)\n",
      "    exception\n",
      "    external (package)\n",
      "    generators (package)\n",
      "    linalg (package)\n",
      "    readwrite (package)\n",
      "    relabel\n",
      "    release\n",
      "    testing (package)\n",
      "    tests (package)\n",
      "    utils (package)\n",
      "    version\n",
      "\n",
      "SUBMODULES\n",
      "    adjlist\n",
      "    algebraicconnectivity\n",
      "    all\n",
      "    assortativity\n",
      "    astar\n",
      "    attracting\n",
      "    attrmatrix\n",
      "    betweenness\n",
      "    betweenness_subset\n",
      "    biconnected\n",
      "    binary\n",
      "    bipartite\n",
      "    block\n",
      "    boundary\n",
      "    breadth_first_search\n",
      "    centrality\n",
      "    chordal\n",
      "    chordal_alg\n",
      "    classic\n",
      "    clique\n",
      "    closeness\n",
      "    cluster\n",
      "    communicability_alg\n",
      "    community\n",
      "    components\n",
      "    connected\n",
      "    connectivity\n",
      "    core\n",
      "    correlation\n",
      "    current_flow_betweenness\n",
      "    current_flow_betweenness_subset\n",
      "    current_flow_closeness\n",
      "    cycles\n",
      "    dag\n",
      "    degree_alg\n",
      "    degree_seq\n",
      "    dense\n",
      "    depth_first_search\n",
      "    digraph\n",
      "    directed\n",
      "    distance_measures\n",
      "    distance_regular\n",
      "    dominating\n",
      "    edgelist\n",
      "    ego\n",
      "    eigenvector\n",
      "    euler\n",
      "    flow\n",
      "    flow_matrix\n",
      "    function\n",
      "    generic\n",
      "    geometric\n",
      "    gexf\n",
      "    gml\n",
      "    gpickle\n",
      "    graph\n",
      "    graph6\n",
      "    graphical\n",
      "    graphmatrix\n",
      "    graphml\n",
      "    hierarchy\n",
      "    hits_alg\n",
      "    hybrid\n",
      "    isolate\n",
      "    isomorphism\n",
      "    katz\n",
      "    kclique\n",
      "    laplacianmatrix\n",
      "    layout\n",
      "    leda\n",
      "    line\n",
      "    link_analysis\n",
      "    link_prediction\n",
      "    load\n",
      "    matching\n",
      "    mis\n",
      "    mixing\n",
      "    mst\n",
      "    multidigraph\n",
      "    multigraph\n",
      "    multiline_adjlist\n",
      "    neighbor_degree\n",
      "    nx_agraph\n",
      "    nx_pylab\n",
      "    nx_shp\n",
      "    nx_yaml\n",
      "    operators\n",
      "    pagerank_alg\n",
      "    pairs\n",
      "    pajek\n",
      "    product\n",
      "    random_clustered\n",
      "    random_graphs\n",
      "    recognition\n",
      "    richclub\n",
      "    semiconnected\n",
      "    shortest_paths\n",
      "    simple_paths\n",
      "    small\n",
      "    smetric\n",
      "    social\n",
      "    sparse6\n",
      "    spectrum\n",
      "    stochastic\n",
      "    strongly_connected\n",
      "    swap\n",
      "    threshold\n",
      "    traversal\n",
      "    tree\n",
      "    unary\n",
      "    unweighted\n",
      "    vitality\n",
      "    weakly_connected\n",
      "    weighted\n",
      "\n",
      "DATA\n",
      "    __author__ = 'Aric Hagberg <hagberg@lanl.gov>\\nDan Schult <dschult@col...\n",
      "    __date__ = 'Sat Sep 20 13:09:35 2014'\n",
      "    __license__ = 'BSD'\n",
      "    __version__ = '1.9.1'\n",
      "    absolute_import = _Feature((2, 5, 0, 'alpha', 1), (3, 0, 0, 'alpha', 0...\n",
      "\n",
      "VERSION\n",
      "    1.9.1\n",
      "\n",
      "DATE\n",
      "    Sat Sep 20 13:09:35 2014\n",
      "\n",
      "AUTHOR\n",
      "    Aric Hagberg <hagberg@lanl.gov>\n",
      "    Dan Schult <dschult@colgate.edu>\n",
      "    Pieter Swart <swart@lanl.gov>\n",
      "\n",
      "\n"
     ]
    }
   ],
   "source": [
    "help(nx)"
   ]
  },
  {
   "cell_type": "code",
   "execution_count": 5,
   "metadata": {
    "collapsed": true
   },
   "outputs": [],
   "source": [
    "nx?"
   ]
  },
  {
   "cell_type": "code",
   "execution_count": 6,
   "metadata": {
    "collapsed": false
   },
   "outputs": [
    {
     "data": {
      "text/plain": [
       "['DiGraph',\n",
       " 'Graph',\n",
       " 'GraphMLReader',\n",
       " 'GraphMLWriter',\n",
       " 'LCF_graph',\n",
       " 'MultiDiGraph',\n",
       " 'MultiGraph',\n",
       " 'NetworkXAlgorithmError',\n",
       " 'NetworkXError',\n",
       " 'NetworkXException',\n",
       " 'NetworkXNoPath',\n",
       " 'NetworkXNotImplemented',\n",
       " 'NetworkXPointlessConcept',\n",
       " 'NetworkXTreewidthBoundExceeded',\n",
       " 'NetworkXUnbounded',\n",
       " 'NetworkXUnfeasible',\n",
       " '__author__',\n",
       " '__builtins__',\n",
       " '__date__',\n",
       " '__doc__',\n",
       " '__file__',\n",
       " '__license__',\n",
       " '__name__',\n",
       " '__package__',\n",
       " '__path__',\n",
       " '__version__',\n",
       " 'absolute_import',\n",
       " 'adamic_adar_index',\n",
       " 'adj_matrix',\n",
       " 'adjacency_matrix',\n",
       " 'adjacency_spectrum',\n",
       " 'adjlist',\n",
       " 'algebraic_connectivity',\n",
       " 'algebraicconnectivity',\n",
       " 'algorithms',\n",
       " 'all',\n",
       " 'all_neighbors',\n",
       " 'all_pairs_dijkstra_path',\n",
       " 'all_pairs_dijkstra_path_length',\n",
       " 'all_pairs_node_connectivity',\n",
       " 'all_pairs_shortest_path',\n",
       " 'all_pairs_shortest_path_length',\n",
       " 'all_shortest_paths',\n",
       " 'all_simple_paths',\n",
       " 'ancestors',\n",
       " 'approximate_current_flow_betweenness_centrality',\n",
       " 'articulation_points',\n",
       " 'assortativity',\n",
       " 'astar',\n",
       " 'astar_path',\n",
       " 'astar_path_length',\n",
       " 'attr_matrix',\n",
       " 'attr_sparse_matrix',\n",
       " 'attracting',\n",
       " 'attracting_component_subgraphs',\n",
       " 'attracting_components',\n",
       " 'attribute_assortativity_coefficient',\n",
       " 'attribute_mixing_dict',\n",
       " 'attribute_mixing_matrix',\n",
       " 'attrmatrix',\n",
       " 'authority_matrix',\n",
       " 'average_clustering',\n",
       " 'average_degree_connectivity',\n",
       " 'average_neighbor_degree',\n",
       " 'average_node_connectivity',\n",
       " 'average_shortest_path_length',\n",
       " 'balanced_tree',\n",
       " 'barabasi_albert_graph',\n",
       " 'barbell_graph',\n",
       " 'bellman_ford',\n",
       " 'betweenness',\n",
       " 'betweenness_centrality',\n",
       " 'betweenness_centrality_source',\n",
       " 'betweenness_centrality_subset',\n",
       " 'betweenness_subset',\n",
       " 'bfs_edges',\n",
       " 'bfs_predecessors',\n",
       " 'bfs_successors',\n",
       " 'bfs_tree',\n",
       " 'biconnected',\n",
       " 'biconnected_component_edges',\n",
       " 'biconnected_component_subgraphs',\n",
       " 'biconnected_components',\n",
       " 'bidirectional_dijkstra',\n",
       " 'bidirectional_shortest_path',\n",
       " 'binary',\n",
       " 'binomial_graph',\n",
       " 'bipartite',\n",
       " 'bipartite_alternating_havel_hakimi_graph',\n",
       " 'bipartite_configuration_model',\n",
       " 'bipartite_gnmk_random_graph',\n",
       " 'bipartite_havel_hakimi_graph',\n",
       " 'bipartite_preferential_attachment_graph',\n",
       " 'bipartite_random_graph',\n",
       " 'bipartite_reverse_havel_hakimi_graph',\n",
       " 'block',\n",
       " 'blockmodel',\n",
       " 'boundary',\n",
       " 'breadth_first_search',\n",
       " 'bull_graph',\n",
       " 'capacity_scaling',\n",
       " 'cartesian_product',\n",
       " 'caveman_graph',\n",
       " 'center',\n",
       " 'centrality',\n",
       " 'chordal',\n",
       " 'chordal_alg',\n",
       " 'chordal_graph_cliques',\n",
       " 'chordal_graph_treewidth',\n",
       " 'chvatal_graph',\n",
       " 'circular_ladder_graph',\n",
       " 'circular_layout',\n",
       " 'classes',\n",
       " 'classic',\n",
       " 'clique',\n",
       " 'cliques_containing_node',\n",
       " 'closeness',\n",
       " 'closeness_centrality',\n",
       " 'closeness_vitality',\n",
       " 'cluster',\n",
       " 'clustering',\n",
       " 'cn_soundarajan_hopcroft',\n",
       " 'common_neighbors',\n",
       " 'communicability',\n",
       " 'communicability_alg',\n",
       " 'communicability_betweenness_centrality',\n",
       " 'communicability_centrality',\n",
       " 'communicability_centrality_exp',\n",
       " 'communicability_exp',\n",
       " 'community',\n",
       " 'complement',\n",
       " 'complete_bipartite_graph',\n",
       " 'complete_graph',\n",
       " 'components',\n",
       " 'compose',\n",
       " 'compose_all',\n",
       " 'condensation',\n",
       " 'configuration_model',\n",
       " 'connected',\n",
       " 'connected_caveman_graph',\n",
       " 'connected_component_subgraphs',\n",
       " 'connected_components',\n",
       " 'connected_double_edge_swap',\n",
       " 'connected_watts_strogatz_graph',\n",
       " 'connectivity',\n",
       " 'convert',\n",
       " 'convert_matrix',\n",
       " 'convert_node_labels_to_integers',\n",
       " 'copy',\n",
       " 'core',\n",
       " 'core_number',\n",
       " 'correlation',\n",
       " 'cost_of_flow',\n",
       " 'could_be_isomorphic',\n",
       " 'create_empty_copy',\n",
       " 'cubical_graph',\n",
       " 'current_flow_betweenness',\n",
       " 'current_flow_betweenness_centrality',\n",
       " 'current_flow_betweenness_centrality_subset',\n",
       " 'current_flow_betweenness_subset',\n",
       " 'current_flow_closeness',\n",
       " 'current_flow_closeness_centrality',\n",
       " 'cycle_basis',\n",
       " 'cycle_graph',\n",
       " 'cycles',\n",
       " 'dag',\n",
       " 'davis_southern_women_graph',\n",
       " 'degree',\n",
       " 'degree_alg',\n",
       " 'degree_assortativity_coefficient',\n",
       " 'degree_centrality',\n",
       " 'degree_histogram',\n",
       " 'degree_mixing_dict',\n",
       " 'degree_mixing_matrix',\n",
       " 'degree_pearson_correlation_coefficient',\n",
       " 'degree_seq',\n",
       " 'degree_sequence_tree',\n",
       " 'dense',\n",
       " 'dense_gnm_random_graph',\n",
       " 'density',\n",
       " 'depth_first_search',\n",
       " 'desargues_graph',\n",
       " 'descendants',\n",
       " 'dfs_edges',\n",
       " 'dfs_labeled_edges',\n",
       " 'dfs_postorder_nodes',\n",
       " 'dfs_predecessors',\n",
       " 'dfs_preorder_nodes',\n",
       " 'dfs_successors',\n",
       " 'dfs_tree',\n",
       " 'diameter',\n",
       " 'diamond_graph',\n",
       " 'difference',\n",
       " 'digraph',\n",
       " 'dijkstra_path',\n",
       " 'dijkstra_path_length',\n",
       " 'dijkstra_predecessor_and_distance',\n",
       " 'directed',\n",
       " 'directed_configuration_model',\n",
       " 'directed_havel_hakimi_graph',\n",
       " 'directed_laplacian_matrix',\n",
       " 'disjoint_union',\n",
       " 'disjoint_union_all',\n",
       " 'dispersion',\n",
       " 'distance_measures',\n",
       " 'distance_regular',\n",
       " 'dodecahedral_graph',\n",
       " 'dominating',\n",
       " 'dominating_set',\n",
       " 'dorogovtsev_goltsev_mendes_graph',\n",
       " 'double_edge_swap',\n",
       " 'draw',\n",
       " 'draw_circular',\n",
       " 'draw_graphviz',\n",
       " 'draw_networkx',\n",
       " 'draw_networkx_edge_labels',\n",
       " 'draw_networkx_edges',\n",
       " 'draw_networkx_labels',\n",
       " 'draw_networkx_nodes',\n",
       " 'draw_random',\n",
       " 'draw_shell',\n",
       " 'draw_spectral',\n",
       " 'draw_spring',\n",
       " 'drawing',\n",
       " 'eccentricity',\n",
       " 'edge_betweenness',\n",
       " 'edge_betweenness_centrality',\n",
       " 'edge_betweenness_centrality_subset',\n",
       " 'edge_boundary',\n",
       " 'edge_connectivity',\n",
       " 'edge_current_flow_betweenness_centrality',\n",
       " 'edge_current_flow_betweenness_centrality_subset',\n",
       " 'edge_load',\n",
       " 'edgelist',\n",
       " 'edges',\n",
       " 'edges_iter',\n",
       " 'ego',\n",
       " 'ego_graph',\n",
       " 'eigenvector',\n",
       " 'eigenvector_centrality',\n",
       " 'eigenvector_centrality_numpy',\n",
       " 'empty_graph',\n",
       " 'erdos_renyi_graph',\n",
       " 'estrada_index',\n",
       " 'euler',\n",
       " 'eulerian_circuit',\n",
       " 'exception',\n",
       " 'expected_degree_graph',\n",
       " 'external',\n",
       " 'fast_could_be_isomorphic',\n",
       " 'fast_gnp_random_graph',\n",
       " 'faster_could_be_isomorphic',\n",
       " 'fiedler_vector',\n",
       " 'find_cliques',\n",
       " 'find_cliques_recursive',\n",
       " 'find_cores',\n",
       " 'find_induced_nodes',\n",
       " 'florentine_families_graph',\n",
       " 'flow',\n",
       " 'flow_hierarchy',\n",
       " 'flow_matrix',\n",
       " 'floyd_warshall',\n",
       " 'floyd_warshall_numpy',\n",
       " 'floyd_warshall_predecessor_and_distance',\n",
       " 'freeze',\n",
       " 'from_agraph',\n",
       " 'from_dict_of_dicts',\n",
       " 'from_dict_of_lists',\n",
       " 'from_edgelist',\n",
       " 'from_numpy_matrix',\n",
       " 'from_scipy_sparse_matrix',\n",
       " 'frucht_graph',\n",
       " 'fruchterman_reingold_layout',\n",
       " 'full_rary_tree',\n",
       " 'function',\n",
       " 'gaussian_random_partition_graph',\n",
       " 'general_random_intersection_graph',\n",
       " 'generate_adjlist',\n",
       " 'generate_edgelist',\n",
       " 'generate_gexf',\n",
       " u'generate_gml',\n",
       " 'generate_graph6',\n",
       " 'generate_graphml',\n",
       " 'generate_multiline_adjlist',\n",
       " 'generate_pajek',\n",
       " 'generate_sparse6',\n",
       " 'generators',\n",
       " 'generic',\n",
       " 'geographical_threshold_graph',\n",
       " 'geometric',\n",
       " 'get_edge_attributes',\n",
       " 'get_node_attributes',\n",
       " 'gexf',\n",
       " 'global_parameters',\n",
       " 'gml',\n",
       " 'gn_graph',\n",
       " 'gnc_graph',\n",
       " 'gnm_random_graph',\n",
       " 'gnp_random_graph',\n",
       " 'gnr_graph',\n",
       " 'goldberg_radzik',\n",
       " 'google_matrix',\n",
       " 'gpickle',\n",
       " 'graph',\n",
       " 'graph6',\n",
       " 'graph_clique_number',\n",
       " 'graph_number_of_cliques',\n",
       " 'graphical',\n",
       " 'graphmatrix',\n",
       " 'graphml',\n",
       " 'graphviz_layout',\n",
       " 'grid_2d_graph',\n",
       " 'grid_graph',\n",
       " 'has_path',\n",
       " 'havel_hakimi_graph',\n",
       " 'heawood_graph',\n",
       " 'hierarchy',\n",
       " 'hits',\n",
       " 'hits_alg',\n",
       " 'hits_numpy',\n",
       " 'hits_scipy',\n",
       " 'house_graph',\n",
       " 'house_x_graph',\n",
       " 'hub_matrix',\n",
       " 'hybrid',\n",
       " 'hypercube_graph',\n",
       " 'icosahedral_graph',\n",
       " 'in_degree_centrality',\n",
       " 'incidence_matrix',\n",
       " 'info',\n",
       " 'information_centrality',\n",
       " 'intersection',\n",
       " 'intersection_all',\n",
       " 'intersection_array',\n",
       " 'is_aperiodic',\n",
       " 'is_arborescence',\n",
       " 'is_attracting_component',\n",
       " 'is_biconnected',\n",
       " 'is_bipartite',\n",
       " 'is_branching',\n",
       " 'is_chordal',\n",
       " 'is_connected',\n",
       " 'is_digraphical',\n",
       " 'is_directed',\n",
       " 'is_directed_acyclic_graph',\n",
       " 'is_distance_regular',\n",
       " 'is_dominating_set',\n",
       " 'is_eulerian',\n",
       " 'is_forest',\n",
       " 'is_frozen',\n",
       " 'is_graphical',\n",
       " 'is_isolate',\n",
       " 'is_isomorphic',\n",
       " 'is_kl_connected',\n",
       " 'is_multigraphical',\n",
       " 'is_pseudographical',\n",
       " 'is_semiconnected',\n",
       " 'is_strongly_connected',\n",
       " 'is_tree',\n",
       " 'is_valid_degree_sequence',\n",
       " 'is_valid_degree_sequence_erdos_gallai',\n",
       " 'is_valid_degree_sequence_havel_hakimi',\n",
       " 'is_weakly_connected',\n",
       " 'isolate',\n",
       " 'isolates',\n",
       " 'isomorphism',\n",
       " 'jaccard_coefficient',\n",
       " 'k_clique_communities',\n",
       " 'k_core',\n",
       " 'k_corona',\n",
       " 'k_crust',\n",
       " 'k_nearest_neighbors',\n",
       " 'k_random_intersection_graph',\n",
       " 'k_shell',\n",
       " 'karate_club_graph',\n",
       " 'katz',\n",
       " 'katz_centrality',\n",
       " 'katz_centrality_numpy',\n",
       " 'kclique',\n",
       " 'kl_connected_subgraph',\n",
       " 'kosaraju_strongly_connected_components',\n",
       " 'krackhardt_kite_graph',\n",
       " 'kruskal_mst',\n",
       " 'ladder_graph',\n",
       " 'laplacian_matrix',\n",
       " 'laplacian_spectrum',\n",
       " 'laplacianmatrix',\n",
       " 'layout',\n",
       " 'leda',\n",
       " 'lexicographic_product',\n",
       " 'linalg',\n",
       " 'line',\n",
       " 'line_graph',\n",
       " 'link_analysis',\n",
       " 'link_prediction',\n",
       " 'load',\n",
       " 'load_centrality',\n",
       " 'lollipop_graph',\n",
       " 'make_clique_bipartite',\n",
       " 'make_max_clique_graph',\n",
       " 'make_small_graph',\n",
       " 'matching',\n",
       " 'max_flow_min_cost',\n",
       " 'max_weight_matching',\n",
       " 'maximal_independent_set',\n",
       " 'maximal_matching',\n",
       " 'maximum_flow',\n",
       " 'maximum_flow_value',\n",
       " 'min_cost_flow',\n",
       " 'min_cost_flow_cost',\n",
       " 'minimum_cut',\n",
       " 'minimum_cut_value',\n",
       " 'minimum_edge_cut',\n",
       " 'minimum_node_cut',\n",
       " 'minimum_spanning_edges',\n",
       " 'minimum_spanning_tree',\n",
       " 'mis',\n",
       " 'mixing',\n",
       " 'mixing_dict',\n",
       " 'moebius_kantor_graph',\n",
       " 'mst',\n",
       " 'multidigraph',\n",
       " 'multigraph',\n",
       " 'multiline_adjlist',\n",
       " 'navigable_small_world_graph',\n",
       " 'negative_edge_cycle',\n",
       " 'neighbor_degree',\n",
       " 'neighbors',\n",
       " 'network_simplex',\n",
       " 'networkx',\n",
       " 'newman_watts_strogatz_graph',\n",
       " 'node_attribute_xy',\n",
       " 'node_boundary',\n",
       " 'node_clique_number',\n",
       " 'node_connected_component',\n",
       " 'node_connectivity',\n",
       " 'node_degree_xy',\n",
       " 'nodes',\n",
       " 'nodes_iter',\n",
       " 'non_edges',\n",
       " 'non_neighbors',\n",
       " 'normalized_laplacian_matrix',\n",
       " 'null_graph',\n",
       " 'number_attracting_components',\n",
       " 'number_connected_components',\n",
       " 'number_of_cliques',\n",
       " 'number_of_edges',\n",
       " 'number_of_nodes',\n",
       " 'number_strongly_connected_components',\n",
       " 'number_weakly_connected_components',\n",
       " 'numeric_assortativity_coefficient',\n",
       " 'numeric_mixing_matrix',\n",
       " 'nx',\n",
       " 'nx_agraph',\n",
       " 'nx_pylab',\n",
       " 'nx_shp',\n",
       " 'nx_yaml',\n",
       " 'octahedral_graph',\n",
       " 'operators',\n",
       " 'out_degree_centrality',\n",
       " 'pagerank',\n",
       " 'pagerank_alg',\n",
       " 'pagerank_numpy',\n",
       " 'pagerank_scipy',\n",
       " 'pairs',\n",
       " 'pajek',\n",
       " 'pappus_graph',\n",
       " 'parse_adjlist',\n",
       " 'parse_edgelist',\n",
       " u'parse_gml',\n",
       " 'parse_graph6',\n",
       " 'parse_graphml',\n",
       " 'parse_leda',\n",
       " 'parse_multiline_adjlist',\n",
       " 'parse_pajek',\n",
       " 'parse_sparse6',\n",
       " 'path_graph',\n",
       " 'periphery',\n",
       " 'petersen_graph',\n",
       " 'planted_partition_graph',\n",
       " 'powerlaw_cluster_graph',\n",
       " 'predecessor',\n",
       " 'preferential_attachment',\n",
       " 'prim_mst',\n",
       " 'prim_mst_edges',\n",
       " 'product',\n",
       " 'project',\n",
       " 'project_down',\n",
       " 'project_up',\n",
       " 'projected_graph',\n",
       " 'pygraphviz_layout',\n",
       " 'ra_index_soundarajan_hopcroft',\n",
       " 'radius',\n",
       " 'random_clustered',\n",
       " 'random_clustered_graph',\n",
       " 'random_degree_sequence_graph',\n",
       " 'random_geometric_graph',\n",
       " 'random_graphs',\n",
       " 'random_layout',\n",
       " 'random_lobster',\n",
       " 'random_partition_graph',\n",
       " 'random_powerlaw_tree',\n",
       " 'random_powerlaw_tree_sequence',\n",
       " 'random_regular_graph',\n",
       " 'random_shell_graph',\n",
       " 'read_adjlist',\n",
       " 'read_dot',\n",
       " 'read_edgelist',\n",
       " 'read_gexf',\n",
       " u'read_gml',\n",
       " 'read_gpickle',\n",
       " 'read_graph6',\n",
       " 'read_graphml',\n",
       " 'read_leda',\n",
       " 'read_multiline_adjlist',\n",
       " 'read_pajek',\n",
       " 'read_shp',\n",
       " 'read_sparse6',\n",
       " 'read_weighted_edgelist',\n",
       " 'read_yaml',\n",
       " 'readwrite',\n",
       " 'recognition',\n",
       " 'recursive_simple_cycles',\n",
       " 'relabel',\n",
       " 'relabel_gexf_graph',\n",
       " 'relabel_nodes',\n",
       " 'relaxed_caveman_graph',\n",
       " 'release',\n",
       " 'resource_allocation_index',\n",
       " 'reverse',\n",
       " 'rich_club_coefficient',\n",
       " 'richclub',\n",
       " 's_metric',\n",
       " 'scale_free_graph',\n",
       " 'sedgewick_maze_graph',\n",
       " 'semiconnected',\n",
       " 'set_edge_attributes',\n",
       " 'set_node_attributes',\n",
       " 'shell_layout',\n",
       " 'shortest_path',\n",
       " 'shortest_path_length',\n",
       " 'shortest_paths',\n",
       " 'simple_cycles',\n",
       " 'simple_paths',\n",
       " 'single_source_dijkstra',\n",
       " 'single_source_dijkstra_path',\n",
       " 'single_source_dijkstra_path_length',\n",
       " 'single_source_shortest_path',\n",
       " 'single_source_shortest_path_length',\n",
       " 'small',\n",
       " 'smetric',\n",
       " 'social',\n",
       " 'sparse6',\n",
       " 'spectral_layout',\n",
       " 'spectral_ordering',\n",
       " 'spectrum',\n",
       " 'spring_layout',\n",
       " 'square_clustering',\n",
       " 'star_graph',\n",
       " 'stochastic',\n",
       " 'stochastic_graph',\n",
       " 'stoer_wagner',\n",
       " 'strong_product',\n",
       " 'strongly_connected',\n",
       " 'strongly_connected_component_subgraphs',\n",
       " 'strongly_connected_components',\n",
       " 'strongly_connected_components_recursive',\n",
       " 'subgraph',\n",
       " 'swap',\n",
       " 'symmetric_difference',\n",
       " 'sys',\n",
       " 'tensor_product',\n",
       " 'test',\n",
       " 'tests',\n",
       " 'tetrahedral_graph',\n",
       " 'threshold',\n",
       " 'to_agraph',\n",
       " 'to_dict_of_dicts',\n",
       " 'to_dict_of_lists',\n",
       " 'to_edgelist',\n",
       " 'to_networkx_graph',\n",
       " 'to_numpy_matrix',\n",
       " 'to_numpy_recarray',\n",
       " 'to_scipy_sparse_matrix',\n",
       " 'topological_sort',\n",
       " 'topological_sort_recursive',\n",
       " 'transitivity',\n",
       " 'traversal',\n",
       " 'tree',\n",
       " 'triangles',\n",
       " 'trivial_graph',\n",
       " 'truncated_cube_graph',\n",
       " 'truncated_tetrahedron_graph',\n",
       " 'tutte_graph',\n",
       " 'unary',\n",
       " 'uniform_random_intersection_graph',\n",
       " 'union',\n",
       " 'union_all',\n",
       " 'unweighted',\n",
       " 'utils',\n",
       " 'view_pygraphviz',\n",
       " 'vitality',\n",
       " 'watts_strogatz_graph',\n",
       " 'waxman_graph',\n",
       " 'weakly_connected',\n",
       " 'weakly_connected_component_subgraphs',\n",
       " 'weakly_connected_components',\n",
       " 'weighted',\n",
       " 'wheel_graph',\n",
       " 'within_inter_cluster',\n",
       " 'write_adjlist',\n",
       " 'write_dot',\n",
       " 'write_edgelist',\n",
       " 'write_gexf',\n",
       " u'write_gml',\n",
       " 'write_gpickle',\n",
       " 'write_graph6',\n",
       " 'write_graphml',\n",
       " 'write_multiline_adjlist',\n",
       " 'write_pajek',\n",
       " 'write_shp',\n",
       " 'write_sparse6',\n",
       " 'write_weighted_edgelist',\n",
       " 'write_yaml']"
      ]
     },
     "execution_count": 6,
     "metadata": {},
     "output_type": "execute_result"
    }
   ],
   "source": [
    "dir(nx)"
   ]
  },
  {
   "cell_type": "code",
   "execution_count": 7,
   "metadata": {
    "collapsed": false
   },
   "outputs": [
    {
     "name": "stdout",
     "output_type": "stream",
     "text": [
      "忠孝敦化\n"
     ]
    }
   ],
   "source": [
    "print [node for node, connectionCount in nx.degree(graph).iteritems() if connectionCount > 2][0]"
   ]
  },
  {
   "cell_type": "code",
   "execution_count": 9,
   "metadata": {
    "collapsed": false
   },
   "outputs": [
    {
     "data": {
      "image/png": "[encoded data removed]",
      "text/plain": [
       "<matplotlib.figure.Figure at 0x15eaeb70>"
      ]
     },
     "metadata": {},
     "output_type": "display_data"
    }
   ],
   "source": [
    "import networkx as nx\n",
    "\n",
    "G=nx.Graph()\n",
    "\n",
    "G.add_edge('a','b',weight=32)\n",
    "G.add_edge('a','f',weight=3)\n",
    "G.add_edge('b','c',weight=21)\n",
    "G.add_edge('b','e',weight=12)\n",
    "G.add_edge('b','f',weight=7)\n",
    "G.add_edge('c','e',weight=6)\n",
    "G.add_edge('c','g',weight=11)\n",
    "G.add_edge('c','f',weight=2)\n",
    "G.add_edge('d','e',weight=13)\n",
    "G.add_edge('d','g',weight=9)\n",
    "\n",
    "nx.draw(G)\n",
    "# positions for all nodes\n",
    "#pos=nx.spring_layout(G) "
   ]
  },
  {
   "cell_type": "code",
   "execution_count": 10,
   "metadata": {
    "collapsed": false
   },
   "outputs": [
    {
     "name": "stderr",
     "output_type": "stream",
     "text": [
      "C:\\Anaconda\\lib\\site-packages\\matplotlib\\text.py:52: UnicodeWarning: Unicode equal comparison failed to convert both arguments to Unicode - interpreting them as being unequal\n",
      "  if rotation in ('horizontal', None):\n",
      "C:\\Anaconda\\lib\\site-packages\\matplotlib\\text.py:54: UnicodeWarning: Unicode equal comparison failed to convert both arguments to Unicode - interpreting them as being unequal\n",
      "  elif rotation == 'vertical':\n"
     ]
    },
    {
     "data": {
      "image/png": "[encoded data removed]",
      "text/plain": [
       "<matplotlib.figure.Figure at 0x160b1978>"
      ]
     },
     "metadata": {},
     "output_type": "display_data"
    }
   ],
   "source": [
    "pos=nx.spring_layout(G) \n",
    "\n",
    "# nodes\n",
    "nx.draw_networkx_nodes(G,pos,node_size=700)\n",
    "\n",
    "# edges\n",
    "nx.draw_networkx_edges(G,pos, width=6)\n",
    "\n",
    "# edge label\n",
    "nx.draw_networkx_edge_labels(G,pos, \n",
    "    {\n",
    "        (\"a\",\"b\"):\"32\",(\"a\",\"f\"):\"3\", (\"b\",\"c\"):\"21\", (\"b\",\"e\"):\"12\",(\"b\",\"f\"):\"7\", (\"c\",\"e\"):\"6\",\\\n",
    "        (\"c\",\"g\"):\"11\", (\"d\",\"e\"):\"13\", (\"d\",\"g\"):\"9\", (\"c\",\"f\"):\"2\"\n",
    "    },\n",
    "    label_pos=0.3\n",
    ")\n",
    "\n",
    "# labels\n",
    "nx.draw_networkx_labels(G,pos,font_size=20,font_family='sans-serif')\n",
    "\n",
    "plt.axis('off')\n",
    "plt.savefig(\"weighted_graph.png\") # save as png\n",
    "plt.show() # display"
   ]
  },
  {
   "cell_type": "code",
   "execution_count": 13,
   "metadata": {
    "collapsed": false
   },
   "outputs": [
    {
     "name": "stdout",
     "output_type": "stream",
     "text": [
      "['a', 'f', 'c', 'g']\n",
      "16\n"
     ]
    }
   ],
   "source": [
    "print nx.dijkstra_path(G, 'a', 'g', weight='weight')\n",
    "#['a', 'f', 'c', 'g']\n",
    "print nx.dijkstra_path_length(G, 'a', 'g', weight='weight')\n",
    "#16"
   ]
  },
  {
   "cell_type": "code",
   "execution_count": 14,
   "metadata": {
    "collapsed": false
   },
   "outputs": [
    {
     "data": {
      "text/plain": [
       "['a', 'f', 'c', 'g']"
      ]
     },
     "execution_count": 14,
     "metadata": {},
     "output_type": "execute_result"
    }
   ],
   "source": [
    "nx.astar_path(G, 'a', 'g', weight='weight')"
   ]
  },
  {
   "cell_type": "code",
   "execution_count": 17,
   "metadata": {
    "collapsed": true
   },
   "outputs": [],
   "source": [
    "from urllib import urlopen, urlencode\n",
    "from json import loads\n",
    "\n",
    "def geocode(address):\n",
    "    url = 'https://maps.googleapis.com/maps/api/geocode/json?' + urlencode([\n",
    "        ('address', address),\n",
    "        ('sensor', 'false'),\n",
    "    ])\n",
    "    json = loads(urlopen(url).read())\n",
    "    result = json['results'][0]\n",
    "    formattedAddress = result['formatted_address']\n",
    "    location = result['geometry']['location']\n",
    "    longitude, latitude = location['lng'], location['lat']\n",
    "    return dict(address=formattedAddress, longitude=longitude, latitude=latitude)\n",
    "\n",
    "def geocodeLL(address):\n",
    "    valueByKey = geocode(address)\n",
    "    return valueByKey['longitude'], valueByKey['latitude']\n"
   ]
  },
  {
   "cell_type": "code",
   "execution_count": 96,
   "metadata": {
    "collapsed": false
   },
   "outputs": [
    {
     "name": "stdout",
     "output_type": "stream",
     "text": [
      "[(121.5483674, 25.0224805), (121.5322985, 25.0463777), (121.549902, 25.0505355), (121.5644722, 25.0339639), (121.5273658, 25.0254571), (121.5453446, 25.023387), (121.575843, 24.9862332), (121.545936, 25.094537), (121.5394534, 25.1360953), (121.5530316, 25.0322455), (121.5416515, 25.0130679), (121.5397518, 25.0173405)]\n"
     ]
    }
   ],
   "source": [
    "from pysal.cg.kdtree import Arc_KDTree\n",
    "earthRadiusInMeters = 6378100\n",
    "\n",
    "address = [\"台北市敦化南路二段206號\", \"台北市復興北路一段13號\",\\\n",
    "            \"小巨蛋\", \"台北101\", \"台灣師範大學\", \"台北教育大學\", \"政治大學\",\\\n",
    "            \"東吳大學\", \"文化大學\", \"台北市安和路二段23巷11號\", \"台灣科技大學\",\\\n",
    "            \"台灣大學\" ]\n",
    "\n",
    "pointsLL = []\n",
    "for add in address:\n",
    "    pointsLL.append(geocodeLL(add))\n",
    "print pointsLL"
   ]
  },
  {
   "cell_type": "code",
   "execution_count": 97,
   "metadata": {
    "collapsed": true
   },
   "outputs": [],
   "source": [
    "from itertools import product, izip\n",
    "k3 = Arc_KDTree(pointsLL, radius=earthRadiusInMeters)\n"
   ]
  },
  {
   "cell_type": "code",
   "execution_count": 98,
   "metadata": {
    "collapsed": false
   },
   "outputs": [],
   "source": [
    "import networkx as nx\n",
    "\n",
    "G=nx.Graph()\n"
   ]
  },
  {
   "cell_type": "code",
   "execution_count": 99,
   "metadata": {
    "collapsed": false
   },
   "outputs": [
    {
     "name": "stdout",
     "output_type": "stream",
     "text": [
      "(121.5483674, 25.0224805)\n",
      "(121.5322985, 25.0463777)\n",
      "(121.549902, 25.0505355)\n",
      "(121.5644722, 25.0339639)\n",
      "(121.5273658, 25.0254571)\n",
      "(121.5453446, 25.023387)\n",
      "(121.575843, 24.9862332)\n",
      "(121.545936, 25.094537)\n",
      "(121.5394534, 25.1360953)\n",
      "(121.5530316, 25.0322455)\n",
      "(121.5416515, 25.0130679)\n",
      "(121.5397518, 25.0173405)\n"
     ]
    }
   ],
   "source": [
    "for point in pointsLL:\n",
    "    print point "
   ]
  },
  {
   "cell_type": "code",
   "execution_count": 100,
   "metadata": {
    "collapsed": false
   },
   "outputs": [
    {
     "name": "stdout",
     "output_type": "stream",
     "text": [
      "(121.5483674, 25.0224805) 台北市敦化南路二段206號\n",
      "(array([    0.        ,   321.17516794,  1040.52289201]), array([ 0,  5, 11]))\n"
     ]
    }
   ],
   "source": [
    "print pointsLL[0], address[0]\n",
    "print k3.query( pointsLL[0], 3)"
   ]
  },
  {
   "cell_type": "code",
   "execution_count": 101,
   "metadata": {
    "collapsed": false
   },
   "outputs": [
    {
     "name": "stdout",
     "output_type": "stream",
     "text": [
      "[    0.           321.17516794  1040.52289201]\n",
      "[ 0  5 11]\n",
      "台北市敦化南路二段206號\n",
      "台北教育大學\n",
      "台灣大學\n"
     ]
    }
   ],
   "source": [
    "distances, indices =  k3.query( pointsLL[0], 3)\n",
    "print distances\n",
    "print indices\n",
    "\n",
    "for idx in indices:\n",
    "    print address[idx]"
   ]
  },
  {
   "cell_type": "code",
   "execution_count": 102,
   "metadata": {
    "collapsed": false
   },
   "outputs": [],
   "source": [
    "for point in pointsLL:\n",
    "    distances, indices = k3.query(point, 3)\n",
    "    G.add_edge(indices[0], indices[1], weight=distances[1])\n",
    "    G.add_edge(indices[0], indices[2], weight=distances[2])"
   ]
  },
  {
   "cell_type": "code",
   "execution_count": 105,
   "metadata": {
    "collapsed": false
   },
   "outputs": [
    {
     "data": {
      "image/png": "[encoded data removed]",
      "text/plain": [
       "<matplotlib.figure.Figure at 0x18b35a58>"
      ]
     },
     "metadata": {},
     "output_type": "display_data"
    }
   ],
   "source": [
    "pos=nx.spring_layout(G) \n",
    "\n",
    "# nodes\n",
    "nx.draw_networkx_nodes(G,pos,node_size=700)\n",
    "\n",
    "# edges\n",
    "nx.draw_networkx_edges(G,pos, width=6)\n",
    "\n",
    "# edge label\n",
    "nx.draw_networkx_edge_labels(G,pos,     label_pos=0.3\n",
    ")\n",
    "# labels\n",
    "nx.draw_networkx_labels(G,pos,font_size=20,font_family='sans-serif')\n",
    "\n",
    "plt.axis('off')\n",
    "plt.savefig(\"weighted_graph.png\") # save as png\n",
    "plt.show() # display"
   ]
  },
  {
   "cell_type": "code",
   "execution_count": 106,
   "metadata": {
    "collapsed": false
   },
   "outputs": [
    {
     "name": "stdout",
     "output_type": "stream",
     "text": [
      "台灣師範大學\n",
      "台灣大學\n",
      "台灣科技大學\n",
      "政治大學\n",
      "6617.85299703\n"
     ]
    }
   ],
   "source": [
    "address = [\"台北市敦化南路二段206號\", \"台北市復興北路一段13號\",\\\n",
    "            \"小巨蛋\", \"台北101\", \"台灣師範大學\", \"台北教育大學\", \"政治大學\",\\\n",
    "            \"東吳大學\", \"文化大學\", \"台北市安和路二段23巷11號\", \"台灣科技大學\",\\\n",
    "            \"台灣大學\" ]\n",
    "for ele in nx.dijkstra_path(G, 4, 6, weight='weight'):\n",
    "    print address[ele]\n",
    "\n",
    "print nx.dijkstra_path_length(G, 4, 6, weight='weight')"
   ]
  },
  {
   "cell_type": "code",
   "execution_count": null,
   "metadata": {
    "collapsed": true
   },
   "outputs": [],
   "source": [
    "from networkx.algorithms import minimum_spanning_tree\n",
    "optimized_graph = minimum_spanning_tree(G)\n",
    "\n",
    "from networkx.algorithms import dfs_edges\n",
    "list(dfs_edges(optimized_graph))\n"
   ]
  },
  {
   "cell_type": "code",
   "execution_count": 91,
   "metadata": {
    "collapsed": false
   },
   "outputs": [
    {
     "data": {
      "image/png": "[encoded data removed]",
      "text/plain": [
       "<matplotlib.figure.Figure at 0x160a64a8>"
      ]
     },
     "metadata": {},
     "output_type": "display_data"
    }
   ],
   "source": [
    "import networkx as nx\n",
    "\n",
    "G=nx.Graph()\n",
    "\n",
    "G.add_edge('a','b',weight=32)\n",
    "G.add_edge('a','f',weight=3)\n",
    "G.add_edge('b','c',weight=21)\n",
    "G.add_edge('b','e',weight=12)\n",
    "G.add_edge('b','f',weight=7)\n",
    "G.add_edge('c','e',weight=6)\n",
    "G.add_edge('c','g',weight=11)\n",
    "G.add_edge('c','f',weight=2)\n",
    "G.add_edge('d','e',weight=13)\n",
    "G.add_edge('d','g',weight=9)\n",
    "\n",
    "pos=nx.spring_layout(G) \n",
    "\n",
    "# nodes\n",
    "nx.draw_networkx_nodes(G,pos,node_size=700)\n",
    "\n",
    "# edges\n",
    "nx.draw_networkx_edges(G,pos, width=6)\n",
    "\n",
    "# edge label\n",
    "nx.draw_networkx_edge_labels(G,pos, \n",
    "    {\n",
    "        (\"a\",\"b\"):\"32\",(\"a\",\"f\"):\"3\", (\"b\",\"c\"):\"21\", (\"b\",\"e\"):\"12\",(\"b\",\"f\"):\"7\", (\"c\",\"e\"):\"6\",\\\n",
    "        (\"c\",\"g\"):\"11\", (\"d\",\"e\"):\"13\", (\"d\",\"g\"):\"9\", (\"c\",\"f\"):\"2\"\n",
    "    },\n",
    "    label_pos=0.3\n",
    ")\n",
    "\n",
    "# labels\n",
    "nx.draw_networkx_labels(G,pos,font_size=20,font_family='sans-serif')\n",
    "\n",
    "plt.axis('off')\n",
    "plt.savefig(\"weighted_graph.png\") # save as png\n",
    "plt.show() # display"
   ]
  },
  {
   "cell_type": "code",
   "execution_count": 109,
   "metadata": {
    "collapsed": false
   },
   "outputs": [
    {
     "name": "stdout",
     "output_type": "stream",
     "text": [
      " 台北市敦化南路二段206號 台北市安和路二段23巷11號\n",
      "台北市安和路二段23巷11號 小巨蛋\n",
      "小巨蛋 台北市復興北路一段13號\n",
      "小巨蛋 東吳大學\n",
      "東吳大學 文化大學\n",
      "台北市安和路二段23巷11號 台北101\n",
      "台北市敦化南路二段206號 台北教育大學\n",
      "台北教育大學 台灣大學\n",
      "台灣大學 台灣科技大學\n",
      "台灣科技大學 政治大學\n",
      "台灣大學 台灣師範大學\n"
     ]
    }
   ],
   "source": [
    "from networkx.algorithms import minimum_spanning_tree\n",
    "optimized_graph = minimum_spanning_tree(G)\n",
    "\n",
    "from networkx.algorithms import dfs_edges\n",
    "#list(dfs_edges(optimized_graph))\n",
    "for spot in list(dfs_edges(optimized_graph)):\n",
    "    print address[spot[0]], address[spot[1]]"
   ]
  },
  {
   "cell_type": "code",
   "execution_count": 113,
   "metadata": {
    "collapsed": false,
    "scrolled": true
   },
   "outputs": [
    {
     "data": {
      "image/png": "[encoded data removed]",
      "text/plain": [
       "<matplotlib.figure.Figure at 0x197d3400>"
      ]
     },
     "metadata": {},
     "output_type": "display_data"
    }
   ],
   "source": [
    "pos=nx.spring_layout(optimized_graph) \n",
    "\n",
    "# nodes\n",
    "nx.draw_networkx_nodes(optimized_graph,pos,node_size=700)\n",
    "\n",
    "# edges\n",
    "nx.draw_networkx_edges(optimized_graph,pos, width=6)\n",
    "\n",
    "# labels\n",
    "nx.draw_networkx_labels(optimized_graph,pos,font_size=20,font_family='sans-serif')\n",
    "\n",
    "plt.axis('off')\n",
    "plt.savefig(\"weighted_graph.png\") # save as png\n",
    "plt.show() # display"
   ]
  },
  {
   "cell_type": "code",
   "execution_count": 95,
   "metadata": {
    "collapsed": false
   },
   "outputs": [
    {
     "data": {
      "image/png": "[encoded data removed]",
      "text/plain": [
       "<matplotlib.figure.Figure at 0x18b59160>"
      ]
     },
     "metadata": {},
     "output_type": "display_data"
    }
   ],
   "source": [
    "pos=nx.spring_layout(optimized_graph) \n",
    "\n",
    "# nodes\n",
    "nx.draw_networkx_nodes(optimized_graph,pos,node_size=700)\n",
    "\n",
    "# edges\n",
    "nx.draw_networkx_edges(optimized_graph,pos, width=6)\n",
    "\n",
    "# labels\n",
    "nx.draw_networkx_labels(optimized_graph,pos,font_size=20,font_family='sans-serif')\n",
    "\n",
    "plt.axis('off')\n",
    "plt.savefig(\"weighted_graph.png\") # save as png\n",
    "plt.show() # display"
   ]
  },
  {
   "cell_type": "code",
   "execution_count": null,
   "metadata": {
    "collapsed": true
   },
   "outputs": [],
   "source": []
  }
 ],
 "metadata": {
  "kernelspec": {
   "display_name": "Python 2",
   "language": "python",
   "name": "python2"
  },
  "language_info": {
   "codemirror_mode": {
    "name": "ipython",
    "version": 2
   },
   "file_extension": ".py",
   "mimetype": "text/x-python",
   "name": "python",
   "nbconvert_exporter": "python",
   "pygments_lexer": "ipython2",
   "version": "2.7.10"
  }
 },
 "nbformat": 4,
 "nbformat_minor": 0
}
