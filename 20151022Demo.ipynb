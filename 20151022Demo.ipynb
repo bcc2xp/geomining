{
 "cells": [
  {
   "cell_type": "code",
   "execution_count": 1,
   "metadata": {
    "collapsed": false
   },
   "outputs": [
    {
     "data": {
      "text/plain": [
       "{frozenset({'c'}): 4,\n",
       " frozenset({'b', 'c'}): 3,\n",
       " frozenset({'a', 'c'}): 2,\n",
       " frozenset({'b'}): 4,\n",
       " frozenset({'a'}): 3}"
      ]
     },
     "execution_count": 1,
     "metadata": {},
     "output_type": "execute_result"
    }
   ],
   "source": [
    "from pymining import itemmining\n",
    "transactions = (('a', 'b', 'c'), ('b'), ('a'), ('a', 'c', 'd'), ('b', 'c'), ('b', 'c'))\n",
    "relim_input = itemmining.get_relim_input(transactions)\n",
    "report = itemmining.relim(relim_input, min_support=2)\n",
    "report"
   ]
  },
  {
   "cell_type": "code",
   "execution_count": 3,
   "metadata": {
    "collapsed": false
   },
   "outputs": [
    {
     "name": "stdout",
     "output_type": "stream",
     "text": [
      "(('a', 'd'), ('a', 'c', 'd', 'e'), ('b', 'd'), ('b', 'c', 'd'), ('b', 'c'), ('a', 'b', 'd'), ('b', 'd', 'e'), ('b', 'c', 'd', 'e'), ('b', 'c'), ('a', 'b', 'd'))\n"
     ]
    }
   ],
   "source": [
    "from pymining import itemmining, assocrules, perftesting\n",
    "transactions = perftesting.get_default_transactions()\n",
    "print transactions\n"
   ]
  },
  {
   "cell_type": "code",
   "execution_count": 4,
   "metadata": {
    "collapsed": false
   },
   "outputs": [
    {
     "data": {
      "text/plain": [
       "[(frozenset({'d', 'e'}), frozenset({'b'}), 2, 0.6666666666666666),\n",
       " (frozenset({'e'}), frozenset({'b', 'd'}), 2, 0.6666666666666666),\n",
       " (frozenset({'b', 'e'}), frozenset({'d'}), 2, 1.0),\n",
       " (frozenset({'c', 'd'}), frozenset({'b'}), 2, 0.6666666666666666),\n",
       " (frozenset({'b', 'c'}), frozenset({'d'}), 2, 0.5),\n",
       " (frozenset({'a', 'd'}), frozenset({'b'}), 2, 0.5),\n",
       " (frozenset({'a'}), frozenset({'b', 'd'}), 2, 0.5),\n",
       " (frozenset({'a', 'b'}), frozenset({'d'}), 2, 1.0),\n",
       " (frozenset({'d', 'e'}), frozenset({'c'}), 2, 0.6666666666666666),\n",
       " (frozenset({'e'}), frozenset({'c', 'd'}), 2, 0.6666666666666666),\n",
       " (frozenset({'c', 'd'}), frozenset({'e'}), 2, 0.6666666666666666),\n",
       " (frozenset({'c', 'e'}), frozenset({'d'}), 2, 1.0),\n",
       " (frozenset({'e'}), frozenset({'c'}), 2, 0.6666666666666666),\n",
       " (frozenset({'d'}), frozenset({'a'}), 4, 0.5),\n",
       " (frozenset({'a'}), frozenset({'d'}), 4, 1.0),\n",
       " (frozenset({'d'}), frozenset({'b'}), 6, 0.75),\n",
       " (frozenset({'b'}), frozenset({'d'}), 6, 0.75),\n",
       " (frozenset({'e'}), frozenset({'b'}), 2, 0.6666666666666666),\n",
       " (frozenset({'b'}), frozenset({'c'}), 4, 0.5),\n",
       " (frozenset({'c'}), frozenset({'b'}), 4, 0.8),\n",
       " (frozenset({'c'}), frozenset({'d'}), 3, 0.6),\n",
       " (frozenset({'a'}), frozenset({'b'}), 2, 0.5),\n",
       " (frozenset({'e'}), frozenset({'d'}), 3, 1.0)]"
      ]
     },
     "execution_count": 4,
     "metadata": {},
     "output_type": "execute_result"
    }
   ],
   "source": [
    "relim_input = itemmining.get_relim_input(transactions)\n",
    "item_sets = itemmining.relim(relim_input, min_support=2)\n",
    "rules = assocrules.mine_assoc_rules(item_sets, min_support=2, min_confidence=0.5)\n",
    "rules"
   ]
  },
  {
   "cell_type": "code",
   "execution_count": 5,
   "metadata": {
    "collapsed": false
   },
   "outputs": [
    {
     "name": "stdout",
     "output_type": "stream",
     "text": [
      "0.491\n",
      "0.530\n",
      "0.022\n",
      "0.363\n",
      "0.006\n"
     ]
    }
   ],
   "source": [
    "import random\n",
    "\n",
    "for i in xrange(5):\n",
    "    print '%04.3f' % random.random()"
   ]
  },
  {
   "cell_type": "code",
   "execution_count": 6,
   "metadata": {
    "collapsed": false
   },
   "outputs": [
    {
     "name": "stdout",
     "output_type": "stream",
     "text": [
      "4.515\n",
      "9.714\n",
      "6.571\n",
      "3.363\n",
      "9.166\n"
     ]
    }
   ],
   "source": [
    "for i in xrange(5):\n",
    "    print '%04.3f' % (random.random() * 10)"
   ]
  },
  {
   "cell_type": "code",
   "execution_count": 7,
   "metadata": {
    "collapsed": true
   },
   "outputs": [],
   "source": [
    "import matplotlib.pyplot as plt\n",
    "\n",
    "x = []\n",
    "y = []\n",
    "for i in xrange(5):\n",
    "    x.append(random.random()*10)\n",
    "\n",
    "for i in xrange(5):\n",
    "    y.append(random.random()*10)"
   ]
  },
  {
   "cell_type": "code",
   "execution_count": 8,
   "metadata": {
    "collapsed": false
   },
   "outputs": [
    {
     "name": "stdout",
     "output_type": "stream",
     "text": [
      "[1.265270765454518, 8.21396364010895, 0.9505553243343545, 2.7304400537289517, 7.460910486149689]\n"
     ]
    }
   ],
   "source": [
    "print x"
   ]
  },
  {
   "cell_type": "code",
   "execution_count": 9,
   "metadata": {
    "collapsed": false
   },
   "outputs": [
    {
     "name": "stdout",
     "output_type": "stream",
     "text": [
      "[7.527206998035174, 3.953129003939504, 7.783551204556652, 3.2943456909274236, 1.7979372052085396]\n"
     ]
    }
   ],
   "source": [
    "print y"
   ]
  },
  {
   "cell_type": "code",
   "execution_count": 10,
   "metadata": {
    "collapsed": false
   },
   "outputs": [
    {
     "name": "stdout",
     "output_type": "stream",
     "text": [
      "Populating the interactive namespace from numpy and matplotlib\n"
     ]
    },
    {
     "name": "stderr",
     "output_type": "stream",
     "text": [
      "WARNING: pylab import has clobbered these variables: ['random']\n",
      "`%matplotlib` prevents importing * from pylab and numpy\n"
     ]
    }
   ],
   "source": [
    "%pylab inline"
   ]
  },
  {
   "cell_type": "code",
   "execution_count": 11,
   "metadata": {
    "collapsed": false
   },
   "outputs": [
    {
     "name": "stderr",
     "output_type": "stream",
     "text": [
      "C:\\Python27\\lib\\site-packages\\matplotlib\\collections.py:590: FutureWarning: elementwise comparison failed; returning scalar instead, but in the future will perform elementwise comparison\n",
      "  if self._edgecolors == str('face'):\n"
     ]
    },
    {
     "data": {
      "image/png": "[encoded data removed]",
      "text/plain": [
       "<matplotlib.figure.Figure at 0x5d11770>"
      ]
     },
     "metadata": {},
     "output_type": "display_data"
    }
   ],
   "source": [
    "import matplotlib.pyplot as plt\n",
    "\n",
    "fig = plt.figure()\n",
    "ax = fig.gca()\n",
    "plt.scatter(x,y)\n",
    "plt.grid()\n",
    "plt.show()"
   ]
  },
  {
   "cell_type": "code",
   "execution_count": 12,
   "metadata": {
    "collapsed": false
   },
   "outputs": [
    {
     "name": "stdout",
     "output_type": "stream",
     "text": [
      "0.731732637448 0.785667562601\n",
      "1.79474564339 0.932925915542\n",
      "1.20489120992 1.66113806963\n",
      "2.20033219068 1.18434251845\n",
      "2.38742539849 2.15005140074\n",
      "3.83219382722 2.62386746239\n"
     ]
    }
   ],
   "source": [
    "path = [[0,0], [1,0], [1,1], [2,1], [2,2], [3,2]]\n",
    "\n",
    "for x,y in path:\n",
    "    print x +random.random(), y + random.random()"
   ]
  },
  {
   "cell_type": "code",
   "execution_count": 13,
   "metadata": {
    "collapsed": true
   },
   "outputs": [],
   "source": [
    "xcoord = []\n",
    "ycoord = []\n",
    "path = [[0,0], [1,0], [1,1], [2,1], [2,2], [3,2]]\n",
    "\n",
    "for x,y in path:\n",
    "    xcoord.append(x +random.random())\n",
    "    ycoord.append(y + random.random())"
   ]
  },
  {
   "cell_type": "code",
   "execution_count": 15,
   "metadata": {
    "collapsed": false
   },
   "outputs": [
    {
     "data": {
      "image/png": "[encoded data removed]",
      "text/plain": [
       "<matplotlib.figure.Figure at 0x5f85110>"
      ]
     },
     "metadata": {},
     "output_type": "display_data"
    }
   ],
   "source": [
    "fig = plt.figure()\n",
    "ax = fig.gca()\n",
    "plt.scatter(xcoord,ycoord)\n",
    "ax.set_xticks(range(0,10,1))\n",
    "ax.set_yticks(range(0,10,1))\n",
    "plt.grid()\n",
    "plt.show()"
   ]
  },
  {
   "cell_type": "code",
   "execution_count": 16,
   "metadata": {
    "collapsed": true
   },
   "outputs": [],
   "source": [
    "path = [[0,0], [1,0], [1,1], [2,1], [2,2], [3,2]]\n",
    "\n",
    "for i in xrange(5):\n",
    "    for x,y in path:\n",
    "        xcoord.append(x +random.random())\n",
    "        ycoord.append(y + random.random())"
   ]
  },
  {
   "cell_type": "code",
   "execution_count": 17,
   "metadata": {
    "collapsed": false
   },
   "outputs": [
    {
     "data": {
      "image/png": "[encoded data removed]",
      "text/plain": [
       "<matplotlib.figure.Figure at 0x60ae250>"
      ]
     },
     "metadata": {},
     "output_type": "display_data"
    }
   ],
   "source": [
    "fig = plt.figure()\n",
    "ax = fig.gca()\n",
    "plt.scatter(xcoord,ycoord)\n",
    "ax.set_xticks(range(0,10,1))\n",
    "ax.set_yticks(range(0,10,1))\n",
    "plt.grid()\n",
    "plt.show()"
   ]
  },
  {
   "cell_type": "code",
   "execution_count": 18,
   "metadata": {
    "collapsed": false
   },
   "outputs": [
    {
     "name": "stdout",
     "output_type": "stream",
     "text": [
      "3\n"
     ]
    }
   ],
   "source": [
    "paths = [ [[0,0], [0,1], [0,2], [0,3], [1,3], [1,4]] ,\n",
    "          [[0,0], [1,0], [1,1], [2,1], [2,2], [3,2]] ,\n",
    "          [[0,0], [1,0], [2,0], [3,0], [4,0]]\n",
    "        ]\n",
    "\n",
    "print len(paths)"
   ]
  },
  {
   "cell_type": "code",
   "execution_count": 24,
   "metadata": {
    "collapsed": false
   },
   "outputs": [
    {
     "name": "stdout",
     "output_type": "stream",
     "text": [
      "[[[0, 0], [0, 1], [0, 2], [0, 3], [1, 3], [1, 4]], [[0, 0], [1, 0], [1, 1], [2, 1], [2, 2], [3, 2]], [[0, 0], [1, 0], [2, 0], [3, 0], [4, 0]]]\n",
      "[[0, 0], [1, 0], [2, 0], [3, 0], [4, 0]]\n"
     ]
    }
   ],
   "source": [
    "print paths\n",
    "print random.choice(paths)"
   ]
  },
  {
   "cell_type": "code",
   "execution_count": 22,
   "metadata": {
    "collapsed": true
   },
   "outputs": [],
   "source": [
    "def genCoords(path):\n",
    "    coord = []\n",
    "    for x,y in path:\n",
    "        coord.append([x +random.random(), y + random.random()])\n",
    "    return coord"
   ]
  },
  {
   "cell_type": "code",
   "execution_count": 25,
   "metadata": {
    "collapsed": true
   },
   "outputs": [],
   "source": [
    "user = []\n",
    "xcoord = []\n",
    "ycoord = []\n",
    "for i in range(1,100):\n",
    "    for x,y in genCoords(random.choice(paths)):\n",
    "        user.append(i)\n",
    "        xcoord.append(x)\n",
    "        ycoord.append(y)"
   ]
  },
  {
   "cell_type": "code",
   "execution_count": 26,
   "metadata": {
    "collapsed": false
   },
   "outputs": [
    {
     "data": {
      "image/png": "[encoded data removed]",
      "text/plain": [
       "<matplotlib.figure.Figure at 0x61f7ad0>"
      ]
     },
     "metadata": {},
     "output_type": "display_data"
    }
   ],
   "source": [
    "fig = plt.figure()\n",
    "ax = fig.gca()\n",
    "plt.scatter(xcoord,ycoord)\n",
    "ax.set_xticks(range(0,10,1))\n",
    "ax.set_yticks(range(0,10,1))\n",
    "plt.grid()\n",
    "plt.show()"
   ]
  },
  {
   "cell_type": "code",
   "execution_count": 28,
   "metadata": {
    "collapsed": true
   },
   "outputs": [],
   "source": [
    "def nodeConversion(x,y,cell_size):\n",
    "    return (\n",
    "            int((math.floor(x/cell_size))*cell_size),\n",
    "            int((math.floor(y/cell_size))*cell_size)\n",
    "        )"
   ]
  },
  {
   "cell_type": "code",
   "execution_count": 31,
   "metadata": {
    "collapsed": false
   },
   "outputs": [
    {
     "name": "stdout",
     "output_type": "stream",
     "text": [
      "(0, 1)\n",
      "(2, 3)\n",
      "(2, 2)\n"
     ]
    }
   ],
   "source": [
    "print nodeConversion(0.3, 1.2, 1)\n",
    "\n",
    "print nodeConversion(2.3, 3.2, 1)\n",
    "\n",
    "print nodeConversion(2.3, 3.2, 2)"
   ]
  },
  {
   "cell_type": "code",
   "execution_count": 33,
   "metadata": {
    "collapsed": false
   },
   "outputs": [],
   "source": [
    "points = []\n",
    "\n",
    "x_proj = []\n",
    "y_proj = []\n",
    "\n",
    "for i in range(0,len(xcoord)):\n",
    "    x,y =  nodeConversion(xcoord[i], ycoord[i],1)\n",
    "    #print user[i], x, y"
   ]
  },
  {
   "cell_type": "code",
   "execution_count": 34,
   "metadata": {
    "collapsed": false
   },
   "outputs": [
    {
     "name": "stdout",
     "output_type": "stream",
     "text": [
      "{1: [(0, 0), (1, 0), (2, 0), (3, 0), (4, 0)], 2: [(0, 0), (1, 0), (2, 0), (3, 0), (4, 0)], 3: [(0, 0), (1, 0), (1, 1), (2, 1), (2, 2), (3, 2)], 4: [(0, 0), (1, 0), (2, 0), (3, 0), (4, 0)], 5: [(0, 0), (1, 0), (1, 1), (2, 1), (2, 2), (3, 2)], 6: [(0, 0), (1, 0), (2, 0), (3, 0), (4, 0)], 7: [(0, 0), (0, 1), (0, 2), (0, 3), (1, 3), (1, 4)], 8: [(0, 0), (1, 0), (2, 0), (3, 0), (4, 0)], 9: [(0, 0), (0, 1), (0, 2), (0, 3), (1, 3), (1, 4)], 10: [(0, 0), (1, 0), (1, 1), (2, 1), (2, 2), (3, 2)], 11: [(0, 0), (1, 0), (1, 1), (2, 1), (2, 2), (3, 2)], 12: [(0, 0), (0, 1), (0, 2), (0, 3), (1, 3), (1, 4)], 13: [(0, 0), (1, 0), (1, 1), (2, 1), (2, 2), (3, 2)], 14: [(0, 0), (1, 0), (1, 1), (2, 1), (2, 2), (3, 2)], 15: [(0, 0), (1, 0), (2, 0), (3, 0), (4, 0)], 16: [(0, 0), (1, 0), (2, 0), (3, 0), (4, 0)], 17: [(0, 0), (1, 0), (1, 1), (2, 1), (2, 2), (3, 2)], 18: [(0, 0), (1, 0), (1, 1), (2, 1), (2, 2), (3, 2)], 19: [(0, 0), (1, 0), (2, 0), (3, 0), (4, 0)], 20: [(0, 0), (0, 1), (0, 2), (0, 3), (1, 3), (1, 4)], 21: [(0, 0), (1, 0), (2, 0), (3, 0), (4, 0)], 22: [(0, 0), (1, 0), (2, 0), (3, 0), (4, 0)], 23: [(0, 0), (1, 0), (2, 0), (3, 0), (4, 0)], 24: [(0, 0), (1, 0), (1, 1), (2, 1), (2, 2), (3, 2)], 25: [(0, 0), (1, 0), (2, 0), (3, 0), (4, 0)], 26: [(0, 0), (1, 0), (2, 0), (3, 0), (4, 0)], 27: [(0, 0), (1, 0), (2, 0), (3, 0), (4, 0)], 28: [(0, 0), (0, 1), (0, 2), (0, 3), (1, 3), (1, 4)], 29: [(0, 0), (0, 1), (0, 2), (0, 3), (1, 3), (1, 4)], 30: [(0, 0), (1, 0), (1, 1), (2, 1), (2, 2), (3, 2)], 31: [(0, 0), (1, 0), (1, 1), (2, 1), (2, 2), (3, 2)], 32: [(0, 0), (1, 0), (2, 0), (3, 0), (4, 0)], 33: [(0, 0), (1, 0), (1, 1), (2, 1), (2, 2), (3, 2)], 34: [(0, 0), (1, 0), (2, 0), (3, 0), (4, 0)], 35: [(0, 0), (1, 0), (1, 1), (2, 1), (2, 2), (3, 2)], 36: [(0, 0), (1, 0), (1, 1), (2, 1), (2, 2), (3, 2)], 37: [(0, 0), (1, 0), (1, 1), (2, 1), (2, 2), (3, 2)], 38: [(0, 0), (1, 0), (1, 1), (2, 1), (2, 2), (3, 2)], 39: [(0, 0), (1, 0), (2, 0), (3, 0), (4, 0)], 40: [(0, 0), (1, 0), (1, 1), (2, 1), (2, 2), (3, 2)], 41: [(0, 0), (1, 0), (1, 1), (2, 1), (2, 2), (3, 2)], 42: [(0, 0), (1, 0), (2, 0), (3, 0), (4, 0)], 43: [(0, 0), (1, 0), (1, 1), (2, 1), (2, 2), (3, 2)], 44: [(0, 0), (1, 0), (2, 0), (3, 0), (4, 0)], 45: [(0, 0), (1, 0), (1, 1), (2, 1), (2, 2), (3, 2)], 46: [(0, 0), (1, 0), (1, 1), (2, 1), (2, 2), (3, 2)], 47: [(0, 0), (1, 0), (1, 1), (2, 1), (2, 2), (3, 2)], 48: [(0, 0), (1, 0), (2, 0), (3, 0), (4, 0)], 49: [(0, 0), (1, 0), (2, 0), (3, 0), (4, 0)], 50: [(0, 0), (1, 0), (2, 0), (3, 0), (4, 0)], 51: [(0, 0), (1, 0), (2, 0), (3, 0), (4, 0)], 52: [(0, 0), (1, 0), (1, 1), (2, 1), (2, 2), (3, 2)], 53: [(0, 0), (0, 1), (0, 2), (0, 3), (1, 3), (1, 4)], 54: [(0, 0), (0, 1), (0, 2), (0, 3), (1, 3), (1, 4)], 55: [(0, 0), (1, 0), (1, 1), (2, 1), (2, 2), (3, 2)], 56: [(0, 0), (1, 0), (1, 1), (2, 1), (2, 2), (3, 2)], 57: [(0, 0), (0, 1), (0, 2), (0, 3), (1, 3), (1, 4)], 58: [(0, 0), (0, 1), (0, 2), (0, 3), (1, 3), (1, 4)], 59: [(0, 0), (1, 0), (1, 1), (2, 1), (2, 2), (3, 2)], 60: [(0, 0), (0, 1), (0, 2), (0, 3), (1, 3), (1, 4)], 61: [(0, 0), (1, 0), (1, 1), (2, 1), (2, 2), (3, 2)], 62: [(0, 0), (1, 0), (1, 1), (2, 1), (2, 2), (3, 2)], 63: [(0, 0), (1, 0), (2, 0), (3, 0), (4, 0)], 64: [(0, 0), (1, 0), (1, 1), (2, 1), (2, 2), (3, 2)], 65: [(0, 0), (1, 0), (1, 1), (2, 1), (2, 2), (3, 2)], 66: [(0, 0), (1, 0), (2, 0), (3, 0), (4, 0)], 67: [(0, 0), (1, 0), (1, 1), (2, 1), (2, 2), (3, 2)], 68: [(0, 0), (1, 0), (2, 0), (3, 0), (4, 0)], 69: [(0, 0), (0, 1), (0, 2), (0, 3), (1, 3), (1, 4)], 70: [(0, 0), (0, 1), (0, 2), (0, 3), (1, 3), (1, 4)], 71: [(0, 0), (1, 0), (2, 0), (3, 0), (4, 0)], 72: [(0, 0), (1, 0), (2, 0), (3, 0), (4, 0)], 73: [(0, 0), (1, 0), (2, 0), (3, 0), (4, 0)], 74: [(0, 0), (1, 0), (1, 1), (2, 1), (2, 2), (3, 2)], 75: [(0, 0), (0, 1), (0, 2), (0, 3), (1, 3), (1, 4)], 76: [(0, 0), (1, 0), (1, 1), (2, 1), (2, 2), (3, 2)], 77: [(0, 0), (0, 1), (0, 2), (0, 3), (1, 3), (1, 4)], 78: [(0, 0), (1, 0), (2, 0), (3, 0), (4, 0)], 79: [(0, 0), (1, 0), (1, 1), (2, 1), (2, 2), (3, 2)], 80: [(0, 0), (1, 0), (1, 1), (2, 1), (2, 2), (3, 2)], 81: [(0, 0), (0, 1), (0, 2), (0, 3), (1, 3), (1, 4)], 82: [(0, 0), (1, 0), (1, 1), (2, 1), (2, 2), (3, 2)], 83: [(0, 0), (0, 1), (0, 2), (0, 3), (1, 3), (1, 4)], 84: [(0, 0), (0, 1), (0, 2), (0, 3), (1, 3), (1, 4)], 85: [(0, 0), (1, 0), (1, 1), (2, 1), (2, 2), (3, 2)], 86: [(0, 0), (1, 0), (2, 0), (3, 0), (4, 0)], 87: [(0, 0), (1, 0), (2, 0), (3, 0), (4, 0)], 88: [(0, 0), (1, 0), (1, 1), (2, 1), (2, 2), (3, 2)], 89: [(0, 0), (1, 0), (2, 0), (3, 0), (4, 0)], 90: [(0, 0), (0, 1), (0, 2), (0, 3), (1, 3), (1, 4)], 91: [(0, 0), (1, 0), (2, 0), (3, 0), (4, 0)], 92: [(0, 0), (1, 0), (1, 1), (2, 1), (2, 2), (3, 2)], 93: [(0, 0), (1, 0), (2, 0), (3, 0), (4, 0)], 94: [(0, 0), (1, 0), (1, 1), (2, 1), (2, 2), (3, 2)], 95: [(0, 0), (1, 0), (2, 0), (3, 0), (4, 0)], 96: [(0, 0), (1, 0), (2, 0), (3, 0), (4, 0)], 97: [(0, 0), (1, 0), (2, 0), (3, 0), (4, 0)], 98: [(0, 0), (1, 0), (2, 0), (3, 0), (4, 0)], 99: [(0, 0), (1, 0), (1, 1), (2, 1), (2, 2), (3, 2)]}\n"
     ]
    }
   ],
   "source": [
    "user_path = {}\n",
    "\n",
    "for i in range(0,len(xcoord)):\n",
    "    x,y =  nodeConversion(xcoord[i], ycoord[i],1)\n",
    "    if user[i] not in user_path:\n",
    "        user_path[user[i]] = [(x,y)]\n",
    "    else:\n",
    "        user_path[user[i]].append((x,y))\n",
    "print user_path"
   ]
  },
  {
   "cell_type": "code",
   "execution_count": 38,
   "metadata": {
    "collapsed": false
   },
   "outputs": [
    {
     "name": "stdout",
     "output_type": "stream",
     "text": [
      "1 2 3 4 5 6 7 8 9 10 11 12 13 14 15 16 17 18 19 20 21 22 23 24 25 26 27 28 29 30 31 32 33 34 35 36 37 38 39 40 41 42 43 44 45 46 47 48 49 50 51 52 53 54 55 56 57 58 59 60 61 62 63 64 65 66 67 68 69 70 71 72 73 74 75 76 77 78 79 80 81 82 83 84 85 86 87 88 89 90 91 92 93 94 95 96 97 98 99\n"
     ]
    }
   ],
   "source": [
    "for key in user_path:\n",
    "    print key, \n",
    "    "
   ]
  },
  {
   "cell_type": "code",
   "execution_count": 39,
   "metadata": {
    "collapsed": true
   },
   "outputs": [],
   "source": [
    "trajectory = []\n",
    "for key in user_path:\n",
    "    trajectory.append(tuple(user_path[key]))"
   ]
  },
  {
   "cell_type": "code",
   "execution_count": 40,
   "metadata": {
    "collapsed": false
   },
   "outputs": [
    {
     "name": "stdout",
     "output_type": "stream",
     "text": [
      "[((0, 0), (1, 0), (2, 0), (3, 0), (4, 0)), ((0, 0), (1, 0), (2, 0), (3, 0), (4, 0)), ((0, 0), (1, 0), (1, 1), (2, 1), (2, 2), (3, 2)), ((0, 0), (1, 0), (2, 0), (3, 0), (4, 0)), ((0, 0), (1, 0), (1, 1), (2, 1), (2, 2), (3, 2)), ((0, 0), (1, 0), (2, 0), (3, 0), (4, 0)), ((0, 0), (0, 1), (0, 2), (0, 3), (1, 3), (1, 4)), ((0, 0), (1, 0), (2, 0), (3, 0), (4, 0)), ((0, 0), (0, 1), (0, 2), (0, 3), (1, 3), (1, 4)), ((0, 0), (1, 0), (1, 1), (2, 1), (2, 2), (3, 2)), ((0, 0), (1, 0), (1, 1), (2, 1), (2, 2), (3, 2)), ((0, 0), (0, 1), (0, 2), (0, 3), (1, 3), (1, 4)), ((0, 0), (1, 0), (1, 1), (2, 1), (2, 2), (3, 2)), ((0, 0), (1, 0), (1, 1), (2, 1), (2, 2), (3, 2)), ((0, 0), (1, 0), (2, 0), (3, 0), (4, 0)), ((0, 0), (1, 0), (2, 0), (3, 0), (4, 0)), ((0, 0), (1, 0), (1, 1), (2, 1), (2, 2), (3, 2)), ((0, 0), (1, 0), (1, 1), (2, 1), (2, 2), (3, 2)), ((0, 0), (1, 0), (2, 0), (3, 0), (4, 0)), ((0, 0), (0, 1), (0, 2), (0, 3), (1, 3), (1, 4)), ((0, 0), (1, 0), (2, 0), (3, 0), (4, 0)), ((0, 0), (1, 0), (2, 0), (3, 0), (4, 0)), ((0, 0), (1, 0), (2, 0), (3, 0), (4, 0)), ((0, 0), (1, 0), (1, 1), (2, 1), (2, 2), (3, 2)), ((0, 0), (1, 0), (2, 0), (3, 0), (4, 0)), ((0, 0), (1, 0), (2, 0), (3, 0), (4, 0)), ((0, 0), (1, 0), (2, 0), (3, 0), (4, 0)), ((0, 0), (0, 1), (0, 2), (0, 3), (1, 3), (1, 4)), ((0, 0), (0, 1), (0, 2), (0, 3), (1, 3), (1, 4)), ((0, 0), (1, 0), (1, 1), (2, 1), (2, 2), (3, 2)), ((0, 0), (1, 0), (1, 1), (2, 1), (2, 2), (3, 2)), ((0, 0), (1, 0), (2, 0), (3, 0), (4, 0)), ((0, 0), (1, 0), (1, 1), (2, 1), (2, 2), (3, 2)), ((0, 0), (1, 0), (2, 0), (3, 0), (4, 0)), ((0, 0), (1, 0), (1, 1), (2, 1), (2, 2), (3, 2)), ((0, 0), (1, 0), (1, 1), (2, 1), (2, 2), (3, 2)), ((0, 0), (1, 0), (1, 1), (2, 1), (2, 2), (3, 2)), ((0, 0), (1, 0), (1, 1), (2, 1), (2, 2), (3, 2)), ((0, 0), (1, 0), (2, 0), (3, 0), (4, 0)), ((0, 0), (1, 0), (1, 1), (2, 1), (2, 2), (3, 2)), ((0, 0), (1, 0), (1, 1), (2, 1), (2, 2), (3, 2)), ((0, 0), (1, 0), (2, 0), (3, 0), (4, 0)), ((0, 0), (1, 0), (1, 1), (2, 1), (2, 2), (3, 2)), ((0, 0), (1, 0), (2, 0), (3, 0), (4, 0)), ((0, 0), (1, 0), (1, 1), (2, 1), (2, 2), (3, 2)), ((0, 0), (1, 0), (1, 1), (2, 1), (2, 2), (3, 2)), ((0, 0), (1, 0), (1, 1), (2, 1), (2, 2), (3, 2)), ((0, 0), (1, 0), (2, 0), (3, 0), (4, 0)), ((0, 0), (1, 0), (2, 0), (3, 0), (4, 0)), ((0, 0), (1, 0), (2, 0), (3, 0), (4, 0)), ((0, 0), (1, 0), (2, 0), (3, 0), (4, 0)), ((0, 0), (1, 0), (1, 1), (2, 1), (2, 2), (3, 2)), ((0, 0), (0, 1), (0, 2), (0, 3), (1, 3), (1, 4)), ((0, 0), (0, 1), (0, 2), (0, 3), (1, 3), (1, 4)), ((0, 0), (1, 0), (1, 1), (2, 1), (2, 2), (3, 2)), ((0, 0), (1, 0), (1, 1), (2, 1), (2, 2), (3, 2)), ((0, 0), (0, 1), (0, 2), (0, 3), (1, 3), (1, 4)), ((0, 0), (0, 1), (0, 2), (0, 3), (1, 3), (1, 4)), ((0, 0), (1, 0), (1, 1), (2, 1), (2, 2), (3, 2)), ((0, 0), (0, 1), (0, 2), (0, 3), (1, 3), (1, 4)), ((0, 0), (1, 0), (1, 1), (2, 1), (2, 2), (3, 2)), ((0, 0), (1, 0), (1, 1), (2, 1), (2, 2), (3, 2)), ((0, 0), (1, 0), (2, 0), (3, 0), (4, 0)), ((0, 0), (1, 0), (1, 1), (2, 1), (2, 2), (3, 2)), ((0, 0), (1, 0), (1, 1), (2, 1), (2, 2), (3, 2)), ((0, 0), (1, 0), (2, 0), (3, 0), (4, 0)), ((0, 0), (1, 0), (1, 1), (2, 1), (2, 2), (3, 2)), ((0, 0), (1, 0), (2, 0), (3, 0), (4, 0)), ((0, 0), (0, 1), (0, 2), (0, 3), (1, 3), (1, 4)), ((0, 0), (0, 1), (0, 2), (0, 3), (1, 3), (1, 4)), ((0, 0), (1, 0), (2, 0), (3, 0), (4, 0)), ((0, 0), (1, 0), (2, 0), (3, 0), (4, 0)), ((0, 0), (1, 0), (2, 0), (3, 0), (4, 0)), ((0, 0), (1, 0), (1, 1), (2, 1), (2, 2), (3, 2)), ((0, 0), (0, 1), (0, 2), (0, 3), (1, 3), (1, 4)), ((0, 0), (1, 0), (1, 1), (2, 1), (2, 2), (3, 2)), ((0, 0), (0, 1), (0, 2), (0, 3), (1, 3), (1, 4)), ((0, 0), (1, 0), (2, 0), (3, 0), (4, 0)), ((0, 0), (1, 0), (1, 1), (2, 1), (2, 2), (3, 2)), ((0, 0), (1, 0), (1, 1), (2, 1), (2, 2), (3, 2)), ((0, 0), (0, 1), (0, 2), (0, 3), (1, 3), (1, 4)), ((0, 0), (1, 0), (1, 1), (2, 1), (2, 2), (3, 2)), ((0, 0), (0, 1), (0, 2), (0, 3), (1, 3), (1, 4)), ((0, 0), (0, 1), (0, 2), (0, 3), (1, 3), (1, 4)), ((0, 0), (1, 0), (1, 1), (2, 1), (2, 2), (3, 2)), ((0, 0), (1, 0), (2, 0), (3, 0), (4, 0)), ((0, 0), (1, 0), (2, 0), (3, 0), (4, 0)), ((0, 0), (1, 0), (1, 1), (2, 1), (2, 2), (3, 2)), ((0, 0), (1, 0), (2, 0), (3, 0), (4, 0)), ((0, 0), (0, 1), (0, 2), (0, 3), (1, 3), (1, 4)), ((0, 0), (1, 0), (2, 0), (3, 0), (4, 0)), ((0, 0), (1, 0), (1, 1), (2, 1), (2, 2), (3, 2)), ((0, 0), (1, 0), (2, 0), (3, 0), (4, 0)), ((0, 0), (1, 0), (1, 1), (2, 1), (2, 2), (3, 2)), ((0, 0), (1, 0), (2, 0), (3, 0), (4, 0)), ((0, 0), (1, 0), (2, 0), (3, 0), (4, 0)), ((0, 0), (1, 0), (2, 0), (3, 0), (4, 0)), ((0, 0), (1, 0), (2, 0), (3, 0), (4, 0)), ((0, 0), (1, 0), (1, 1), (2, 1), (2, 2), (3, 2))]\n"
     ]
    }
   ],
   "source": [
    "print trajectory"
   ]
  },
  {
   "cell_type": "code",
   "execution_count": 49,
   "metadata": {
    "collapsed": false
   },
   "outputs": [
    {
     "name": "stdout",
     "output_type": "stream",
     "text": [
      "(((0, 0), (1, 0), (3, 0), (4, 0)), 39)\n",
      "(((0, 0), (0, 2), (0, 3), (1, 3), (1, 4)), 19)\n",
      "(((0, 0), (0, 1), (0, 2), (1, 3)), 19)\n",
      "(((0, 0), (1, 0), (2, 0), (3, 0)), 39)\n",
      "(((0, 0), (0, 2), (0, 3), (1, 3)), 19)\n",
      "(((0, 0), (1, 0), (1, 1), (2, 2)), 41)\n",
      "(((0, 0), (0, 1), (0, 3), (1, 4)), 19)\n",
      "(((0, 0), (1, 0), (2, 2), (3, 2)), 41)\n",
      "(((0, 1), (0, 2), (1, 3), (1, 4)), 19)\n",
      "(((1, 0), (2, 0), (3, 0), (4, 0)), 39)\n",
      "(((1, 0), (2, 1), (2, 2), (3, 2)), 41)\n",
      "(((1, 0), (1, 1), (2, 1), (3, 2)), 41)\n",
      "(((0, 0), (0, 1), (0, 3), (1, 3), (1, 4)), 19)\n",
      "(((0, 0), (0, 1), (0, 2), (0, 3)), 19)\n",
      "(((1, 0), (1, 1), (2, 1), (2, 2)), 41)\n",
      "(((0, 0), (1, 0), (2, 1), (3, 2)), 41)\n",
      "(((0, 2), (0, 3), (1, 3), (1, 4)), 19)\n",
      "(((0, 0), (0, 1), (0, 2), (0, 3), (1, 3), (1, 4)), 19)\n",
      "(((0, 0), (2, 1), (2, 2), (3, 2)), 41)\n",
      "(((1, 0), (1, 1), (2, 2), (3, 2)), 41)\n",
      "(((0, 0), (1, 0), (1, 1), (2, 1), (3, 2)), 41)\n",
      "(((0, 0), (1, 0), (1, 1), (2, 1), (2, 2), (3, 2)), 41)\n",
      "(((0, 0), (0, 1), (0, 2), (1, 4)), 19)\n",
      "(((0, 0), (1, 1), (2, 1), (3, 2)), 41)\n",
      "(((0, 0), (1, 1), (2, 1), (2, 2)), 41)\n",
      "(((0, 0), (2, 0), (3, 0), (4, 0)), 39)\n",
      "(((0, 0), (1, 0), (2, 1), (2, 2)), 41)\n",
      "(((0, 0), (1, 0), (2, 0), (4, 0)), 39)\n",
      "(((0, 1), (0, 2), (0, 3), (1, 3), (1, 4)), 19)\n",
      "(((0, 0), (0, 3), (1, 3), (1, 4)), 19)\n",
      "(((0, 0), (1, 1), (2, 1), (2, 2), (3, 2)), 41)\n",
      "(((0, 0), (0, 1), (0, 2), (1, 3), (1, 4)), 19)\n",
      "(((0, 0), (0, 1), (0, 2), (0, 3), (1, 4)), 19)\n",
      "(((0, 0), (1, 0), (2, 1), (2, 2), (3, 2)), 41)\n",
      "(((0, 0), (1, 0), (2, 0), (3, 0), (4, 0)), 39)\n",
      "(((0, 1), (0, 2), (0, 3), (1, 3)), 19)\n",
      "(((0, 0), (0, 1), (1, 3), (1, 4)), 19)\n",
      "(((0, 0), (1, 0), (1, 1), (3, 2)), 41)\n",
      "(((0, 0), (0, 1), (0, 3), (1, 3)), 19)\n",
      "(((0, 1), (0, 2), (0, 3), (1, 4)), 19)\n",
      "(((0, 0), (1, 0), (1, 1), (2, 2), (3, 2)), 41)\n",
      "(((0, 0), (0, 2), (0, 3), (1, 4)), 19)\n",
      "(((0, 0), (0, 1), (0, 2), (0, 3), (1, 3)), 19)\n",
      "(((1, 0), (1, 1), (2, 1), (2, 2), (3, 2)), 41)\n",
      "(((0, 0), (1, 1), (2, 2), (3, 2)), 41)\n",
      "(((0, 0), (1, 0), (1, 1), (2, 1)), 41)\n",
      "(((0, 0), (0, 2), (1, 3), (1, 4)), 19)\n",
      "(((1, 1), (2, 1), (2, 2), (3, 2)), 41)\n",
      "(((0, 1), (0, 3), (1, 3), (1, 4)), 19)\n",
      "(((0, 0), (1, 0), (1, 1), (2, 1), (2, 2)), 41)\n"
     ]
    }
   ],
   "source": [
    "from pymining import seqmining\n",
    "freq_seqs = seqmining.freq_seq_enum(tuple(trajectory), 10)\n",
    "for path in freq_seqs:\n",
    "    if len(path[0]) >= 4:\n",
    "        print path"
   ]
  },
  {
   "cell_type": "code",
   "execution_count": 50,
   "metadata": {
    "collapsed": true
   },
   "outputs": [],
   "source": [
    "import networkx as nx\n",
    "\n",
    "graph = nx.Graph()"
   ]
  },
  {
   "cell_type": "code",
   "execution_count": 51,
   "metadata": {
    "collapsed": true
   },
   "outputs": [],
   "source": [
    "for path in freq_seqs:\n",
    "    ele = path[0]\n",
    "    if len(ele) >= 2:\n",
    "        for i in range(0, len(ele) - 1):\n",
    "            if abs(ele[i+1][0] - ele[i][0]) +  abs(ele[i+1][1] - ele[i][1]) <= 1:\n",
    "                graph.add_edge(ele[i], ele[i+1],duration=1)\n"
   ]
  },
  {
   "cell_type": "code",
   "execution_count": 52,
   "metadata": {
    "collapsed": false
   },
   "outputs": [
    {
     "data": {
      "image/png": "[encoded data removed]",
      "text/plain": [
       "<matplotlib.figure.Figure at 0x7fb41d0>"
      ]
     },
     "metadata": {},
     "output_type": "display_data"
    }
   ],
   "source": [
    "nx.draw(graph)"
   ]
  },
  {
   "cell_type": "code",
   "execution_count": 54,
   "metadata": {
    "collapsed": false
   },
   "outputs": [
    {
     "data": {
      "image/png": "[encoded data removed]",
      "text/plain": [
       "<matplotlib.figure.Figure at 0x61cfad0>"
      ]
     },
     "metadata": {},
     "output_type": "display_data"
    }
   ],
   "source": [
    "# positions for all nodes\n",
    "pos=nx.spring_layout(graph) \n",
    "\n",
    "# nodes\n",
    "nx.draw_networkx_nodes(graph,pos,node_size=700)\n",
    "\n",
    "# edges\n",
    "nx.draw_networkx_edges(graph,pos, width=6)\n",
    "\n",
    "# labels\n",
    "nx.draw_networkx_labels(graph,pos,font_size=10,font_family='sans-serif')\n",
    "\n",
    "plt.axis('off')\n",
    "plt.savefig(\"weighted_graph.png\") # save as png\n",
    "plt.show() # display"
   ]
  },
  {
   "cell_type": "code",
   "execution_count": null,
   "metadata": {
    "collapsed": true
   },
   "outputs": [],
   "source": [
    "paths = [ [[0,0], [0,1], [0,2], [0,3], [1,3], [1,4]] ,\n",
    "          [[0,0], [1,0], [1,1], [2,1], [2,2], [3,2]] ,\n",
    "          [[0,0], [1,0], [2,0], [3,0], [4,0]]\n",
    "        ]"
   ]
  }
 ],
 "metadata": {
  "kernelspec": {
   "display_name": "Python 2",
   "language": "python",
   "name": "python2"
  },
  "language_info": {
   "codemirror_mode": {
    "name": "ipython",
    "version": 2
   },
   "file_extension": ".py",
   "mimetype": "text/x-python",
   "name": "python",
   "nbconvert_exporter": "python",
   "pygments_lexer": "ipython2",
   "version": "2.7.10"
  }
 },
 "nbformat": 4,
 "nbformat_minor": 0
}
