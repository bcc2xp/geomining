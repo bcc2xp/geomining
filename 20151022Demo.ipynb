{
 "cells": [
  {
   "cell_type": "code",
   "execution_count": 1,
   "metadata": {
    "collapsed": false
   },
   "outputs": [
    {
     "data": {
      "text/plain": [
       "{frozenset({'c'}): 4,\n",
       " frozenset({'b', 'c'}): 3,\n",
       " frozenset({'a', 'c'}): 2,\n",
       " frozenset({'b'}): 4,\n",
       " frozenset({'a'}): 3}"
      ]
     },
     "execution_count": 1,
     "metadata": {},
     "output_type": "execute_result"
    }
   ],
   "source": [
    "from pymining import itemmining\n",
    "transactions = (('a', 'b', 'c'), ('b'), ('a'), ('a', 'c', 'd'), ('b', 'c'), ('b', 'c'))\n",
    "relim_input = itemmining.get_relim_input(transactions)\n",
    "report = itemmining.relim(relim_input, min_support=2)\n",
    "report"
   ]
  },
  {
   "cell_type": "code",
   "execution_count": 3,
   "metadata": {
    "collapsed": false
   },
   "outputs": [
    {
     "name": "stdout",
     "output_type": "stream",
     "text": [
      "(('a', 'd'), ('a', 'c', 'd', 'e'), ('b', 'd'), ('b', 'c', 'd'), ('b', 'c'), ('a', 'b', 'd'), ('b', 'd', 'e'), ('b', 'c', 'd', 'e'), ('b', 'c'), ('a', 'b', 'd'))\n"
     ]
    }
   ],
   "source": [
    "from pymining import itemmining, assocrules, perftesting\n",
    "transactions = perftesting.get_default_transactions()\n",
    "print transactions\n"
   ]
  },
  {
   "cell_type": "code",
   "execution_count": 4,
   "metadata": {
    "collapsed": false
   },
   "outputs": [
    {
     "data": {
      "text/plain": [
       "[(frozenset({'d', 'e'}), frozenset({'b'}), 2, 0.6666666666666666),\n",
       " (frozenset({'e'}), frozenset({'b', 'd'}), 2, 0.6666666666666666),\n",
       " (frozenset({'b', 'e'}), frozenset({'d'}), 2, 1.0),\n",
       " (frozenset({'c', 'd'}), frozenset({'b'}), 2, 0.6666666666666666),\n",
       " (frozenset({'b', 'c'}), frozenset({'d'}), 2, 0.5),\n",
       " (frozenset({'a', 'd'}), frozenset({'b'}), 2, 0.5),\n",
       " (frozenset({'a'}), frozenset({'b', 'd'}), 2, 0.5),\n",
       " (frozenset({'a', 'b'}), frozenset({'d'}), 2, 1.0),\n",
       " (frozenset({'d', 'e'}), frozenset({'c'}), 2, 0.6666666666666666),\n",
       " (frozenset({'e'}), frozenset({'c', 'd'}), 2, 0.6666666666666666),\n",
       " (frozenset({'c', 'd'}), frozenset({'e'}), 2, 0.6666666666666666),\n",
       " (frozenset({'c', 'e'}), frozenset({'d'}), 2, 1.0),\n",
       " (frozenset({'e'}), frozenset({'c'}), 2, 0.6666666666666666),\n",
       " (frozenset({'d'}), frozenset({'a'}), 4, 0.5),\n",
       " (frozenset({'a'}), frozenset({'d'}), 4, 1.0),\n",
       " (frozenset({'d'}), frozenset({'b'}), 6, 0.75),\n",
       " (frozenset({'b'}), frozenset({'d'}), 6, 0.75),\n",
       " (frozenset({'e'}), frozenset({'b'}), 2, 0.6666666666666666),\n",
       " (frozenset({'b'}), frozenset({'c'}), 4, 0.5),\n",
       " (frozenset({'c'}), frozenset({'b'}), 4, 0.8),\n",
       " (frozenset({'c'}), frozenset({'d'}), 3, 0.6),\n",
       " (frozenset({'a'}), frozenset({'b'}), 2, 0.5),\n",
       " (frozenset({'e'}), frozenset({'d'}), 3, 1.0)]"
      ]
     },
     "execution_count": 4,
     "metadata": {},
     "output_type": "execute_result"
    }
   ],
   "source": [
    "relim_input = itemmining.get_relim_input(transactions)\n",
    "item_sets = itemmining.relim(relim_input, min_support=2)\n",
    "rules = assocrules.mine_assoc_rules(item_sets, min_support=2, min_confidence=0.5)\n",
    "rules"
   ]
  },
  {
   "cell_type": "code",
   "execution_count": 5,
   "metadata": {
    "collapsed": false
   },
   "outputs": [
    {
     "name": "stdout",
     "output_type": "stream",
     "text": [
      "0.491\n",
      "0.530\n",
      "0.022\n",
      "0.363\n",
      "0.006\n"
     ]
    }
   ],
   "source": [
    "import random\n",
    "\n",
    "for i in xrange(5):\n",
    "    print '%04.3f' % random.random()"
   ]
  },
  {
   "cell_type": "code",
   "execution_count": 6,
   "metadata": {
    "collapsed": false
   },
   "outputs": [
    {
     "name": "stdout",
     "output_type": "stream",
     "text": [
      "4.515\n",
      "9.714\n",
      "6.571\n",
      "3.363\n",
      "9.166\n"
     ]
    }
   ],
   "source": [
    "for i in xrange(5):\n",
    "    print '%04.3f' % (random.random() * 10)"
   ]
  },
  {
   "cell_type": "code",
   "execution_count": 7,
   "metadata": {
    "collapsed": true
   },
   "outputs": [],
   "source": [
    "import matplotlib.pyplot as plt\n",
    "\n",
    "x = []\n",
    "y = []\n",
    "for i in xrange(5):\n",
    "    x.append(random.random()*10)\n",
    "\n",
    "for i in xrange(5):\n",
    "    y.append(random.random()*10)"
   ]
  },
  {
   "cell_type": "code",
   "execution_count": 8,
   "metadata": {
    "collapsed": false
   },
   "outputs": [
    {
     "name": "stdout",
     "output_type": "stream",
     "text": [
      "[1.265270765454518, 8.21396364010895, 0.9505553243343545, 2.7304400537289517, 7.460910486149689]\n"
     ]
    }
   ],
   "source": [
    "print x"
   ]
  },
  {
   "cell_type": "code",
   "execution_count": 9,
   "metadata": {
    "collapsed": false
   },
   "outputs": [
    {
     "name": "stdout",
     "output_type": "stream",
     "text": [
      "[7.527206998035174, 3.953129003939504, 7.783551204556652, 3.2943456909274236, 1.7979372052085396]\n"
     ]
    }
   ],
   "source": [
    "print y"
   ]
  },
  {
   "cell_type": "code",
   "execution_count": 10,
   "metadata": {
    "collapsed": false
   },
   "outputs": [
    {
     "name": "stdout",
     "output_type": "stream",
     "text": [
      "Populating the interactive namespace from numpy and matplotlib\n"
     ]
    },
    {
     "name": "stderr",
     "output_type": "stream",
     "text": [
      "WARNING: pylab import has clobbered these variables: ['random']\n",
      "`%matplotlib` prevents importing * from pylab and numpy\n"
     ]
    }
   ],
   "source": [
    "%pylab inline"
   ]
  },
  {
   "cell_type": "code",
   "execution_count": 11,
   "metadata": {
    "collapsed": false
   },
   "outputs": [
    {
     "name": "stderr",
     "output_type": "stream",
     "text": [
      "C:\\Python27\\lib\\site-packages\\matplotlib\\collections.py:590: FutureWarning: elementwise comparison failed; returning scalar instead, but in the future will perform elementwise comparison\n",
      "  if self._edgecolors == str('face'):\n"
     ]
    },
    {
     "data": {
      "image/png": "[encoded data removed]",
      "text/plain": [
       "<matplotlib.figure.Figure at 0x5d11770>"
      ]
     },
     "metadata": {},
     "output_type": "display_data"
    }
   ],
   "source": [
    "import matplotlib.pyplot as plt\n",
    "\n",
    "fig = plt.figure()\n",
    "ax = fig.gca()\n",
    "plt.scatter(x,y)\n",
    "plt.grid()\n",
    "plt.show()"
   ]
  },
  {
   "cell_type": "code",
   "execution_count": 12,
   "metadata": {
    "collapsed": false
   },
   "outputs": [
    {
     "name": "stdout",
     "output_type": "stream",
     "text": [
      "0.731732637448 0.785667562601\n",
      "1.79474564339 0.932925915542\n",
      "1.20489120992 1.66113806963\n",
      "2.20033219068 1.18434251845\n",
      "2.38742539849 2.15005140074\n",
      "3.83219382722 2.62386746239\n"
     ]
    }
   ],
   "source": [
    "path = [[0,0], [1,0], [1,1], [2,1], [2,2], [3,2]]\n",
    "\n",
    "for x,y in path:\n",
    "    print x +random.random(), y + random.random()"
   ]
  },
  {
   "cell_type": "code",
   "execution_count": 13,
   "metadata": {
    "collapsed": true
   },
   "outputs": [],
   "source": [
    "xcoord = []\n",
    "ycoord = []\n",
    "path = [[0,0], [1,0], [1,1], [2,1], [2,2], [3,2]]\n",
    "\n",
    "for x,y in path:\n",
    "    xcoord.append(x +random.random())\n",
    "    ycoord.append(y + random.random())"
   ]
  },
  {
   "cell_type": "code",
   "execution_count": 15,
   "metadata": {
    "collapsed": false
   },
   "outputs": [
    {
     "data": {
      "image/png": "[encoded data removed]",
      "text/plain": [
       "<matplotlib.figure.Figure at 0x5f85110>"
      ]
     },
     "metadata": {},
     "output_type": "display_data"
    }
   ],
   "source": [
    "fig = plt.figure()\n",
    "ax = fig.gca()\n",
    "plt.scatter(xcoord,ycoord)\n",
    "ax.set_xticks(range(0,10,1))\n",
    "ax.set_yticks(range(0,10,1))\n",
    "plt.grid()\n",
    "plt.show()"
   ]
  },
  {
   "cell_type": "code",
   "execution_count": 16,
   "metadata": {
    "collapsed": true
   },
   "outputs": [],
   "source": [
    "path = [[0,0], [1,0], [1,1], [2,1], [2,2], [3,2]]\n",
    "\n",
    "for i in xrange(5):\n",
    "    for x,y in path:\n",
    "        xcoord.append(x +random.random())\n",
    "        ycoord.append(y + random.random())"
   ]
  },
  {
   "cell_type": "code",
   "execution_count": 17,
   "metadata": {
    "collapsed": false
   },
   "outputs": [
    {
     "data": {
      "image/png": "[encoded data removed]",
      "text/plain": [
       "<matplotlib.figure.Figure at 0x60ae250>"
      ]
     },
     "metadata": {},
     "output_type": "display_data"
    }
   ],
   "source": [
    "fig = plt.figure()\n",
    "ax = fig.gca()\n",
    "plt.scatter(xcoord,ycoord)\n",
    "ax.set_xticks(range(0,10,1))\n",
    "ax.set_yticks(range(0,10,1))\n",
    "plt.grid()\n",
    "plt.show()"
   ]
  },
  {
   "cell_type": "code",
   "execution_count": 18,
   "metadata": {
    "collapsed": false
   },
   "outputs": [
    {
     "name": "stdout",
     "output_type": "stream",
     "text": [
      "3\n"
     ]
    }
   ],
   "source": [
    "paths = [ [[0,0], [0,1], [0,2], [0,3], [1,3], [1,4]] ,\n",
    "          [[0,0], [1,0], [1,1], [2,1], [2,2], [3,2]] ,\n",
    "          [[0,0], [1,0], [2,0], [3,0], [4,0]]\n",
    "        ]\n",
    "\n",
    "print len(paths)"
   ]
  },
  {
   "cell_type": "code",
   "execution_count": 24,
   "metadata": {
    "collapsed": false
   },
   "outputs": [
    {
     "name": "stdout",
     "output_type": "stream",
     "text": [
      "[[[0, 0], [0, 1], [0, 2], [0, 3], [1, 3], [1, 4]], [[0, 0], [1, 0], [1, 1], [2, 1], [2, 2], [3, 2]], [[0, 0], [1, 0], [2, 0], [3, 0], [4, 0]]]\n",
      "[[0, 0], [1, 0], [2, 0], [3, 0], [4, 0]]\n"
     ]
    }
   ],
   "source": [
    "print paths\n",
    "print random.choice(paths)"
   ]
  },
  {
   "cell_type": "code",
   "execution_count": 22,
   "metadata": {
    "collapsed": true
   },
   "outputs": [],
   "source": [
    "def genCoords(path):\n",
    "    coord = []\n",
    "    for x,y in path:\n",
    "        coord.append([x +random.random(), y + random.random()])\n",
    "    return coord"
   ]
  },
  {
   "cell_type": "code",
   "execution_count": 25,
   "metadata": {
    "collapsed": true
   },
   "outputs": [],
   "source": [
    "user = []\n",
    "xcoord = []\n",
    "ycoord = []\n",
    "for i in range(1,100):\n",
    "    for x,y in genCoords(random.choice(paths)):\n",
    "        user.append(i)\n",
    "        xcoord.append(x)\n",
    "        ycoord.append(y)"
   ]
  },
  {
   "cell_type": "code",
   "execution_count": 26,
   "metadata": {
    "collapsed": false
   },
   "outputs": [
    {
     "data": {
      "image/png": "[encoded data removed]",
      "text/plain": [
       "<matplotlib.figure.Figure at 0x61f7ad0>"
      ]
     },
     "metadata": {},
     "output_type": "display_data"
    }
   ],
   "source": [
    "fig = plt.figure()\n",
    "ax = fig.gca()\n",
    "plt.scatter(xcoord,ycoord)\n",
    "ax.set_xticks(range(0,10,1))\n",
    "ax.set_yticks(range(0,10,1))\n",
    "plt.grid()\n",
    "plt.show()"
   ]
  },
  {
   "cell_type": "code",
   "execution_count": 28,
   "metadata": {
    "collapsed": true
   },
   "outputs": [],
   "source": [
    "def nodeConversion(x,y,cell_size):\n",
    "    return (\n",
    "            int((math.floor(x/cell_size))*cell_size),\n",
    "            int((math.floor(y/cell_size))*cell_size)\n",
    "        )"
   ]
  },
  {
   "cell_type": "code",
   "execution_count": 31,
   "metadata": {
    "collapsed": false
   },
   "outputs": [
    {
     "name": "stdout",
     "output_type": "stream",
     "text": [
      "(0, 1)\n",
      "(2, 3)\n",
      "(2, 2)\n"
     ]
    }
   ],
   "source": [
    "print nodeConversion(0.3, 1.2, 1)\n",
    "\n",
    "print nodeConversion(2.3, 3.2, 1)\n",
    "\n",
    "print nodeConversion(2.3, 3.2, 2)"
   ]
  },
  {
   "cell_type": "code",
   "execution_count": 33,
   "metadata": {
    "collapsed": false
   },
   "outputs": [],
   "source": [
    "points = []\n",
    "\n",
    "x_proj = []\n",
    "y_proj = []\n",
    "\n",
    "for i in range(0,len(xcoord)):\n",
    "    x,y =  nodeConversion(xcoord[i], ycoord[i],1)\n",
    "    #print user[i], x, y"
   ]
  },
  {
   "cell_type": "code",
   "execution_count": 34,
   "metadata": {
    "collapsed": false
   },
   "outputs": [
    {
     "name": "stdout",
     "output_type": "stream",
     "text": [
      "{1: [(0, 0), (1, 0), (2, 0), (3, 0), (4, 0)], 2: [(0, 0), (1, 0), (2, 0), (3, 0), (4, 0)], 3: [(0, 0), (1, 0), (1, 1), (2, 1), (2, 2), (3, 2)], 4: [(0, 0), (1, 0), (2, 0), (3, 0), (4, 0)], 5: [(0, 0), (1, 0), (1, 1), (2, 1), (2, 2), (3, 2)], 6: [(0, 0), (1, 0), (2, 0), (3, 0), (4, 0)], 7: [(0, 0), (0, 1), (0, 2), (0, 3), (1, 3), (1, 4)], 8: [(0, 0), (1, 0), (2, 0), (3, 0), (4, 0)], 9: [(0, 0), (0, 1), (0, 2), (0, 3), (1, 3), (1, 4)], 10: [(0, 0), (1, 0), (1, 1), (2, 1), (2, 2), (3, 2)], 11: [(0, 0), (1, 0), (1, 1), (2, 1), (2, 2), (3, 2)], 12: [(0, 0), (0, 1), (0, 2), (0, 3), (1, 3), (1, 4)], 13: [(0, 0), (1, 0), (1, 1), (2, 1), (2, 2), (3, 2)], 14: [(0, 0), (1, 0), (1, 1), (2, 1), (2, 2), (3, 2)], 15: [(0, 0), (1, 0), (2, 0), (3, 0), (4, 0)], 16: [(0, 0), (1, 0), (2, 0), (3, 0), (4, 0)], 17: [(0, 0), (1, 0), (1, 1), (2, 1), (2, 2), (3, 2)], 18: [(0, 0), (1, 0), (1, 1), (2, 1), (2, 2), (3, 2)], 19: [(0, 0), (1, 0), (2, 0), (3, 0), (4, 0)], 20: [(0, 0), (0, 1), (0, 2), (0, 3), (1, 3), (1, 4)], 21: [(0, 0), (1, 0), (2, 0), (3, 0), (4, 0)], 22: [(0, 0), (1, 0), (2, 0), (3, 0), (4, 0)], 23: [(0, 0), (1, 0), (2, 0), (3, 0), (4, 0)], 24: [(0, 0), (1, 0), (1, 1), (2, 1), (2, 2), (3, 2)], 25: [(0, 0), (1, 0), (2, 0), (3, 0), (4, 0)], 26: [(0, 0), (1, 0), (2, 0), (3, 0), (4, 0)], 27: [(0, 0), (1, 0), (2, 0), (3, 0), (4, 0)], 28: [(0, 0), (0, 1), (0, 2), (0, 3), (1, 3), (1, 4)], 29: [(0, 0), (0, 1), (0, 2), (0, 3), (1, 3), (1, 4)], 30: [(0, 0), (1, 0), (1, 1), (2, 1), (2, 2), (3, 2)], 31: [(0, 0), (1, 0), (1, 1), (2, 1), (2, 2), (3, 2)], 32: [(0, 0), (1, 0), (2, 0), (3, 0), (4, 0)], 33: [(0, 0), (1, 0), (1, 1), (2, 1), (2, 2), (3, 2)], 34: [(0, 0), (1, 0), (2, 0), (3, 0), (4, 0)], 35: [(0, 0), (1, 0), (1, 1), (2, 1), (2, 2), (3, 2)], 36: [(0, 0), (1, 0), (1, 1), (2, 1), (2, 2), (3, 2)], 37: [(0, 0), (1, 0), (1, 1), (2, 1), (2, 2), (3, 2)], 38: [(0, 0), (1, 0), (1, 1), (2, 1), (2, 2), (3, 2)], 39: [(0, 0), (1, 0), (2, 0), (3, 0), (4, 0)], 40: [(0, 0), (1, 0), (1, 1), (2, 1), (2, 2), (3, 2)], 41: [(0, 0), (1, 0), (1, 1), (2, 1), (2, 2), (3, 2)], 42: [(0, 0), (1, 0), (2, 0), (3, 0), (4, 0)], 43: [(0, 0), (1, 0), (1, 1), (2, 1), (2, 2), (3, 2)], 44: [(0, 0), (1, 0), (2, 0), (3, 0), (4, 0)], 45: [(0, 0), (1, 0), (1, 1), (2, 1), (2, 2), (3, 2)], 46: [(0, 0), (1, 0), (1, 1), (2, 1), (2, 2), (3, 2)], 47: [(0, 0), (1, 0), (1, 1), (2, 1), (2, 2), (3, 2)], 48: [(0, 0), (1, 0), (2, 0), (3, 0), (4, 0)], 49: [(0, 0), (1, 0), (2, 0), (3, 0), (4, 0)], 50: [(0, 0), (1, 0), (2, 0), (3, 0), (4, 0)], 51: [(0, 0), (1, 0), (2, 0), (3, 0), (4, 0)], 52: [(0, 0), (1, 0), (1, 1), (2, 1), (2, 2), (3, 2)], 53: [(0, 0), (0, 1), (0, 2), (0, 3), (1, 3), (1, 4)], 54: [(0, 0), (0, 1), (0, 2), (0, 3), (1, 3), (1, 4)], 55: [(0, 0), (1, 0), (1, 1), (2, 1), (2, 2), (3, 2)], 56: [(0, 0), (1, 0), (1, 1), (2, 1), (2, 2), (3, 2)], 57: [(0, 0), (0, 1), (0, 2), (0, 3), (1, 3), (1, 4)], 58: [(0, 0), (0, 1), (0, 2), (0, 3), (1, 3), (1, 4)], 59: [(0, 0), (1, 0), (1, 1), (2, 1), (2, 2), (3, 2)], 60: [(0, 0), (0, 1), (0, 2), (0, 3), (1, 3), (1, 4)], 61: [(0, 0), (1, 0), (1, 1), (2, 1), (2, 2), (3, 2)], 62: [(0, 0), (1, 0), (1, 1), (2, 1), (2, 2), (3, 2)], 63: [(0, 0), (1, 0), (2, 0), (3, 0), (4, 0)], 64: [(0, 0), (1, 0), (1, 1), (2, 1), (2, 2), (3, 2)], 65: [(0, 0), (1, 0), (1, 1), (2, 1), (2, 2), (3, 2)], 66: [(0, 0), (1, 0), (2, 0), (3, 0), (4, 0)], 67: [(0, 0), (1, 0), (1, 1), (2, 1), (2, 2), (3, 2)], 68: [(0, 0), (1, 0), (2, 0), (3, 0), (4, 0)], 69: [(0, 0), (0, 1), (0, 2), (0, 3), (1, 3), (1, 4)], 70: [(0, 0), (0, 1), (0, 2), (0, 3), (1, 3), (1, 4)], 71: [(0, 0), (1, 0), (2, 0), (3, 0), (4, 0)], 72: [(0, 0), (1, 0), (2, 0), (3, 0), (4, 0)], 73: [(0, 0), (1, 0), (2, 0), (3, 0), (4, 0)], 74: [(0, 0), (1, 0), (1, 1), (2, 1), (2, 2), (3, 2)], 75: [(0, 0), (0, 1), (0, 2), (0, 3), (1, 3), (1, 4)], 76: [(0, 0), (1, 0), (1, 1), (2, 1), (2, 2), (3, 2)], 77: [(0, 0), (0, 1), (0, 2), (0, 3), (1, 3), (1, 4)], 78: [(0, 0), (1, 0), (2, 0), (3, 0), (4, 0)], 79: [(0, 0), (1, 0), (1, 1), (2, 1), (2, 2), (3, 2)], 80: [(0, 0), (1, 0), (1, 1), (2, 1), (2, 2), (3, 2)], 81: [(0, 0), (0, 1), (0, 2), (0, 3), (1, 3), (1, 4)], 82: [(0, 0), (1, 0), (1, 1), (2, 1), (2, 2), (3, 2)], 83: [(0, 0), (0, 1), (0, 2), (0, 3), (1, 3), (1, 4)], 84: [(0, 0), (0, 1), (0, 2), (0, 3), (1, 3), (1, 4)], 85: [(0, 0), (1, 0), (1, 1), (2, 1), (2, 2), (3, 2)], 86: [(0, 0), (1, 0), (2, 0), (3, 0), (4, 0)], 87: [(0, 0), (1, 0), (2, 0), (3, 0), (4, 0)], 88: [(0, 0), (1, 0), (1, 1), (2, 1), (2, 2), (3, 2)], 89: [(0, 0), (1, 0), (2, 0), (3, 0), (4, 0)], 90: [(0, 0), (0, 1), (0, 2), (0, 3), (1, 3), (1, 4)], 91: [(0, 0), (1, 0), (2, 0), (3, 0), (4, 0)], 92: [(0, 0), (1, 0), (1, 1), (2, 1), (2, 2), (3, 2)], 93: [(0, 0), (1, 0), (2, 0), (3, 0), (4, 0)], 94: [(0, 0), (1, 0), (1, 1), (2, 1), (2, 2), (3, 2)], 95: [(0, 0), (1, 0), (2, 0), (3, 0), (4, 0)], 96: [(0, 0), (1, 0), (2, 0), (3, 0), (4, 0)], 97: [(0, 0), (1, 0), (2, 0), (3, 0), (4, 0)], 98: [(0, 0), (1, 0), (2, 0), (3, 0), (4, 0)], 99: [(0, 0), (1, 0), (1, 1), (2, 1), (2, 2), (3, 2)]}\n"
     ]
    }
   ],
   "source": [
    "user_path = {}\n",
    "\n",
    "for i in range(0,len(xcoord)):\n",
    "    x,y =  nodeConversion(xcoord[i], ycoord[i],1)\n",
    "    if user[i] not in user_path:\n",
    "        user_path[user[i]] = [(x,y)]\n",
    "    else:\n",
    "        user_path[user[i]].append((x,y))\n",
    "print user_path"
   ]
  },
  {
   "cell_type": "code",
   "execution_count": 38,
   "metadata": {
    "collapsed": false
   },
   "outputs": [
    {
     "name": "stdout",
     "output_type": "stream",
     "text": [
      "1 2 3 4 5 6 7 8 9 10 11 12 13 14 15 16 17 18 19 20 21 22 23 24 25 26 27 28 29 30 31 32 33 34 35 36 37 38 39 40 41 42 43 44 45 46 47 48 49 50 51 52 53 54 55 56 57 58 59 60 61 62 63 64 65 66 67 68 69 70 71 72 73 74 75 76 77 78 79 80 81 82 83 84 85 86 87 88 89 90 91 92 93 94 95 96 97 98 99\n"
     ]
    }
   ],
   "source": [
    "for key in user_path:\n",
    "    print key, \n",
    "    "
   ]
  },
  {
   "cell_type": "code",
   "execution_count": 39,
   "metadata": {
    "collapsed": true
   },
   "outputs": [],
   "source": [
    "trajectory = []\n",
    "for key in user_path:\n",
    "    trajectory.append(tuple(user_path[key]))"
   ]
  },
  {
   "cell_type": "code",
   "execution_count": 40,
   "metadata": {
    "collapsed": false
   },
   "outputs": [
    {
     "name": "stdout",
     "output_type": "stream",
     "text": [
      "[((0, 0), (1, 0), (2, 0), (3, 0), (4, 0)), ((0, 0), (1, 0), (2, 0), (3, 0), (4, 0)), ((0, 0), (1, 0), (1, 1), (2, 1), (2, 2), (3, 2)), ((0, 0), (1, 0), (2, 0), (3, 0), (4, 0)), ((0, 0), (1, 0), (1, 1), (2, 1), (2, 2), (3, 2)), ((0, 0), (1, 0), (2, 0), (3, 0), (4, 0)), ((0, 0), (0, 1), (0, 2), (0, 3), (1, 3), (1, 4)), ((0, 0), (1, 0), (2, 0), (3, 0), (4, 0)), ((0, 0), (0, 1), (0, 2), (0, 3), (1, 3), (1, 4)), ((0, 0), (1, 0), (1, 1), (2, 1), (2, 2), (3, 2)), ((0, 0), (1, 0), (1, 1), (2, 1), (2, 2), (3, 2)), ((0, 0), (0, 1), (0, 2), (0, 3), (1, 3), (1, 4)), ((0, 0), (1, 0), (1, 1), (2, 1), (2, 2), (3, 2)), ((0, 0), (1, 0), (1, 1), (2, 1), (2, 2), (3, 2)), ((0, 0), (1, 0), (2, 0), (3, 0), (4, 0)), ((0, 0), (1, 0), (2, 0), (3, 0), (4, 0)), ((0, 0), (1, 0), (1, 1), (2, 1), (2, 2), (3, 2)), ((0, 0), (1, 0), (1, 1), (2, 1), (2, 2), (3, 2)), ((0, 0), (1, 0), (2, 0), (3, 0), (4, 0)), ((0, 0), (0, 1), (0, 2), (0, 3), (1, 3), (1, 4)), ((0, 0), (1, 0), (2, 0), (3, 0), (4, 0)), ((0, 0), (1, 0), (2, 0), (3, 0), (4, 0)), ((0, 0), (1, 0), (2, 0), (3, 0), (4, 0)), ((0, 0), (1, 0), (1, 1), (2, 1), (2, 2), (3, 2)), ((0, 0), (1, 0), (2, 0), (3, 0), (4, 0)), ((0, 0), (1, 0), (2, 0), (3, 0), (4, 0)), ((0, 0), (1, 0), (2, 0), (3, 0), (4, 0)), ((0, 0), (0, 1), (0, 2), (0, 3), (1, 3), (1, 4)), ((0, 0), (0, 1), (0, 2), (0, 3), (1, 3), (1, 4)), ((0, 0), (1, 0), (1, 1), (2, 1), (2, 2), (3, 2)), ((0, 0), (1, 0), (1, 1), (2, 1), (2, 2), (3, 2)), ((0, 0), (1, 0), (2, 0), (3, 0), (4, 0)), ((0, 0), (1, 0), (1, 1), (2, 1), (2, 2), (3, 2)), ((0, 0), (1, 0), (2, 0), (3, 0), (4, 0)), ((0, 0), (1, 0), (1, 1), (2, 1), (2, 2), (3, 2)), ((0, 0), (1, 0), (1, 1), (2, 1), (2, 2), (3, 2)), ((0, 0), (1, 0), (1, 1), (2, 1), (2, 2), (3, 2)), ((0, 0), (1, 0), (1, 1), (2, 1), (2, 2), (3, 2)), ((0, 0), (1, 0), (2, 0), (3, 0), (4, 0)), ((0, 0), (1, 0), (1, 1), (2, 1), (2, 2), (3, 2)), ((0, 0), (1, 0), (1, 1), (2, 1), (2, 2), (3, 2)), ((0, 0), (1, 0), (2, 0), (3, 0), (4, 0)), ((0, 0), (1, 0), (1, 1), (2, 1), (2, 2), (3, 2)), ((0, 0), (1, 0), (2, 0), (3, 0), (4, 0)), ((0, 0), (1, 0), (1, 1), (2, 1), (2, 2), (3, 2)), ((0, 0), (1, 0), (1, 1), (2, 1), (2, 2), (3, 2)), ((0, 0), (1, 0), (1, 1), (2, 1), (2, 2), (3, 2)), ((0, 0), (1, 0), (2, 0), (3, 0), (4, 0)), ((0, 0), (1, 0), (2, 0), (3, 0), (4, 0)), ((0, 0), (1, 0), (2, 0), (3, 0), (4, 0)), ((0, 0), (1, 0), (2, 0), (3, 0), (4, 0)), ((0, 0), (1, 0), (1, 1), (2, 1), (2, 2), (3, 2)), ((0, 0), (0, 1), (0, 2), (0, 3), (1, 3), (1, 4)), ((0, 0), (0, 1), (0, 2), (0, 3), (1, 3), (1, 4)), ((0, 0), (1, 0), (1, 1), (2, 1), (2, 2), (3, 2)), ((0, 0), (1, 0), (1, 1), (2, 1), (2, 2), (3, 2)), ((0, 0), (0, 1), (0, 2), (0, 3), (1, 3), (1, 4)), ((0, 0), (0, 1), (0, 2), (0, 3), (1, 3), (1, 4)), ((0, 0), (1, 0), (1, 1), (2, 1), (2, 2), (3, 2)), ((0, 0), (0, 1), (0, 2), (0, 3), (1, 3), (1, 4)), ((0, 0), (1, 0), (1, 1), (2, 1), (2, 2), (3, 2)), ((0, 0), (1, 0), (1, 1), (2, 1), (2, 2), (3, 2)), ((0, 0), (1, 0), (2, 0), (3, 0), (4, 0)), ((0, 0), (1, 0), (1, 1), (2, 1), (2, 2), (3, 2)), ((0, 0), (1, 0), (1, 1), (2, 1), (2, 2), (3, 2)), ((0, 0), (1, 0), (2, 0), (3, 0), (4, 0)), ((0, 0), (1, 0), (1, 1), (2, 1), (2, 2), (3, 2)), ((0, 0), (1, 0), (2, 0), (3, 0), (4, 0)), ((0, 0), (0, 1), (0, 2), (0, 3), (1, 3), (1, 4)), ((0, 0), (0, 1), (0, 2), (0, 3), (1, 3), (1, 4)), ((0, 0), (1, 0), (2, 0), (3, 0), (4, 0)), ((0, 0), (1, 0), (2, 0), (3, 0), (4, 0)), ((0, 0), (1, 0), (2, 0), (3, 0), (4, 0)), ((0, 0), (1, 0), (1, 1), (2, 1), (2, 2), (3, 2)), ((0, 0), (0, 1), (0, 2), (0, 3), (1, 3), (1, 4)), ((0, 0), (1, 0), (1, 1), (2, 1), (2, 2), (3, 2)), ((0, 0), (0, 1), (0, 2), (0, 3), (1, 3), (1, 4)), ((0, 0), (1, 0), (2, 0), (3, 0), (4, 0)), ((0, 0), (1, 0), (1, 1), (2, 1), (2, 2), (3, 2)), ((0, 0), (1, 0), (1, 1), (2, 1), (2, 2), (3, 2)), ((0, 0), (0, 1), (0, 2), (0, 3), (1, 3), (1, 4)), ((0, 0), (1, 0), (1, 1), (2, 1), (2, 2), (3, 2)), ((0, 0), (0, 1), (0, 2), (0, 3), (1, 3), (1, 4)), ((0, 0), (0, 1), (0, 2), (0, 3), (1, 3), (1, 4)), ((0, 0), (1, 0), (1, 1), (2, 1), (2, 2), (3, 2)), ((0, 0), (1, 0), (2, 0), (3, 0), (4, 0)), ((0, 0), (1, 0), (2, 0), (3, 0), (4, 0)), ((0, 0), (1, 0), (1, 1), (2, 1), (2, 2), (3, 2)), ((0, 0), (1, 0), (2, 0), (3, 0), (4, 0)), ((0, 0), (0, 1), (0, 2), (0, 3), (1, 3), (1, 4)), ((0, 0), (1, 0), (2, 0), (3, 0), (4, 0)), ((0, 0), (1, 0), (1, 1), (2, 1), (2, 2), (3, 2)), ((0, 0), (1, 0), (2, 0), (3, 0), (4, 0)), ((0, 0), (1, 0), (1, 1), (2, 1), (2, 2), (3, 2)), ((0, 0), (1, 0), (2, 0), (3, 0), (4, 0)), ((0, 0), (1, 0), (2, 0), (3, 0), (4, 0)), ((0, 0), (1, 0), (2, 0), (3, 0), (4, 0)), ((0, 0), (1, 0), (2, 0), (3, 0), (4, 0)), ((0, 0), (1, 0), (1, 1), (2, 1), (2, 2), (3, 2))]\n"
     ]
    }
   ],
   "source": [
    "print trajectory"
   ]
  },
  {
   "cell_type": "code",
   "execution_count": 49,
   "metadata": {
    "collapsed": false
   },
   "outputs": [
    {
     "name": "stdout",
     "output_type": "stream",
     "text": [
      "(((0, 0), (1, 0), (3, 0), (4, 0)), 39)\n",
      "(((0, 0), (0, 2), (0, 3), (1, 3), (1, 4)), 19)\n",
      "(((0, 0), (0, 1), (0, 2), (1, 3)), 19)\n",
      "(((0, 0), (1, 0), (2, 0), (3, 0)), 39)\n",
      "(((0, 0), (0, 2), (0, 3), (1, 3)), 19)\n",
      "(((0, 0), (1, 0), (1, 1), (2, 2)), 41)\n",
      "(((0, 0), (0, 1), (0, 3), (1, 4)), 19)\n",
      "(((0, 0), (1, 0), (2, 2), (3, 2)), 41)\n",
      "(((0, 1), (0, 2), (1, 3), (1, 4)), 19)\n",
      "(((1, 0), (2, 0), (3, 0), (4, 0)), 39)\n",
      "(((1, 0), (2, 1), (2, 2), (3, 2)), 41)\n",
      "(((1, 0), (1, 1), (2, 1), (3, 2)), 41)\n",
      "(((0, 0), (0, 1), (0, 3), (1, 3), (1, 4)), 19)\n",
      "(((0, 0), (0, 1), (0, 2), (0, 3)), 19)\n",
      "(((1, 0), (1, 1), (2, 1), (2, 2)), 41)\n",
      "(((0, 0), (1, 0), (2, 1), (3, 2)), 41)\n",
      "(((0, 2), (0, 3), (1, 3), (1, 4)), 19)\n",
      "(((0, 0), (0, 1), (0, 2), (0, 3), (1, 3), (1, 4)), 19)\n",
      "(((0, 0), (2, 1), (2, 2), (3, 2)), 41)\n",
      "(((1, 0), (1, 1), (2, 2), (3, 2)), 41)\n",
      "(((0, 0), (1, 0), (1, 1), (2, 1), (3, 2)), 41)\n",
      "(((0, 0), (1, 0), (1, 1), (2, 1), (2, 2), (3, 2)), 41)\n",
      "(((0, 0), (0, 1), (0, 2), (1, 4)), 19)\n",
      "(((0, 0), (1, 1), (2, 1), (3, 2)), 41)\n",
      "(((0, 0), (1, 1), (2, 1), (2, 2)), 41)\n",
      "(((0, 0), (2, 0), (3, 0), (4, 0)), 39)\n",
      "(((0, 0), (1, 0), (2, 1), (2, 2)), 41)\n",
      "(((0, 0), (1, 0), (2, 0), (4, 0)), 39)\n",
      "(((0, 1), (0, 2), (0, 3), (1, 3), (1, 4)), 19)\n",
      "(((0, 0), (0, 3), (1, 3), (1, 4)), 19)\n",
      "(((0, 0), (1, 1), (2, 1), (2, 2), (3, 2)), 41)\n",
      "(((0, 0), (0, 1), (0, 2), (1, 3), (1, 4)), 19)\n",
      "(((0, 0), (0, 1), (0, 2), (0, 3), (1, 4)), 19)\n",
      "(((0, 0), (1, 0), (2, 1), (2, 2), (3, 2)), 41)\n",
      "(((0, 0), (1, 0), (2, 0), (3, 0), (4, 0)), 39)\n",
      "(((0, 1), (0, 2), (0, 3), (1, 3)), 19)\n",
      "(((0, 0), (0, 1), (1, 3), (1, 4)), 19)\n",
      "(((0, 0), (1, 0), (1, 1), (3, 2)), 41)\n",
      "(((0, 0), (0, 1), (0, 3), (1, 3)), 19)\n",
      "(((0, 1), (0, 2), (0, 3), (1, 4)), 19)\n",
      "(((0, 0), (1, 0), (1, 1), (2, 2), (3, 2)), 41)\n",
      "(((0, 0), (0, 2), (0, 3), (1, 4)), 19)\n",
      "(((0, 0), (0, 1), (0, 2), (0, 3), (1, 3)), 19)\n",
      "(((1, 0), (1, 1), (2, 1), (2, 2), (3, 2)), 41)\n",
      "(((0, 0), (1, 1), (2, 2), (3, 2)), 41)\n",
      "(((0, 0), (1, 0), (1, 1), (2, 1)), 41)\n",
      "(((0, 0), (0, 2), (1, 3), (1, 4)), 19)\n",
      "(((1, 1), (2, 1), (2, 2), (3, 2)), 41)\n",
      "(((0, 1), (0, 3), (1, 3), (1, 4)), 19)\n",
      "(((0, 0), (1, 0), (1, 1), (2, 1), (2, 2)), 41)\n"
     ]
    }
   ],
   "source": [
    "from pymining import seqmining\n",
    "freq_seqs = seqmining.freq_seq_enum(tuple(trajectory), 10)\n",
    "for path in freq_seqs:\n",
    "    if len(path[0]) >= 4:\n",
    "        print path"
   ]
  },
  {
   "cell_type": "code",
   "execution_count": 50,
   "metadata": {
    "collapsed": true
   },
   "outputs": [],
   "source": [
    "import networkx as nx\n",
    "\n",
    "graph = nx.Graph()"
   ]
  },
  {
   "cell_type": "code",
   "execution_count": 51,
   "metadata": {
    "collapsed": true
   },
   "outputs": [],
   "source": [
    "for path in freq_seqs:\n",
    "    ele = path[0]\n",
    "    if len(ele) >= 2:\n",
    "        for i in range(0, len(ele) - 1):\n",
    "            if abs(ele[i+1][0] - ele[i][0]) +  abs(ele[i+1][1] - ele[i][1]) <= 1:\n",
    "                graph.add_edge(ele[i], ele[i+1],duration=1)\n"
   ]
  },
  {
   "cell_type": "code",
   "execution_count": 52,
   "metadata": {
    "collapsed": false
   },
   "outputs": [
    {
     "data": {
      "image/png": "[encoded data removed]",
      "text/plain": [
       "<matplotlib.figure.Figure at 0x7fb41d0>"
      ]
     },
     "metadata": {},
     "output_type": "display_data"
    }
   ],
   "source": [
    "nx.draw(graph)"
   ]
  },
  {
   "cell_type": "code",
   "execution_count": 55,
   "metadata": {
    "collapsed": false
   },
   "outputs": [
    {
     "data": {
      "image/png": "[encoded data removed]",
      "text/plain": [
       "<matplotlib.figure.Figure at 0x5f90cb0>"
      ]
     },
     "metadata": {},
     "output_type": "display_data"
    }
   ],
   "source": [
    "# positions for all nodes\n",
    "pos=nx.spring_layout(graph) \n",
    "\n",
    "# nodes\n",
    "nx.draw_networkx_nodes(graph,pos,node_size=700)\n",
    "\n",
    "# edges\n",
    "nx.draw_networkx_edges(graph,pos, width=6)\n",
    "\n",
    "# labels\n",
    "nx.draw_networkx_labels(graph,pos,font_size=10,font_family='sans-serif')\n",
    "\n",
    "plt.axis('off')\n",
    "plt.savefig(\"weighted_graph.png\") # save as png\n",
    "plt.show() # display"
   ]
  },
  {
   "cell_type": "code",
   "execution_count": 56,
   "metadata": {
    "collapsed": true
   },
   "outputs": [],
   "source": [
    "paths = [ [[0,0], [0,1], [0,2], [0,3], [1,3], [1,4]] ,\n",
    "          [[0,0], [1,0], [1,1], [2,1], [2,2], [3,2]] ,\n",
    "          [[0,0], [1,0], [2,0], [3,0], [4,0]]\n",
    "        ]"
   ]
  },
  {
   "cell_type": "code",
   "execution_count": 57,
   "metadata": {
    "collapsed": false
   },
   "outputs": [
    {
     "name": "stdout",
     "output_type": "stream",
     "text": [
      "['DiGraph', 'Graph', 'GraphMLReader', 'GraphMLWriter', 'LCF_graph', 'MultiDiGraph', 'MultiGraph', 'NetworkXAlgorithmError', 'NetworkXError', 'NetworkXException', 'NetworkXNoCycle', 'NetworkXNoPath', 'NetworkXNotImplemented', 'NetworkXPointlessConcept', 'NetworkXTreewidthBoundExceeded', 'NetworkXUnbounded', 'NetworkXUnfeasible', 'OrderedDiGraph', 'OrderedGraph', 'OrderedMultiDiGraph', 'OrderedMultiGraph', '__author__', '__bibtex__', '__builtins__', '__date__', '__doc__', '__file__', '__license__', '__name__', '__package__', '__path__', '__version__', 'absolute_import', 'adamic_adar_index', 'adj_matrix', 'adjacency_matrix', 'adjacency_spectrum', 'adjlist', 'algebraic_connectivity', 'algebraicconnectivity', 'algorithms', 'all', 'all_neighbors', 'all_node_cuts', 'all_pairs_dijkstra_path', 'all_pairs_dijkstra_path_length', 'all_pairs_node_connectivity', 'all_pairs_shortest_path', 'all_pairs_shortest_path_length', 'all_shortest_paths', 'all_simple_paths', 'ancestors', 'antichains', 'approximate_current_flow_betweenness_centrality', 'articulation_points', 'assortativity', 'astar', 'astar_path', 'astar_path_length', 'attr_matrix', 'attr_sparse_matrix', 'attracting', 'attracting_component_subgraphs', 'attracting_components', 'attribute_assortativity_coefficient', 'attribute_mixing_dict', 'attribute_mixing_matrix', 'attrmatrix', 'authority_matrix', 'average_clustering', 'average_degree_connectivity', 'average_neighbor_degree', 'average_node_connectivity', 'average_shortest_path_length', 'balanced_tree', 'barabasi_albert_graph', 'barbell_graph', 'bellman_ford', 'betweenness', 'betweenness_centrality', 'betweenness_centrality_source', 'betweenness_centrality_subset', 'betweenness_subset', 'bfs_edges', 'bfs_predecessors', 'bfs_successors', 'bfs_tree', 'biconnected', 'biconnected_component_edges', 'biconnected_component_subgraphs', 'biconnected_components', 'bidirectional_dijkstra', 'bidirectional_shortest_path', 'binary', 'binomial_graph', 'bipartite', 'block', 'blockmodel', 'boundary', 'breadth_first_search', 'bull_graph', 'capacity_scaling', 'cartesian_product', 'caveman_graph', 'center', 'centrality', 'chordal', 'chordal_alg', 'chordal_cycle_graph', 'chordal_graph_cliques', 'chordal_graph_treewidth', 'chvatal_graph', 'circulant_graph', 'circular_ladder_graph', 'circular_layout', 'classes', 'classic', 'clique', 'cliques_containing_node', 'closeness', 'closeness_centrality', 'closeness_vitality', 'cluster', 'clustering', 'cn_soundarajan_hopcroft', 'coloring', 'common_neighbors', 'communicability', 'communicability_alg', 'communicability_betweenness_centrality', 'communicability_centrality', 'communicability_centrality_exp', 'communicability_exp', 'community', 'complement', 'complete_bipartite_graph', 'complete_graph', 'complete_multipartite_graph', 'components', 'compose', 'compose_all', 'condensation', 'configuration_model', 'connected', 'connected_caveman_graph', 'connected_component_subgraphs', 'connected_components', 'connected_double_edge_swap', 'connected_watts_strogatz_graph', 'connectivity', 'contracted_edge', 'contracted_nodes', 'convert', 'convert_matrix', 'convert_node_labels_to_integers', 'copy', 'core', 'core_number', 'correlation', 'cost_of_flow', 'could_be_isomorphic', 'create_empty_copy', 'cubical_graph', 'current_flow_betweenness', 'current_flow_betweenness_centrality', 'current_flow_betweenness_centrality_subset', 'current_flow_betweenness_subset', 'current_flow_closeness', 'current_flow_closeness_centrality', 'cycle_basis', 'cycle_graph', 'cycles', 'dag', 'dag_longest_path', 'dag_longest_path_length', 'davis_southern_women_graph', 'degree', 'degree_alg', 'degree_assortativity_coefficient', 'degree_centrality', 'degree_histogram', 'degree_mixing_dict', 'degree_mixing_matrix', 'degree_pearson_correlation_coefficient', 'degree_seq', 'degree_sequence_tree', 'dense', 'dense_gnm_random_graph', 'density', 'depth_first_search', 'desargues_graph', 'descendants', 'dfs_edges', 'dfs_labeled_edges', 'dfs_postorder_nodes', 'dfs_predecessors', 'dfs_preorder_nodes', 'dfs_successors', 'dfs_tree', 'diameter', 'diamond_graph', 'difference', 'digraph', 'dijkstra_path', 'dijkstra_path_length', 'dijkstra_predecessor_and_distance', 'directed', 'directed_configuration_model', 'directed_havel_hakimi_graph', 'directed_laplacian_matrix', 'directed_modularity_matrix', 'disjoint_union', 'disjoint_union_all', 'dispersion', 'distance_measures', 'distance_regular', 'dodecahedral_graph', 'dominance', 'dominance_frontiers', 'dominating', 'dominating_set', 'dorogovtsev_goltsev_mendes_graph', 'double_edge_swap', 'draw', 'draw_circular', 'draw_graphviz', 'draw_networkx', 'draw_networkx_edge_labels', 'draw_networkx_edges', 'draw_networkx_labels', 'draw_networkx_nodes', 'draw_random', 'draw_shell', 'draw_spectral', 'draw_spring', 'drawing', 'duplication_divergence_graph', 'eccentricity', 'edge_betweenness', 'edge_betweenness_centrality', 'edge_betweenness_centrality_subset', 'edge_boundary', 'edge_connectivity', 'edge_current_flow_betweenness_centrality', 'edge_current_flow_betweenness_centrality_subset', 'edge_dfs', 'edge_load', 'edgedfs', 'edgelist', 'edges', 'edges_iter', 'ego', 'ego_graph', 'eigenvector', 'eigenvector_centrality', 'eigenvector_centrality_numpy', 'empty_graph', 'enumerate_all_cliques', 'erdos_renyi_graph', 'estrada_index', 'euler', 'eulerian_circuit', 'exception', 'expanders', 'expected_degree_graph', 'external', 'fast_could_be_isomorphic', 'fast_gnp_random_graph', 'faster_could_be_isomorphic', 'fiedler_vector', 'find_cliques', 'find_cliques_recursive', 'find_cores', 'find_cycle', 'find_induced_nodes', 'florentine_families_graph', 'flow', 'flow_hierarchy', 'flow_matrix', 'floyd_warshall', 'floyd_warshall_numpy', 'floyd_warshall_predecessor_and_distance', 'freeze', 'from_agraph', 'from_dict_of_dicts', 'from_dict_of_lists', 'from_edgelist', 'from_numpy_matrix', 'from_pandas_dataframe', 'from_pydot', 'from_scipy_sparse_matrix', 'frucht_graph', 'fruchterman_reingold_layout', 'full_rary_tree', 'function', 'gaussian_random_partition_graph', 'general_random_intersection_graph', 'generate_adjlist', 'generate_edgelist', 'generate_gexf', 'generate_gml', 'generate_graph6', 'generate_graphml', 'generate_multiline_adjlist', 'generate_pajek', 'generate_sparse6', 'generators', 'generic', 'geographical_threshold_graph', 'geometric', 'get_edge_attributes', 'get_node_attributes', 'gexf', 'global_parameters', 'gml', 'gn_graph', 'gnc_graph', 'gnm_random_graph', 'gnp_random_graph', 'gnr_graph', 'goldberg_radzik', 'google_matrix', 'gpickle', 'graph', 'graph6', 'graph_clique_number', 'graph_number_of_cliques', 'graphical', 'graphmatrix', 'graphml', 'graphviz_layout', 'greedy_color', 'grid_2d_graph', 'grid_graph', 'harmonic', 'harmonic_centrality', 'has_path', 'havel_hakimi_graph', 'heawood_graph', 'hierarchy', 'hits', 'hits_alg', 'hits_numpy', 'hits_scipy', 'house_graph', 'house_x_graph', 'hub_matrix', 'hybrid', 'hypercube_graph', 'icosahedral_graph', 'identified_nodes', 'immediate_dominators', 'in_degree_centrality', 'incidence_matrix', 'info', 'information_centrality', 'intersection', 'intersection_all', 'intersection_array', 'is_aperiodic', 'is_arborescence', 'is_attracting_component', 'is_biconnected', 'is_bipartite', 'is_branching', 'is_chordal', 'is_connected', 'is_digraphical', 'is_directed', 'is_directed_acyclic_graph', 'is_distance_regular', 'is_dominating_set', 'is_empty', 'is_eulerian', 'is_forest', 'is_frozen', 'is_graphical', 'is_isolate', 'is_isomorphic', 'is_kl_connected', 'is_multigraphical', 'is_negatively_weighted', 'is_pseudographical', 'is_semiconnected', 'is_strongly_connected', 'is_tree', 'is_valid_degree_sequence', 'is_valid_degree_sequence_erdos_gallai', 'is_valid_degree_sequence_havel_hakimi', 'is_weakly_connected', 'is_weighted', 'isolate', 'isolates', 'isomorphism', 'jaccard_coefficient', 'johnson', 'k_clique_communities', 'k_components', 'k_core', 'k_corona', 'k_crust', 'k_nearest_neighbors', 'k_random_intersection_graph', 'k_shell', 'karate_club_graph', 'katz', 'katz_centrality', 'katz_centrality_numpy', 'kclique', 'kl_connected_subgraph', 'kosaraju_strongly_connected_components', 'krackhardt_kite_graph', 'kruskal_mst', 'ladder_graph', 'laplacian_matrix', 'laplacian_spectrum', 'laplacianmatrix', 'layout', 'leda', 'lexicographic_product', 'linalg', 'line', 'line_graph', 'link_analysis', 'link_prediction', 'load', 'load_centrality', 'lollipop_graph', 'make_clique_bipartite', 'make_max_clique_graph', 'make_small_graph', 'margulis_gabber_galil_graph', 'matching', 'max_flow_min_cost', 'max_weight_matching', 'maximal_independent_set', 'maximal_matching', 'maximum_branching', 'maximum_flow', 'maximum_flow_value', 'maximum_spanning_arborescence', 'min_cost_flow', 'min_cost_flow_cost', 'minimum_branching', 'minimum_cut', 'minimum_cut_value', 'minimum_edge_cut', 'minimum_node_cut', 'minimum_spanning_arborescence', 'minimum_spanning_edges', 'minimum_spanning_tree', 'minors', 'mis', 'mixing', 'mixing_dict', 'modularity_matrix', 'modularity_spectrum', 'modularitymatrix', 'moebius_kantor_graph', 'mst', 'multidigraph', 'multigraph', 'multiline_adjlist', 'navigable_small_world_graph', 'negative_edge_cycle', 'neighbor_degree', 'neighbors', 'network_simplex', 'networkx', 'newman_watts_strogatz_graph', 'node_attribute_xy', 'node_boundary', 'node_clique_number', 'node_connected_component', 'node_connectivity', 'node_degree_xy', 'nodes', 'nodes_iter', 'non_edges', 'non_neighbors', 'nonisomorphic_trees', 'normalized_laplacian_matrix', 'null_graph', 'number_attracting_components', 'number_connected_components', 'number_of_cliques', 'number_of_edges', 'number_of_nodes', 'number_of_nonisomorphic_trees', 'number_strongly_connected_components', 'number_weakly_connected_components', 'numeric_assortativity_coefficient', 'numeric_mixing_matrix', 'nx', 'nx_agraph', 'nx_pydot', 'nx_pylab', 'nx_shp', 'nx_yaml', 'octahedral_graph', 'operators', 'ordered', 'out_degree_centrality', 'pagerank', 'pagerank_alg', 'pagerank_numpy', 'pagerank_scipy', 'pairs', 'pajek', 'pappus_graph', 'parse_adjlist', 'parse_edgelist', 'parse_gml', 'parse_graph6', 'parse_graphml', 'parse_leda', 'parse_multiline_adjlist', 'parse_pajek', 'parse_sparse6', 'path_graph', 'periphery', 'petersen_graph', 'planted_partition_graph', 'power', 'powerlaw_cluster_graph', 'predecessor', 'preferential_attachment', 'prim_mst', 'prim_mst_edges', 'product', 'project', 'project_down', 'project_up', 'projected_graph', 'pydot_layout', 'pygraphviz_layout', 'quotient_graph', 'ra_index_soundarajan_hopcroft', 'radius', 'random_clustered', 'random_clustered_graph', 'random_degree_sequence_graph', 'random_geometric_graph', 'random_graphs', 'random_layout', 'random_lobster', 'random_partition_graph', 'random_powerlaw_tree', 'random_powerlaw_tree_sequence', 'random_regular_graph', 'random_shell_graph', 'read_adjlist', 'read_dot', 'read_edgelist', 'read_gexf', 'read_gml', 'read_gpickle', 'read_graph6', 'read_graphml', 'read_leda', 'read_multiline_adjlist', 'read_pajek', 'read_shp', 'read_sparse6', 'read_weighted_edgelist', 'read_yaml', 'readwrite', 'recursive_simple_cycles', 'relabel', 'relabel_gexf_graph', 'relabel_nodes', 'relaxed_caveman_graph', 'release', 'resource_allocation_index', 'reverse', 'rich_club_coefficient', 'richclub', 's_metric', 'scale_free_graph', 'sedgewick_maze_graph', 'semiconnected', 'set_edge_attributes', 'set_node_attributes', 'shell_layout', 'shortest_path', 'shortest_path_length', 'shortest_paths', 'shortest_simple_paths', 'simple_cycles', 'simple_paths', 'single_source_dijkstra', 'single_source_dijkstra_path', 'single_source_dijkstra_path_length', 'single_source_shortest_path', 'single_source_shortest_path_length', 'small', 'smetric', 'social', 'sparse6', 'spectral_layout', 'spectral_ordering', 'spectrum', 'spring_layout', 'square_clustering', 'star_graph', 'stochastic', 'stochastic_graph', 'stoer_wagner', 'strong_product', 'strongly_connected', 'strongly_connected_component_subgraphs', 'strongly_connected_components', 'strongly_connected_components_recursive', 'subgraph', 'swap', 'symmetric_difference', 'tensor_product', 'test', 'tests', 'tetrahedral_graph', 'threshold', 'to_agraph', 'to_dict_of_dicts', 'to_dict_of_lists', 'to_edgelist', 'to_networkx_graph', 'to_numpy_matrix', 'to_numpy_recarray', 'to_pandas_dataframe', 'to_pydot', 'to_scipy_sparse_matrix', 'topological_sort', 'topological_sort_recursive', 'transitive_closure', 'transitivity', 'traversal', 'tree', 'triadic_census', 'triads', 'triangles', 'trivial_graph', 'truncated_cube_graph', 'truncated_tetrahedron_graph', 'tutte_graph', 'unary', 'uniform_random_intersection_graph', 'union', 'union_all', 'unweighted', 'utils', 'view_pygraphviz', 'vitality', 'watts_strogatz_graph', 'waxman_graph', 'weakly_connected', 'weakly_connected_component_subgraphs', 'weakly_connected_components', 'weighted', 'wheel_graph', 'within_inter_cluster', 'write_adjlist', 'write_dot', 'write_edgelist', 'write_gexf', 'write_gml', 'write_gpickle', 'write_graph6', 'write_graphml', 'write_multiline_adjlist', 'write_pajek', 'write_shp', 'write_sparse6', 'write_weighted_edgelist', 'write_yaml']\n"
     ]
    }
   ],
   "source": [
    "import networkx as nx\n",
    "print dir(nx)"
   ]
  },
  {
   "cell_type": "code",
   "execution_count": 58,
   "metadata": {
    "collapsed": true
   },
   "outputs": [],
   "source": [
    "import pysal as ps  \n",
    "import numpy as np  \n",
    "import pandas as pd "
   ]
  },
  {
   "cell_type": "code",
   "execution_count": 59,
   "metadata": {
    "collapsed": false
   },
   "outputs": [
    {
     "data": {
      "text/plain": [
       "array([[ 0,  1,  2,  3,  4],\n",
       "       [ 5,  6,  7,  8,  9],\n",
       "       [10, 11, 12, 13, 14],\n",
       "       [15, 16, 17, 18, 19],\n",
       "       [20, 21, 22, 23, 24]])"
      ]
     },
     "execution_count": 59,
     "metadata": {},
     "output_type": "execute_result"
    }
   ],
   "source": [
    "yp = np.arange(25)\n",
    "yp.shape = (5, 5)\n",
    "yp"
   ]
  },
  {
   "cell_type": "code",
   "execution_count": 60,
   "metadata": {
    "collapsed": false
   },
   "outputs": [
    {
     "data": {
      "text/plain": [
       "<matplotlib.colorbar.Colorbar instance at 0x061F3580>"
      ]
     },
     "execution_count": 60,
     "metadata": {},
     "output_type": "execute_result"
    },
    {
     "data": {
      "image/png": "[encoded data removed]",
      "text/plain": [
       "<matplotlib.figure.Figure at 0x7fc1210>"
      ]
     },
     "metadata": {},
     "output_type": "display_data"
    }
   ],
   "source": [
    "matshow(yp, cmap=cm.gray_r)\n",
    "colorbar()"
   ]
  },
  {
   "cell_type": "code",
   "execution_count": 61,
   "metadata": {
    "collapsed": false
   },
   "outputs": [
    {
     "name": "stdout",
     "output_type": "stream",
     "text": [
      "<pysal.weights.weights.W object at 0x07FC1490>\n"
     ]
    }
   ],
   "source": [
    "w = ps.lat2W(5, 5)\n",
    "print w"
   ]
  },
  {
   "cell_type": "code",
   "execution_count": 62,
   "metadata": {
    "collapsed": false
   },
   "outputs": [
    {
     "data": {
      "text/plain": [
       "0.83999999999999997"
      ]
     },
     "execution_count": 62,
     "metadata": {},
     "output_type": "execute_result"
    }
   ],
   "source": [
    "w = ps.lat2W(5, 5)\n",
    "mr = ps.Moran(yp.flatten(), w)\n",
    "mr.I"
   ]
  },
  {
   "cell_type": "code",
   "execution_count": 69,
   "metadata": {
    "collapsed": false
   },
   "outputs": [
    {
     "name": "stdout",
     "output_type": "stream",
     "text": [
      "[ 0.  0.  0.  0.  0.  0.  0.  0.  0.  0.  0.  0.  0.  0.  0.  0.  0.  0.\n",
      "  0.  0.  0.  0.  0.  0.  0.]\n"
     ]
    }
   ],
   "source": [
    "yn = np.zeros((25,))\n",
    "print yn"
   ]
  },
  {
   "cell_type": "code",
   "execution_count": 70,
   "metadata": {
    "collapsed": false
   },
   "outputs": [
    {
     "name": "stdout",
     "output_type": "stream",
     "text": [
      "[0, 2, 4, 6, 8, 10, 12, 14, 16, 18, 20, 22, 24]\n"
     ]
    }
   ],
   "source": [
    "ids = range(0,25,2)\n",
    "print ids"
   ]
  },
  {
   "cell_type": "code",
   "execution_count": 71,
   "metadata": {
    "collapsed": false
   },
   "outputs": [
    {
     "data": {
      "text/plain": [
       "array([[ 1.,  0.,  1.,  0.,  1.],\n",
       "       [ 0.,  1.,  0.,  1.,  0.],\n",
       "       [ 1.,  0.,  1.,  0.,  1.],\n",
       "       [ 0.,  1.,  0.,  1.,  0.],\n",
       "       [ 1.,  0.,  1.,  0.,  1.]])"
      ]
     },
     "execution_count": 71,
     "metadata": {},
     "output_type": "execute_result"
    }
   ],
   "source": [
    "yn[ids] = 1\n",
    "yn.shape = (5,5)\n",
    "yn"
   ]
  },
  {
   "cell_type": "code",
   "execution_count": 72,
   "metadata": {
    "collapsed": false
   },
   "outputs": [
    {
     "data": {
      "text/plain": [
       "<matplotlib.colorbar.Colorbar instance at 0x0817D7B0>"
      ]
     },
     "execution_count": 72,
     "metadata": {},
     "output_type": "execute_result"
    },
    {
     "data": {
      "image/png": "[encoded data removed]",
      "text/plain": [
       "<matplotlib.figure.Figure at 0x6088e30>"
      ]
     },
     "metadata": {},
     "output_type": "display_data"
    }
   ],
   "source": [
    "matshow(yn, cmap=cm.gray_r)\n",
    "colorbar()"
   ]
  },
  {
   "cell_type": "code",
   "execution_count": 73,
   "metadata": {
    "collapsed": false
   },
   "outputs": [
    {
     "data": {
      "text/plain": [
       "-0.99999999999999944"
      ]
     },
     "execution_count": 73,
     "metadata": {},
     "output_type": "execute_result"
    }
   ],
   "source": [
    "w = ps.lat2W(5, 5)\n",
    "mr = ps.Moran(yn.flatten(), w)\n",
    "mr.I"
   ]
  },
  {
   "cell_type": "code",
   "execution_count": 93,
   "metadata": {
    "collapsed": false
   },
   "outputs": [
    {
     "name": "stdout",
     "output_type": "stream",
     "text": [
      "[ 0.  0.  0.  0.  0.  0.  0.  0.  0.  0.  0.  0.  0.  0.  0.  0.  0.  0.\n",
      "  0.  0.  0.  0.  0.  0.  0.]\n"
     ]
    }
   ],
   "source": [
    "yx = np.zeros((25,))\n",
    "print yx"
   ]
  },
  {
   "cell_type": "code",
   "execution_count": 94,
   "metadata": {
    "collapsed": false
   },
   "outputs": [],
   "source": [
    "for i in range(6,14):\n",
    "    if (i != 9) and (i != 10): \n",
    "        yx[i] = 1"
   ]
  },
  {
   "cell_type": "code",
   "execution_count": 95,
   "metadata": {
    "collapsed": false
   },
   "outputs": [
    {
     "data": {
      "text/plain": [
       "array([[ 0.,  0.,  0.,  0.,  0.],\n",
       "       [ 0.,  1.,  1.,  1.,  0.],\n",
       "       [ 0.,  1.,  1.,  1.,  0.],\n",
       "       [ 0.,  0.,  0.,  0.,  0.],\n",
       "       [ 0.,  0.,  0.,  0.,  0.]])"
      ]
     },
     "execution_count": 95,
     "metadata": {},
     "output_type": "execute_result"
    }
   ],
   "source": [
    "yx.shape = (5,5)\n",
    "yx"
   ]
  },
  {
   "cell_type": "code",
   "execution_count": 96,
   "metadata": {
    "collapsed": false
   },
   "outputs": [
    {
     "data": {
      "text/plain": [
       "<matplotlib.colorbar.Colorbar instance at 0x05FB7A08>"
      ]
     },
     "execution_count": 96,
     "metadata": {},
     "output_type": "execute_result"
    },
    {
     "data": {
      "image/png": "[encoded data removed]",
      "text/plain": [
       "<matplotlib.figure.Figure at 0x81969b0>"
      ]
     },
     "metadata": {},
     "output_type": "display_data"
    }
   ],
   "source": [
    "matshow(yx, cmap=cm.gray_r)\n",
    "colorbar()"
   ]
  },
  {
   "cell_type": "code",
   "execution_count": 97,
   "metadata": {
    "collapsed": false
   },
   "outputs": [
    {
     "data": {
      "text/plain": [
       "0.42105263157894773"
      ]
     },
     "execution_count": 97,
     "metadata": {},
     "output_type": "execute_result"
    }
   ],
   "source": [
    "w = ps.lat2W(5, 5)\n",
    "mr = ps.Moran(yx.flatten(), w)\n",
    "mr.I"
   ]
  },
  {
   "cell_type": "code",
   "execution_count": 98,
   "metadata": {
    "collapsed": false
   },
   "outputs": [
    {
     "name": "stdout",
     "output_type": "stream",
     "text": [
      "[ 0  1  2  3  4  5  6  7  8  9 10 11 12 13 14 15 16 17 18 19 20 21 22 23 24]\n"
     ]
    }
   ],
   "source": [
    "yr = np.arange(25)\n",
    "print yr\n"
   ]
  },
  {
   "cell_type": "code",
   "execution_count": 99,
   "metadata": {
    "collapsed": false
   },
   "outputs": [
    {
     "data": {
      "text/plain": [
       "array([[24, 13,  9,  0, 23],\n",
       "       [11, 22, 14,  5, 18],\n",
       "       [20, 19,  8, 17, 21],\n",
       "       [ 3, 15,  7, 16, 12],\n",
       "       [ 6,  2,  4, 10,  1]])"
      ]
     },
     "execution_count": 99,
     "metadata": {},
     "output_type": "execute_result"
    }
   ],
   "source": [
    "np.random.shuffle(yr)\n",
    "yr.shape = (5, 5)\n",
    "yr"
   ]
  },
  {
   "cell_type": "code",
   "execution_count": 100,
   "metadata": {
    "collapsed": false
   },
   "outputs": [
    {
     "data": {
      "text/plain": [
       "<matplotlib.colorbar.Colorbar instance at 0x08AE7B48>"
      ]
     },
     "execution_count": 100,
     "metadata": {},
     "output_type": "execute_result"
    },
    {
     "data": {
      "image/png": "[encoded data removed]",
      "text/plain": [
       "<matplotlib.figure.Figure at 0x6088a70>"
      ]
     },
     "metadata": {},
     "output_type": "display_data"
    }
   ],
   "source": [
    "matshow(yr, cmap=cm.gray_r)\n",
    "colorbar()"
   ]
  },
  {
   "cell_type": "code",
   "execution_count": 101,
   "metadata": {
    "collapsed": false
   },
   "outputs": [
    {
     "data": {
      "text/plain": [
       "0.15217948717948718"
      ]
     },
     "execution_count": 101,
     "metadata": {},
     "output_type": "execute_result"
    }
   ],
   "source": [
    "w = ps.lat2W(5, 5)\n",
    "mr = ps.Moran(yr.flatten(), w)\n",
    "mr.I"
   ]
  },
  {
   "cell_type": "code",
   "execution_count": 102,
   "metadata": {
    "collapsed": false
   },
   "outputs": [
    {
     "name": "stderr",
     "output_type": "stream",
     "text": [
      "C:\\Python27\\lib\\site-packages\\dateutil\\parser.py:428: UnicodeWarning: Unicode equal comparison failed to convert both arguments to Unicode - interpreting them as being unequal\n",
      "  elif res.tzname and res.tzname in time.tzname:\n"
     ]
    }
   ],
   "source": [
    "import datetime\n",
    "import os\n",
    "import pandas\n",
    "\n",
    "\n",
    "seattle_fire_responses = pandas.read_csv('0203.csv', parse_dates=[\n",
    "    'Datetime'\n",
    "], usecols=[\n",
    "    'Address',\n",
    "    'Type',\n",
    "    'Datetime',\n",
    "    'Latitude',\n",
    "    'Longitude',\n",
    "    'Incident Number',\n",
    "]).dropna()"
   ]
  },
  {
   "cell_type": "code",
   "execution_count": 104,
   "metadata": {
    "collapsed": false
   },
   "outputs": [
    {
     "data": {
      "text/plain": [
       "Address            332\n",
       "Type               332\n",
       "Datetime           332\n",
       "Latitude           332\n",
       "Longitude          332\n",
       "Incident Number    332\n",
       "dtype: int64"
      ]
     },
     "execution_count": 104,
     "metadata": {},
     "output_type": "execute_result"
    }
   ],
   "source": [
    "seattle_fire_responses.count()"
   ]
  },
  {
   "cell_type": "code",
   "execution_count": 107,
   "metadata": {
    "collapsed": false
   },
   "outputs": [],
   "source": [
    "seattle_fire_response_locations = seattle_fire_responses[['Longitude', 'Latitude']].values"
   ]
  },
  {
   "cell_type": "code",
   "execution_count": 108,
   "metadata": {
    "collapsed": false
   },
   "outputs": [
    {
     "data": {
      "text/html": [
       "<div>\n",
       "<table border=\"1\" class=\"dataframe\">\n",
       "  <thead>\n",
       "    <tr style=\"text-align: right;\">\n",
       "      <th></th>\n",
       "      <th>Address</th>\n",
       "      <th>Type</th>\n",
       "      <th>Datetime</th>\n",
       "      <th>Latitude</th>\n",
       "      <th>Longitude</th>\n",
       "      <th>Incident Number</th>\n",
       "    </tr>\n",
       "  </thead>\n",
       "  <tbody>\n",
       "    <tr>\n",
       "      <th>0</th>\n",
       "      <td>4th Av N / Mercer St</td>\n",
       "      <td>Aid Response</td>\n",
       "      <td>2014-02-03 23:56:00</td>\n",
       "      <td>47.624564</td>\n",
       "      <td>-122.348877</td>\n",
       "      <td>F140012355</td>\n",
       "    </tr>\n",
       "    <tr>\n",
       "      <th>1</th>\n",
       "      <td>2121 8th Av</td>\n",
       "      <td>Aid Response</td>\n",
       "      <td>2014-02-03 23:47:00</td>\n",
       "      <td>47.616647</td>\n",
       "      <td>-122.338160</td>\n",
       "      <td>F140012352</td>\n",
       "    </tr>\n",
       "  </tbody>\n",
       "</table>\n",
       "</div>"
      ],
      "text/plain": [
       "                Address          Type            Datetime   Latitude  \\\n",
       "0  4th Av N / Mercer St  Aid Response 2014-02-03 23:56:00  47.624564   \n",
       "1           2121 8th Av  Aid Response 2014-02-03 23:47:00  47.616647   \n",
       "\n",
       "    Longitude Incident Number  \n",
       "0 -122.348877      F140012355  \n",
       "1 -122.338160      F140012352  "
      ]
     },
     "execution_count": 108,
     "metadata": {},
     "output_type": "execute_result"
    }
   ],
   "source": [
    "seattle_fire_responses[:2]"
   ]
  },
  {
   "cell_type": "code",
   "execution_count": 109,
   "metadata": {
    "collapsed": false
   },
   "outputs": [
    {
     "data": {
      "text/plain": [
       "array([[-122.348877,   47.624564],\n",
       "       [-122.33816 ,   47.616647]])"
      ]
     },
     "execution_count": 109,
     "metadata": {},
     "output_type": "execute_result"
    }
   ],
   "source": [
    "seattle_fire_response_locations[0:2]"
   ]
  },
  {
   "cell_type": "code",
   "execution_count": 110,
   "metadata": {
    "collapsed": true
   },
   "outputs": [],
   "source": [
    "from geometryIO import get_transformPoint, proj4LL\n",
    "proj4_washington_north = (\n",
    "    '+proj=lcc +lat_1=48.73333333333333 +lat_2=47.5 +lat_0=47 '\n",
    "    '+lon_0=-120.8333333333333 +x_0=500000 +y_0=0 +ellps=GRS80 +units=m +no_defs ')\n",
    "transform_point = get_transformPoint(proj4LL, proj4_washington_north)\n",
    "untransform_point = get_transformPoint(proj4_washington_north, proj4LL)"
   ]
  },
  {
   "cell_type": "code",
   "execution_count": 111,
   "metadata": {
    "collapsed": false
   },
   "outputs": [
    {
     "name": "stdout",
     "output_type": "stream",
     "text": [
      "(-122.348877, 47.624563999999999)\n"
     ]
    }
   ],
   "source": [
    "print tuple(seattle_fire_response_locations[0])"
   ]
  },
  {
   "cell_type": "code",
   "execution_count": 112,
   "metadata": {
    "collapsed": false
   },
   "outputs": [
    {
     "name": "stdout",
     "output_type": "stream",
     "text": [
      "(386093.633745886, 70561.88624272498)\n"
     ]
    }
   ],
   "source": [
    "\n",
    "print transform_point(*seattle_fire_response_locations[0])"
   ]
  },
  {
   "cell_type": "code",
   "execution_count": 113,
   "metadata": {
    "collapsed": false
   },
   "outputs": [
    {
     "name": "stdout",
     "output_type": "stream",
     "text": [
      "(-122.348877, 47.624563999983344)\n"
     ]
    }
   ],
   "source": [
    "print untransform_point(*transform_point(*seattle_fire_response_locations[0]))"
   ]
  },
  {
   "cell_type": "code",
   "execution_count": 114,
   "metadata": {
    "collapsed": false
   },
   "outputs": [
    {
     "data": {
      "text/plain": [
       "array([-122.348877,   47.624564])"
      ]
     },
     "execution_count": 114,
     "metadata": {},
     "output_type": "execute_result"
    }
   ],
   "source": [
    "seattle_fire_response_locations[0]"
   ]
  },
  {
   "cell_type": "code",
   "execution_count": 117,
   "metadata": {
    "collapsed": false
   },
   "outputs": [],
   "source": [
    "transformed_ary = []\n",
    "for loc in seattle_fire_response_locations:\n",
    "    #print loc\n",
    "    #print transform_point(*loc)\n",
    "    transformed_ary.append(transform_point(*loc))\n",
    "seattle_fire_response_xys = np.array(transformed_ary)"
   ]
  },
  {
   "cell_type": "code",
   "execution_count": 119,
   "metadata": {
    "collapsed": false
   },
   "outputs": [
    {
     "data": {
      "text/plain": [
       "array([[ 386093.63374589,   70561.88624272],\n",
       "       [ 386881.79616456,   69666.03052991]])"
      ]
     },
     "execution_count": 119,
     "metadata": {},
     "output_type": "execute_result"
    }
   ],
   "source": [
    "seattle_fire_response_xys = np.array([\n",
    "    transform_point(*_) for _ in seattle_fire_response_locations])\n",
    "seattle_fire_response_xys[:2]"
   ]
  },
  {
   "cell_type": "code",
   "execution_count": 130,
   "metadata": {
    "collapsed": true
   },
   "outputs": [],
   "source": [
    "def rate_hotspots(hotspot_xys, client_xys, radius_in_meters):\n",
    "    covered_count = 0\n",
    "    summed_distance = 0\n",
    "    try:\n",
    "        hotspot_kdtree = KDTree(hotspot_xys)\n",
    "    except ValueError:\n",
    "        return 0\n",
    "    for client_xy in client_xys:\n",
    "        hotspot_distances, hotspot_indices = hotspot_kdtree.query(\n",
    "            client_xy, 1)\n",
    "        if hotspot_distances < radius_in_meters:\n",
    "            covered_count += 1\n",
    "        summed_distance += hotspot_distances\n",
    "    return covered_count / float(summed_distance)\n",
    "radius_in_meters = 800\n",
    "#rate_hotspots(seattle_fire_response_xys[:10], seattle_fire_response_xys, radius_in_meters)"
   ]
  },
  {
   "cell_type": "code",
   "execution_count": 122,
   "metadata": {
    "collapsed": false
   },
   "outputs": [
    {
     "data": {
      "text/plain": [
       "array([[ 386093.63374589,   70561.88624272]])"
      ]
     },
     "execution_count": 122,
     "metadata": {},
     "output_type": "execute_result"
    }
   ],
   "source": [
    "seattle_fire_response_xys[:1]"
   ]
  },
  {
   "cell_type": "code",
   "execution_count": 125,
   "metadata": {
    "collapsed": false
   },
   "outputs": [
    {
     "data": {
      "text/plain": [
       "array([[ 386093.63374589,   70561.88624272],\n",
       "       [ 386881.79616456,   69666.03052991],\n",
       "       [ 386382.48514255,   81932.20908159],\n",
       "       [ 390770.84619915,   76974.89195142],\n",
       "       [ 387116.71718893,   68523.06795986],\n",
       "       [ 390077.50403605,   61272.48523808],\n",
       "       [ 384866.54134847,   62289.91440668],\n",
       "       [ 387504.06837069,   66451.95411209],\n",
       "       [ 384164.23019178,   78226.52153046],\n",
       "       [ 390685.81877533,   67481.74638621]])"
      ]
     },
     "execution_count": 125,
     "metadata": {},
     "output_type": "execute_result"
    }
   ],
   "source": [
    "seattle_fire_response_xys[:10]"
   ]
  },
  {
   "cell_type": "code",
   "execution_count": 127,
   "metadata": {
    "collapsed": false
   },
   "outputs": [
    {
     "name": "stdout",
     "output_type": "stream",
     "text": [
      "0.0 0\n",
      "1193.21308088 0\n",
      "11373.9912339 0\n",
      "7937.44030231 0\n",
      "2281.11370212 0\n",
      "10107.6304599 0\n",
      "8362.4920812 0\n",
      "4345.21207184 0\n",
      "7903.74798235 0\n",
      "5529.50493989 0\n"
     ]
    }
   ],
   "source": [
    "from scipy.spatial import KDTree\n",
    "hotspot_kdtree = KDTree(seattle_fire_response_xys[:1])\n",
    "for client_xy in seattle_fire_response_xys[:10]:\n",
    "    hotspot_distances, hotspot_indices = hotspot_kdtree.query(client_xy, 1)\n",
    "    print hotspot_distances, hotspot_indices"
   ]
  },
  {
   "cell_type": "code",
   "execution_count": 132,
   "metadata": {
    "collapsed": false
   },
   "outputs": [
    {
     "name": "stdout",
     "output_type": "stream",
     "text": [
      "1.69392916196e-05\n"
     ]
    }
   ],
   "source": [
    "from scipy.spatial import KDTree\n",
    "summed_distance = 0\n",
    "covered_count = 0\n",
    "hotspot_kdtree = KDTree(seattle_fire_response_xys[:1])\n",
    "for client_xy in seattle_fire_response_xys[:10]:\n",
    "    hotspot_distances, hotspot_indices = hotspot_kdtree.query(client_xy, 1)\n",
    "    if hotspot_distances < 800:\n",
    "        covered_count +=1\n",
    "    summed_distance += hotspot_distances\n",
    "print covered_count / summed_distance"
   ]
  },
  {
   "cell_type": "code",
   "execution_count": 131,
   "metadata": {
    "collapsed": false
   },
   "outputs": [
    {
     "data": {
      "text/plain": [
       "1.6939291619598087e-05"
      ]
     },
     "execution_count": 131,
     "metadata": {},
     "output_type": "execute_result"
    }
   ],
   "source": [
    "rate_hotspots(seattle_fire_response_xys[:1], seattle_fire_response_xys[:10], radius_in_meters)"
   ]
  },
  {
   "cell_type": "code",
   "execution_count": 133,
   "metadata": {
    "collapsed": false
   },
   "outputs": [
    {
     "data": {
      "text/plain": [
       "0.01064235044280993"
      ]
     },
     "execution_count": 133,
     "metadata": {},
     "output_type": "execute_result"
    }
   ],
   "source": [
    "from scipy.spatial.distance import euclidean\n",
    "\n",
    "def get_distance_in_degrees(xy, distance_in_meters):\n",
    "    location1 = untransform_point(*xy)\n",
    "    location2 = untransform_point(xy[0] + distance_in_meters, xy[1])\n",
    "    return euclidean(location1, location2)\n",
    "\n",
    "get_distance_in_degrees(seattle_fire_response_xys[0], distance_in_meters=800)"
   ]
  },
  {
   "cell_type": "code",
   "execution_count": 134,
   "metadata": {
    "collapsed": true
   },
   "outputs": [],
   "source": [
    "import numpy as np\n",
    "from matplotlib import pyplot as plt\n",
    "from mpl_toolkits.basemap import Basemap, cm\n",
    "from shapely.geometry import MultiPoint\n",
    "\n",
    "def plot_hotspots(hotspot_xys, client_xys, radius_in_meters):\n",
    "    hotspot_locations = np.array([untransform_point(*_) for _ in hotspot_xys]) \n",
    "    client_locations = np.array([untransform_point(*_) for _ in client_xys])\n",
    "    llcrnrlon, llcrnrlat, urcrnrlon, urcrnrlat = MultiPoint(client_locations).bounds\n",
    "    m = Basemap(\n",
    "        llcrnrlon, llcrnrlat, urcrnrlon, urcrnrlat, resolution='h', projection='tmerc',\n",
    "        lon_0=np.mean([llcrnrlon, urcrnrlon]),\n",
    "        lat_0=np.mean([llcrnrlat, urcrnrlat]))\n",
    "    m.drawcoastlines()\n",
    "    radius_in_degrees = get_distance_in_degrees(client_xys[0], radius_in_meters)\n",
    "    for hotspot_location in hotspot_locations:\n",
    "        m.tissot(*hotspot_location, radius_deg=radius_in_degrees, npts=15, color='r')\n",
    "    m.scatter(client_locations[:, 0], client_locations[:, 1],\n",
    "        color='b', latlon=True, marker='.', zorder=10)\n",
    "    plt.axis('off')"
   ]
  },
  {
   "cell_type": "code",
   "execution_count": 136,
   "metadata": {
    "collapsed": false
   },
   "outputs": [
    {
     "name": "stdout",
     "output_type": "stream",
     "text": [
      "Populating the interactive namespace from numpy and matplotlib\n"
     ]
    },
    {
     "name": "stderr",
     "output_type": "stream",
     "text": [
      "WARNING: pylab import has clobbered these variables: ['cm']\n",
      "`%matplotlib` prevents importing * from pylab and numpy\n"
     ]
    }
   ],
   "source": [
    "%pylab inline"
   ]
  },
  {
   "cell_type": "code",
   "execution_count": 137,
   "metadata": {
    "collapsed": false
   },
   "outputs": [
    {
     "data": {
      "image/png": "[encoded data removed]",
      "text/plain": [
       "<matplotlib.figure.Figure at 0x31f7750>"
      ]
     },
     "metadata": {},
     "output_type": "display_data"
    }
   ],
   "source": [
    "plot_hotspots(seattle_fire_response_xys[:1], seattle_fire_response_xys[:10],800)"
   ]
  },
  {
   "cell_type": "code",
   "execution_count": 138,
   "metadata": {
    "collapsed": false,
    "scrolled": true
   },
   "outputs": [
    {
     "data": {
      "image/png": "[encoded data removed]",
      "text/plain": [
       "<matplotlib.figure.Figure at 0x5fd2d50>"
      ]
     },
     "metadata": {},
     "output_type": "display_data"
    }
   ],
   "source": [
    "plot_hotspots(seattle_fire_response_xys[:2], seattle_fire_response_xys[:10],800)"
   ]
  },
  {
   "cell_type": "code",
   "execution_count": 139,
   "metadata": {
    "collapsed": false
   },
   "outputs": [
    {
     "data": {
      "text/plain": [
       "array([[ 386093.63374589,   70561.88624272],\n",
       "       [ 386881.79616456,   69666.03052991],\n",
       "       [ 386382.48514255,   81932.20908159],\n",
       "       [ 390770.84619915,   76974.89195142],\n",
       "       [ 387116.71718893,   68523.06795986]])"
      ]
     },
     "execution_count": 139,
     "metadata": {},
     "output_type": "execute_result"
    }
   ],
   "source": [
    "hotspots_via_random = seattle_fire_response_xys[:5]\n",
    "hotspots_via_random\n",
    "plot_hotspots(hotspots_via_random, seattle_fire_response_xys, radius_in_meters)"
   ]
  },
  {
   "cell_type": "code",
   "execution_count": 140,
   "metadata": {
    "collapsed": false
   },
   "outputs": [
    {
     "data": {
      "image/png": "[encoded data removed]",
      "text/plain": [
       "<matplotlib.figure.Figure at 0x89b1210>"
      ]
     },
     "metadata": {},
     "output_type": "display_data"
    }
   ],
   "source": [
    "plot_hotspots(hotspots_via_random, seattle_fire_response_xys, radius_in_meters)"
   ]
  },
  {
   "cell_type": "code",
   "execution_count": 144,
   "metadata": {
    "collapsed": false
   },
   "outputs": [
    {
     "data": {
      "image/png": "[encoded data removed]",
      "text/plain": [
       "<matplotlib.figure.Figure at 0x318f570>"
      ]
     },
     "metadata": {},
     "output_type": "display_data"
    }
   ],
   "source": [
    "plot_hotspots(seattle_fire_response_xys[:1], seattle_fire_response_xys[:10],800)"
   ]
  },
  {
   "cell_type": "code",
   "execution_count": 145,
   "metadata": {
    "collapsed": false
   },
   "outputs": [
    {
     "name": "stdout",
     "output_type": "stream",
     "text": [
      "1.69392916196e-05\n"
     ]
    }
   ],
   "source": [
    "print rate_hotspots(seattle_fire_response_xys[:1], seattle_fire_response_xys[:10],800)"
   ]
  },
  {
   "cell_type": "code",
   "execution_count": 146,
   "metadata": {
    "collapsed": false
   },
   "outputs": [
    {
     "data": {
      "image/png": "[encoded data removed]",
      "text/plain": [
       "<matplotlib.figure.Figure at 0x31f7d10>"
      ]
     },
     "metadata": {},
     "output_type": "display_data"
    }
   ],
   "source": [
    "plot_hotspots(seattle_fire_response_xys[:5], seattle_fire_response_xys[:10],800)"
   ]
  },
  {
   "cell_type": "code",
   "execution_count": 147,
   "metadata": {
    "collapsed": false
   },
   "outputs": [
    {
     "name": "stdout",
     "output_type": "stream",
     "text": [
      "0.000203231358865\n"
     ]
    }
   ],
   "source": [
    "print rate_hotspots(seattle_fire_response_xys[:5], seattle_fire_response_xys[:10],800)"
   ]
  },
  {
   "cell_type": "code",
   "execution_count": 148,
   "metadata": {
    "collapsed": false
   },
   "outputs": [
    {
     "data": {
      "image/png": "[encoded data removed]",
      "text/plain": [
       "<matplotlib.figure.Figure at 0x122f8310>"
      ]
     },
     "metadata": {},
     "output_type": "display_data"
    }
   ],
   "source": [
    "def plot_rating_vs_count(title, hotspot_xys):\n",
    "    hotspot_counts = xrange(len(hotspot_xys))\n",
    "    hotspot_ratings = []\n",
    "    for hotspot_count in hotspot_counts:\n",
    "        hotspot_ratings.append(rate_hotspots(\n",
    "            hotspot_xys[:hotspot_count], seattle_fire_response_xys, radius_in_meters))\n",
    "    plt.plot(hotspot_counts, hotspot_ratings)\n",
    "    plt.xlabel('hotspot_count')\n",
    "    plt.ylabel('hotspot_rating')\n",
    "    plt.title(title)\n",
    "    return hotspot_ratings\n",
    "\n",
    "hotspots_via_random_ratings = plot_rating_vs_count(\n",
    "    'Place five ambulances at random', hotspots_via_random)"
   ]
  },
  {
   "cell_type": "code",
   "execution_count": 149,
   "metadata": {
    "collapsed": false
   },
   "outputs": [
    {
     "data": {
      "text/plain": [
       "array([ 387649.22387623,   70446.07270113])"
      ]
     },
     "execution_count": 149,
     "metadata": {},
     "output_type": "execute_result"
    }
   ],
   "source": [
    "import numpy as np\n",
    "\n",
    "def place_hotspot_via_mean(xys):\n",
    "    return np.mean(xys, axis=0)\n",
    "\n",
    "place_hotspot_via_mean(seattle_fire_response_xys)"
   ]
  },
  {
   "cell_type": "code",
   "execution_count": 176,
   "metadata": {
    "collapsed": true
   },
   "outputs": [],
   "source": [
    "def sum_distances_from_hotspot(hotspot_xy, client_xys):\n",
    "    return sum(euclidean(hotspot_xy, _) for _ in client_xys)"
   ]
  },
  {
   "cell_type": "code",
   "execution_count": 177,
   "metadata": {
    "collapsed": false
   },
   "outputs": [
    {
     "name": "stdout",
     "output_type": "stream",
     "text": [
      "1826510.78258\n"
     ]
    }
   ],
   "source": [
    "print sum_distances_from_hotspot(seattle_fire_response_xys[:1], seattle_fire_response_xys)"
   ]
  },
  {
   "cell_type": "code",
   "execution_count": 178,
   "metadata": {
    "collapsed": true
   },
   "outputs": [],
   "source": [
    "def price_hotspot_via_distance(hotspot_xy, client_xys):\n",
    "    summed_distance = sum_distances_from_hotspot(hotspot_xy, client_xys)\n",
    "    return summed_distance"
   ]
  },
  {
   "cell_type": "code",
   "execution_count": 179,
   "metadata": {
    "collapsed": true
   },
   "outputs": [],
   "source": [
    "from scipy.optimize import fmin_bfgs\n",
    "fmin_bfgs?\n",
    "#def place_hotspot_via_bfgs(xys):\n",
    "#    return fmin_bfgs(price_hotspot_via_distance, xys[0], args=(xys,), disp=0)\n"
   ]
  },
  {
   "cell_type": "code",
   "execution_count": 175,
   "metadata": {
    "collapsed": false
   },
   "outputs": [
    {
     "name": "stdout",
     "output_type": "stream",
     "text": [
      "1750875.42005\n",
      "1717521.5521\n"
     ]
    }
   ],
   "source": [
    "from scipy.optimize import fmin_bfgs\n",
    "from scipy.spatial.distance import euclidean\n",
    "\n",
    "def sum_distances_from_hotspot(hotspot_xy, client_xys):\n",
    "    return sum(euclidean(hotspot_xy, _) for _ in client_xys)\n",
    "\n",
    "def price_hotspot_via_distance(hotspot_xy, client_xys):\n",
    "    summed_distance = sum_distances_from_hotspot(hotspot_xy, client_xys)\n",
    "    return summed_distance\n",
    "\n",
    "def place_hotspot_via_bfgs(xys):\n",
    "    return fmin_bfgs(price_hotspot_via_distance, xys[0], args=(xys,), disp=0)\n",
    "\n",
    "def place_and_price_hotspot(\n",
    "        client_xys, place_hotspot, price_hotspot=price_hotspot_via_distance):\n",
    "    hotspot_xy = place_hotspot(client_xys)\n",
    "    return price_hotspot(hotspot_xy, client_xys)\n",
    "\n",
    "print place_and_price_hotspot(seattle_fire_response_xys, place_hotspot_via_mean)\n",
    "print place_and_price_hotspot(seattle_fire_response_xys, place_hotspot_via_bfgs)"
   ]
  },
  {
   "cell_type": "code",
   "execution_count": 157,
   "metadata": {
    "collapsed": false
   },
   "outputs": [
    {
     "name": "stdout",
     "output_type": "stream",
     "text": [
      "[array([ 387436.4874844 ,   69496.76621068])]\n"
     ]
    }
   ],
   "source": [
    "hotspots_via_single = hotspot_xys = [place_hotspot_via_bfgs(seattle_fire_response_xys)]\n",
    "print hotspots_via_single\n",
    "#plot_hotspots(hotspot_xys, seattle_fire_response_xys, radius_in_meters)\n",
    "#print '%f' % rate_hotspots(hotspot_xys, seattle_fire_response_xys, radius_in_meters)"
   ]
  },
  {
   "cell_type": "code",
   "execution_count": 158,
   "metadata": {
    "collapsed": false
   },
   "outputs": [
    {
     "name": "stdout",
     "output_type": "stream",
     "text": [
      "0.000017\n"
     ]
    },
    {
     "data": {
      "image/png": "[encoded data removed]",
      "text/plain": [
       "<matplotlib.figure.Figure at 0x17987730>"
      ]
     },
     "metadata": {},
     "output_type": "display_data"
    }
   ],
   "source": [
    "plot_hotspots(hotspot_xys, seattle_fire_response_xys, radius_in_meters)\n",
    "print '%f' % rate_hotspots(hotspot_xys, seattle_fire_response_xys, radius_in_meters)"
   ]
  },
  {
   "cell_type": "code",
   "execution_count": 159,
   "metadata": {
    "collapsed": false
   },
   "outputs": [
    {
     "name": "stdout",
     "output_type": "stream",
     "text": [
      "[array([ 387649.22387623,   70446.07270113])]\n"
     ]
    }
   ],
   "source": [
    "hotspots_via_single = hotspot_xys = [place_hotspot_via_mean(seattle_fire_response_xys)]\n",
    "print hotspots_via_single\n",
    "#plot_hotspots(hotspot_xys, seattle_fire_response_xys, radius_in_meters)\n",
    "#print '%f' % rate_hotspots(hotspot_xys, seattle_fire_response_xys, radius_in_meters)"
   ]
  },
  {
   "cell_type": "code",
   "execution_count": 160,
   "metadata": {
    "collapsed": false
   },
   "outputs": [
    {
     "name": "stdout",
     "output_type": "stream",
     "text": [
      "0.000003\n"
     ]
    },
    {
     "data": {
      "image/png": "[encoded data removed]",
      "text/plain": [
       "<matplotlib.figure.Figure at 0x17969e70>"
      ]
     },
     "metadata": {},
     "output_type": "display_data"
    }
   ],
   "source": [
    "plot_hotspots(hotspot_xys, seattle_fire_response_xys, radius_in_meters)\n",
    "print '%f' % rate_hotspots(hotspot_xys, seattle_fire_response_xys, radius_in_meters)"
   ]
  },
  {
   "cell_type": "code",
   "execution_count": 162,
   "metadata": {
    "collapsed": false
   },
   "outputs": [
    {
     "name": "stdout",
     "output_type": "stream",
     "text": [
      "1 2\n",
      "1 3\n",
      "1 4\n",
      "1 5\n",
      "2 3\n",
      "2 4\n",
      "2 5\n",
      "3 4\n",
      "3 5\n",
      "4 5\n"
     ]
    }
   ],
   "source": [
    "from itertools import combinations\n",
    "a = [1,2,3,4,5] \n",
    "for x1,x2 in combinations(a, 2):\n",
    "    print x1, x2"
   ]
  },
  {
   "cell_type": "code",
   "execution_count": 163,
   "metadata": {
    "collapsed": false
   },
   "outputs": [
    {
     "data": {
      "text/plain": [
       "26657.061209676896"
      ]
     },
     "execution_count": 163,
     "metadata": {},
     "output_type": "execute_result"
    }
   ],
   "source": [
    "from itertools import combinations\n",
    "from scipy.spatial.distance import euclidean\n",
    "\n",
    "def get_diameter(xys):\n",
    "    diameter = 0\n",
    "    for xy1, xy2 in combinations(xys, 2):\n",
    "        distance = euclidean(xy1, xy2)\n",
    "        if distance > diameter:\n",
    "            diameter = distance\n",
    "    return diameter\n",
    "\n",
    "get_diameter(seattle_fire_response_xys)"
   ]
  },
  {
   "cell_type": "code",
   "execution_count": 165,
   "metadata": {
    "collapsed": false
   },
   "outputs": [],
   "source": [
    "#print seattle_fire_response_xys"
   ]
  },
  {
   "cell_type": "code",
   "execution_count": 167,
   "metadata": {
    "collapsed": false
   },
   "outputs": [
    {
     "name": "stdout",
     "output_type": "stream",
     "text": [
      "2\n"
     ]
    }
   ],
   "source": [
    "from sklearn.cluster import KMeans\n",
    "\n",
    "def split_group(xys, split_count=2):\n",
    "    model = KMeans(n_clusters=split_count)\n",
    "    model.fit(xys)\n",
    "    return [xys[model.labels_ == _] for _ in xrange(split_count)]\n",
    "\n",
    "print len(split_group(seattle_fire_response_xys))"
   ]
  },
  {
   "cell_type": "code",
   "execution_count": 169,
   "metadata": {
    "collapsed": false
   },
   "outputs": [
    {
     "name": "stdout",
     "output_type": "stream",
     "text": [
      "211\n",
      "212\n"
     ]
    }
   ],
   "source": [
    "print len(split_group(seattle_fire_response_xys)[0])\n",
    "print len(split_group(seattle_fire_response_xys)[1])"
   ]
  },
  {
   "cell_type": "code",
   "execution_count": 172,
   "metadata": {
    "collapsed": false
   },
   "outputs": [
    {
     "name": "stdout",
     "output_type": "stream",
     "text": [
      "332\n",
      "26657.0612097\n"
     ]
    }
   ],
   "source": [
    "groups = [seattle_fire_response_xys]\n",
    "group = groups.pop(0)\n",
    "print len(group)\n",
    "\n",
    "print get_diameter(group)"
   ]
  },
  {
   "cell_type": "code",
   "execution_count": 181,
   "metadata": {
    "collapsed": false
   },
   "outputs": [
    {
     "name": "stdout",
     "output_type": "stream",
     "text": [
      "5273.72114473\n",
      "5173.25768705\n"
     ]
    }
   ],
   "source": [
    "def price_hotspot_via_distance_over_count(hotspot_xy, client_xys):\n",
    "    summed_distance = sum_distances_from_hotspot(hotspot_xy, client_xys)\n",
    "    client_count = len(client_xys)\n",
    "    return summed_distance / float(client_count)\n",
    "\n",
    "print place_and_price_hotspot(\n",
    "    seattle_fire_response_xys, place_hotspot_via_mean, price_hotspot_via_distance_over_count)\n",
    "print place_and_price_hotspot(\n",
    "    seattle_fire_response_xys, place_hotspot_via_bfgs, price_hotspot_via_distance_over_count)"
   ]
  },
  {
   "cell_type": "code",
   "execution_count": 182,
   "metadata": {
    "collapsed": true
   },
   "outputs": [],
   "source": [
    "import numpy as np\n",
    "\n",
    "def yield_hotspot_via_split(xys, radius_in_meters):\n",
    "    diameter_in_meters = radius_in_meters * 2\n",
    "    groups = [xys]\n",
    "    hotspot_packs = []\n",
    "    while groups:\n",
    "        group = groups.pop(0)\n",
    "        if get_diameter(group) > diameter_in_meters:\n",
    "            groups.extend(split_group(group))\n",
    "            continue    \n",
    "        hotspot_xy = place_hotspot_via_mean(group)\n",
    "        hotspot_price = price_hotspot_via_distance_over_count(hotspot_xy, group)\n",
    "        hotspot_packs.append((hotspot_price, hotspot_xy))\n",
    "    for hotspot_price, hotspot_xy in sorted(hotspot_packs, key=lambda x: x[0]):\n",
    "        yield hotspot_xy\n",
    "        \n"
   ]
  },
  {
   "cell_type": "code",
   "execution_count": 183,
   "metadata": {
    "collapsed": false
   },
   "outputs": [],
   "source": [
    "hotspots_via_split = hotspot_xys = list(yield_hotspot_via_split(\n",
    "    seattle_fire_response_xys, radius_in_meters))"
   ]
  },
  {
   "cell_type": "code",
   "execution_count": 184,
   "metadata": {
    "collapsed": false
   },
   "outputs": [
    {
     "name": "stdout",
     "output_type": "stream",
     "text": [
      "[array([ 390991.60037105,   74744.59616759]), array([ 392010.3023864 ,   76170.51797532]), array([ 391431.75848784,   72297.57452167]), array([ 386594.77815721,   80807.11199329]), array([ 384475.14678682,   58763.57640842]), array([ 386520.59407495,   59027.18706833]), array([ 392228.10784049,   59041.21484241]), array([ 389464.81912603,   72830.91361856]), array([ 386084.58925384,   62683.94783489]), array([ 391792.01507938,   61325.49372092]), array([ 384941.09686929,   60994.88873509]), array([ 385767.64951469,   78130.45878978]), array([ 388868.93903425,   74079.53753614]), array([ 390468.24476356,   82220.47483116]), array([ 386149.45393428,   74643.13994688]), array([ 382717.56125524,   71964.48418345]), array([ 390623.57198581,   60808.59824534]), array([ 384770.47523008,   62340.05992089]), array([ 390458.04858057,   80742.13495866]), array([ 386502.44189927,   69154.63105555]), array([ 386471.56659582,   82208.97246395]), array([ 391852.34477499,   78082.34123323]), array([ 387863.92404764,   72423.06160954]), array([ 387072.85154427,   69816.56462944]), array([ 388869.25984305,   79814.00124524]), array([ 386777.14052783,   78460.86246619]), array([ 389027.69297787,   63121.84509346]), array([ 383804.16983264,   75597.80001305]), array([ 386292.2191477 ,   77067.82603813]), array([ 384047.21522191,   63941.80074128]), array([ 386521.75310276,   79672.33991036]), array([ 387320.35926284,   68189.21219782]), array([ 388078.24338149,   74329.75909898]), array([ 390327.48909309,   67268.38063263]), array([ 382961.09121194,   63694.47106055]), array([ 385607.72987745,   81825.53854242]), array([ 389122.23355198,   75000.66445411]), array([ 387571.75687207,   79627.06355581]), array([ 387999.54551084,   69245.46521026]), array([ 385553.38739237,   70401.9636937 ]), array([ 391872.20743745,   62783.32180406]), array([ 383427.64378408,   57626.33649921]), array([ 387619.46695672,   67207.70909931]), array([ 388813.02158603,   69718.56532044]), array([ 388924.59209259,   81585.04221231]), array([ 382635.19851399,   66247.90137287]), array([ 389187.48265338,   68087.68399969]), array([ 389097.67170793,   78390.01746845]), array([ 391451.56269597,   59766.34458289]), array([ 385778.59524327,   73230.28704097]), array([ 384078.71859683,   60062.19249555]), array([ 390681.50355439,   61890.6897082 ]), array([ 388051.6875225 ,   78357.10907555]), array([ 390533.7573155 ,   76720.56303652]), array([ 387853.66383331,   61717.10671501]), array([ 390535.56110011,   78903.08512889]), array([ 384025.81563893,   78844.20049964]), array([ 383599.96150544,   73201.54874308]), array([ 390013.57440701,   64261.52298166]), array([ 387224.54068162,   71076.96280904]), array([ 387074.03437539,   64447.81315312]), array([ 392632.92146916,   56890.36771033])]\n"
     ]
    }
   ],
   "source": [
    "print hotspots_via_split"
   ]
  },
  {
   "cell_type": "code",
   "execution_count": 185,
   "metadata": {
    "collapsed": false
   },
   "outputs": [
    {
     "data": {
      "image/png": "[encoded data removed]",
      "text/plain": [
       "<matplotlib.figure.Figure at 0x126af590>"
      ]
     },
     "metadata": {},
     "output_type": "display_data"
    }
   ],
   "source": [
    "plot_hotspots(hotspot_xys, seattle_fire_response_xys, radius_in_meters)"
   ]
  },
  {
   "cell_type": "code",
   "execution_count": 187,
   "metadata": {
    "collapsed": false
   },
   "outputs": [
    {
     "name": "stdout",
     "output_type": "stream",
     "text": [
      "hotspot_count = 62\n",
      "hotspot_rating = 0.00235344508361\n"
     ]
    }
   ],
   "source": [
    "print 'hotspot_count = %s' % len(hotspot_xys)\n",
    "print 'hotspot_rating = %s' % rate_hotspots(\n",
    "    hotspot_xys, seattle_fire_response_xys, radius_in_meters)\n"
   ]
  },
  {
   "cell_type": "code",
   "execution_count": 188,
   "metadata": {
    "collapsed": false
   },
   "outputs": [
    {
     "data": {
      "image/png": "[encoded data removed]",
      "text/plain": [
       "<matplotlib.figure.Figure at 0x126af810>"
      ]
     },
     "metadata": {},
     "output_type": "display_data"
    }
   ],
   "source": [
    "hotspots_via_split_ratings = plot_rating_vs_count(\n",
    "    'Place ambulances via split', hotspots_via_split)"
   ]
  },
  {
   "cell_type": "code",
   "execution_count": 190,
   "metadata": {
    "collapsed": false
   },
   "outputs": [
    {
     "name": "stdout",
     "output_type": "stream",
     "text": [
      "set([1, 2, 3])\n",
      "set([1, 3])\n"
     ]
    }
   ],
   "source": [
    "a = set([1,2,3])\n",
    "print a\n",
    "print a - set([2])\n"
   ]
  },
  {
   "cell_type": "code",
   "execution_count": 191,
   "metadata": {
    "collapsed": true
   },
   "outputs": [],
   "source": [
    "def yield_hotspot_via_rank(xys, radius_in_meters):\n",
    "    pending_indices = np.arange(len(xys))\n",
    "    while len(pending_indices):\n",
    "        pending_xys = xys[pending_indices]        \n",
    "        pending_tree = KDTree(pending_xys)        \n",
    "        least_hotspot_price, least_hotspot_xy, least_indices = np.inf, None, []\n",
    "        for pending_index in pending_indices:\n",
    "            xy = xys[pending_index]\n",
    "            selected_indices = pending_tree.query_ball_point(xy, radius_in_meters)            \n",
    "            selected_xys = pending_xys[selected_indices]\n",
    "            # Price hotspot\n",
    "            hotspot_price = price_hotspot_via_distance_over_count(xy, selected_xys)\n",
    "            if hotspot_price > least_hotspot_price:\n",
    "                continue\n",
    "            least_hotspot_price = hotspot_price\n",
    "            least_hotspot_xy = xy\n",
    "            least_indices = pending_indices[selected_indices]\n",
    "        yield least_hotspot_xy\n",
    "        pending_indices = np.array(list(set(pending_indices) - set(least_indices)))\n"
   ]
  },
  {
   "cell_type": "code",
   "execution_count": 192,
   "metadata": {
    "collapsed": true
   },
   "outputs": [],
   "source": [
    "hotspots_via_rank = hotspot_xys = list(yield_hotspot_via_rank(\n",
    "    seattle_fire_response_xys, radius_in_meters))\n"
   ]
  },
  {
   "cell_type": "code",
   "execution_count": 193,
   "metadata": {
    "collapsed": false
   },
   "outputs": [
    {
     "data": {
      "image/png": "[encoded data removed]",
      "text/plain": [
       "<matplotlib.figure.Figure at 0x17b17ab0>"
      ]
     },
     "metadata": {},
     "output_type": "display_data"
    }
   ],
   "source": [
    "\n",
    "plot_hotspots(hotspot_xys, seattle_fire_response_xys, radius_in_meters)"
   ]
  },
  {
   "cell_type": "code",
   "execution_count": 194,
   "metadata": {
    "collapsed": false
   },
   "outputs": [
    {
     "name": "stdout",
     "output_type": "stream",
     "text": [
      "hotspot_count = 102\n",
      "hotspot_rating = 0.0039797274519\n"
     ]
    }
   ],
   "source": [
    "print 'hotspot_count = %s' % len(hotspot_xys)\n",
    "print 'hotspot_rating = %s' % rate_hotspots(\n",
    "    hotspot_xys, seattle_fire_response_xys, radius_in_meters)"
   ]
  },
  {
   "cell_type": "code",
   "execution_count": 195,
   "metadata": {
    "collapsed": false
   },
   "outputs": [
    {
     "data": {
      "image/png": "[encoded data removed]",
      "text/plain": [
       "<matplotlib.figure.Figure at 0x17bb0d10>"
      ]
     },
     "metadata": {},
     "output_type": "display_data"
    }
   ],
   "source": [
    "hotspots_via_rank_ratings = plot_rating_vs_count(\n",
    "    'Place ambulances via rank', hotspots_via_rank)"
   ]
  },
  {
   "cell_type": "code",
   "execution_count": 196,
   "metadata": {
    "collapsed": false
   },
   "outputs": [
    {
     "data": {
      "image/png": "[encoded data removed]",
      "text/plain": [
       "<matplotlib.figure.Figure at 0x17b23690>"
      ]
     },
     "metadata": {},
     "output_type": "display_data"
    }
   ],
   "source": [
    "technique_packs = [\n",
    "    ('split', hotspots_via_split_ratings),\n",
    "    ('rank', hotspots_via_rank_ratings),\n",
    "]\n",
    "hotspot_counts = range(max(len(_[1]) for _ in technique_packs))\n",
    "for technique_name, technique_ratings in technique_packs:\n",
    "    plt.plot(\n",
    "        hotspot_counts[:len(technique_ratings)], technique_ratings, label=technique_name)\n",
    "plt.xlabel('hotspot_count')\n",
    "plt.ylabel('hotspot_rating')\n",
    "plt.title('Method comparison')\n",
    "plt.legend(loc='upper left');"
   ]
  },
  {
   "cell_type": "code",
   "execution_count": null,
   "metadata": {
    "collapsed": true
   },
   "outputs": [],
   "source": []
  }
 ],
 "metadata": {
  "kernelspec": {
   "display_name": "Python 2",
   "language": "python",
   "name": "python2"
  },
  "language_info": {
   "codemirror_mode": {
    "name": "ipython",
    "version": 2
   },
   "file_extension": ".py",
   "mimetype": "text/x-python",
   "name": "python",
   "nbconvert_exporter": "python",
   "pygments_lexer": "ipython2",
   "version": "2.7.10"
  }
 },
 "nbformat": 4,
 "nbformat_minor": 0
}
