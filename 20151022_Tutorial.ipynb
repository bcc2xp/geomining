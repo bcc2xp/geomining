{
 "cells": [
  {
   "cell_type": "code",
   "execution_count": 1,
   "metadata": {
    "collapsed": false
   },
   "outputs": [
    {
     "name": "stdout",
     "output_type": "stream",
     "text": [
      "Populating the interactive namespace from numpy and matplotlib\n"
     ]
    }
   ],
   "source": [
    "%pylab inline"
   ]
  },
  {
   "cell_type": "markdown",
   "metadata": {},
   "source": [
    "## 模擬產生路徑"
   ]
  },
  {
   "cell_type": "code",
   "execution_count": 44,
   "metadata": {
    "collapsed": false
   },
   "outputs": [
    {
     "name": "stdout",
     "output_type": "stream",
     "text": [
      "0.602\n",
      "0.399\n",
      "0.858\n",
      "0.069\n",
      "0.330\n"
     ]
    }
   ],
   "source": [
    "import random\n",
    "\n",
    "for i in xrange(5):\n",
    "    print '%04.3f' % random.random()"
   ]
  },
  {
   "cell_type": "code",
   "execution_count": 45,
   "metadata": {
    "collapsed": false
   },
   "outputs": [
    {
     "data": {
      "image/png": "[encoded data removed]",
      "text/plain": [
       "<matplotlib.figure.Figure at 0xa477c50>"
      ]
     },
     "metadata": {},
     "output_type": "display_data"
    }
   ],
   "source": [
    "import matplotlib.pyplot as plt\n",
    "\n",
    "x = []\n",
    "y = []\n",
    "for i in xrange(5):\n",
    "    x.append(random.random()*10)\n",
    "\n",
    "for i in xrange(5):\n",
    "    y.append(random.random()*10)\n",
    "    \n",
    "fig = plt.figure()\n",
    "ax = fig.gca()\n",
    "plt.scatter(x,y)\n",
    "plt.grid()\n",
    "plt.show()"
   ]
  },
  {
   "cell_type": "code",
   "execution_count": 46,
   "metadata": {
    "collapsed": false
   },
   "outputs": [
    {
     "name": "stdout",
     "output_type": "stream",
     "text": [
      "0.199595956956 0.131750314877\n",
      "1.4780337031 0.858558494939\n",
      "1.78218449382 1.93663950426\n",
      "2.39203990102 1.76348307762\n",
      "2.53139508954 2.95361786522\n",
      "3.90891264502 2.06424819529\n"
     ]
    }
   ],
   "source": [
    "import matplotlib.pyplot as plt\n",
    "\n",
    "path = [[0,0], [1,0], [1,1], [2,1], [2,2], [3,2]]\n",
    "\n",
    "for x,y in path:\n",
    "    print x +random.random(), y + random.random()"
   ]
  },
  {
   "cell_type": "code",
   "execution_count": 47,
   "metadata": {
    "collapsed": true
   },
   "outputs": [],
   "source": [
    "import matplotlib.pyplot as plt\n",
    "\n",
    "xcoord = []\n",
    "ycoord = []\n",
    "path = [[0,0], [1,0], [1,1], [2,1], [2,2], [3,2]]\n",
    "\n",
    "for x,y in path:\n",
    "    xcoord.append(x +random.random())\n",
    "    ycoord.append(y + random.random())\n"
   ]
  },
  {
   "cell_type": "code",
   "execution_count": 48,
   "metadata": {
    "collapsed": false
   },
   "outputs": [
    {
     "name": "stdout",
     "output_type": "stream",
     "text": [
      "[0.509453873073536, 1.5216314118263194, 1.2709686390075539, 2.382759307559087, 2.9336926457637675, 3.141413976060273] [0.3961814475105282, 0.4214660002064037, 1.9978843529207082, 1.6604836487057453, 2.1556569432896096, 2.286569877419582]\n"
     ]
    }
   ],
   "source": [
    "print xcoord, ycoord"
   ]
  },
  {
   "cell_type": "code",
   "execution_count": 22,
   "metadata": {
    "collapsed": false
   },
   "outputs": [
    {
     "data": {
      "image/png": "[encoded data removed]",
      "text/plain": [
       "<matplotlib.figure.Figure at 0xa8480b0>"
      ]
     },
     "metadata": {},
     "output_type": "display_data"
    }
   ],
   "source": [
    "fig = plt.figure()\n",
    "ax = fig.gca()\n",
    "plt.scatter(xcoord,ycoord)\n",
    "ax.set_xticks(range(0,10,1))\n",
    "ax.set_yticks(range(0,10,1))\n",
    "plt.grid()\n",
    "plt.show()"
   ]
  },
  {
   "cell_type": "code",
   "execution_count": 79,
   "metadata": {
    "collapsed": false
   },
   "outputs": [
    {
     "name": "stdout",
     "output_type": "stream",
     "text": [
      "3\n"
     ]
    }
   ],
   "source": [
    "paths = [ [[0,0], [0,1], [0,2], [0,3], [1,3], [1,4]] ,\n",
    "          [[0,0], [1,0], [1,1], [2,1], [2,2], [3,2]] ,\n",
    "          [[0,0], [1,0], [2,0], [3,0], [4,0]]\n",
    "        ]\n",
    "\n",
    "print len(paths)"
   ]
  },
  {
   "cell_type": "code",
   "execution_count": 80,
   "metadata": {
    "collapsed": true
   },
   "outputs": [],
   "source": [
    "def genCoords(path):\n",
    "    coord = []\n",
    "    for x,y in path:\n",
    "        coord.append([x +random.random(), y + random.random()])\n",
    "    return coord"
   ]
  },
  {
   "cell_type": "code",
   "execution_count": 81,
   "metadata": {
    "collapsed": false
   },
   "outputs": [],
   "source": [
    "user = []\n",
    "xcoord = []\n",
    "ycoord = []\n",
    "for i in range(1,100):\n",
    "    for x,y in genCoords(random.choice(paths)):\n",
    "        user.append(i)\n",
    "        xcoord.append(x)\n",
    "        ycoord.append(y)"
   ]
  },
  {
   "cell_type": "code",
   "execution_count": 82,
   "metadata": {
    "collapsed": false
   },
   "outputs": [
    {
     "data": {
      "image/png": "[encoded data removed]",
      "text/plain": [
       "<matplotlib.figure.Figure at 0xa7323d0>"
      ]
     },
     "metadata": {},
     "output_type": "display_data"
    }
   ],
   "source": [
    "fig = plt.figure()\n",
    "ax = fig.gca()\n",
    "plt.scatter(xcoord,ycoord)\n",
    "ax.set_xticks(range(0,10,1))\n",
    "ax.set_yticks(range(0,10,1))\n",
    "plt.grid()\n",
    "plt.show()"
   ]
  },
  {
   "cell_type": "markdown",
   "metadata": {},
   "source": [
    "## 建立空間索引 (Spatial Hash)"
   ]
  },
  {
   "cell_type": "code",
   "execution_count": 83,
   "metadata": {
    "collapsed": true
   },
   "outputs": [],
   "source": [
    "def nodeConversion(x,y,cell_size):\n",
    "    return (\n",
    "            int((math.floor(x/cell_size))*cell_size),\n",
    "            int((math.floor(y/cell_size))*cell_size)\n",
    "        )"
   ]
  },
  {
   "cell_type": "code",
   "execution_count": 84,
   "metadata": {
    "collapsed": false
   },
   "outputs": [
    {
     "name": "stdout",
     "output_type": "stream",
     "text": [
      "(1, 0)\n"
     ]
    }
   ],
   "source": [
    "print nodeConversion(1.2,0.2,1)"
   ]
  },
  {
   "cell_type": "code",
   "execution_count": 85,
   "metadata": {
    "collapsed": false
   },
   "outputs": [],
   "source": [
    "points = []\n",
    "\n",
    "x_proj = []\n",
    "y_proj = []\n",
    "\n",
    "for i in range(0,len(xcoord)):\n",
    "    x,y =  nodeConversion(xcoord[i], ycoord[i],1)\n",
    "    #print user[i], x, y"
   ]
  },
  {
   "cell_type": "code",
   "execution_count": 86,
   "metadata": {
    "collapsed": true
   },
   "outputs": [],
   "source": [
    "user_path = {}\n",
    "\n",
    "for i in range(0,len(xcoord)):\n",
    "    x,y =  nodeConversion(xcoord[i], ycoord[i],1)\n",
    "    if user[i] not in user_path:\n",
    "        user_path[user[i]] = [(x,y)]\n",
    "    else:\n",
    "        user_path[user[i]].append((x,y))"
   ]
  },
  {
   "cell_type": "code",
   "execution_count": 87,
   "metadata": {
    "collapsed": false
   },
   "outputs": [
    {
     "name": "stdout",
     "output_type": "stream",
     "text": [
      "{1: [(0, 0), (1, 0), (2, 0), (3, 0), (4, 0)], 2: [(0, 0), (0, 1), (0, 2), (0, 3), (1, 3), (1, 4)], 3: [(0, 0), (1, 0), (2, 0), (3, 0), (4, 0)], 4: [(0, 0), (1, 0), (2, 0), (3, 0), (4, 0)], 5: [(0, 0), (1, 0), (2, 0), (3, 0), (4, 0)], 6: [(0, 0), (1, 0), (2, 0), (3, 0), (4, 0)], 7: [(0, 0), (1, 0), (1, 1), (2, 1), (2, 2), (3, 2)], 8: [(0, 0), (1, 0), (2, 0), (3, 0), (4, 0)], 9: [(0, 0), (0, 1), (0, 2), (0, 3), (1, 3), (1, 4)], 10: [(0, 0), (1, 0), (2, 0), (3, 0), (4, 0)], 11: [(0, 0), (0, 1), (0, 2), (0, 3), (1, 3), (1, 4)], 12: [(0, 0), (0, 1), (0, 2), (0, 3), (1, 3), (1, 4)], 13: [(0, 0), (1, 0), (1, 1), (2, 1), (2, 2), (3, 2)], 14: [(0, 0), (0, 1), (0, 2), (0, 3), (1, 3), (1, 4)], 15: [(0, 0), (1, 0), (1, 1), (2, 1), (2, 2), (3, 2)], 16: [(0, 0), (0, 1), (0, 2), (0, 3), (1, 3), (1, 4)], 17: [(0, 0), (0, 1), (0, 2), (0, 3), (1, 3), (1, 4)], 18: [(0, 0), (1, 0), (1, 1), (2, 1), (2, 2), (3, 2)], 19: [(0, 0), (1, 0), (2, 0), (3, 0), (4, 0)], 20: [(0, 0), (0, 1), (0, 2), (0, 3), (1, 3), (1, 4)], 21: [(0, 0), (0, 1), (0, 2), (0, 3), (1, 3), (1, 4)], 22: [(0, 0), (1, 0), (2, 0), (3, 0), (4, 0)], 23: [(0, 0), (1, 0), (1, 1), (2, 1), (2, 2), (3, 2)], 24: [(0, 0), (0, 1), (0, 2), (0, 3), (1, 3), (1, 4)], 25: [(0, 0), (1, 0), (2, 0), (3, 0), (4, 0)], 26: [(0, 0), (1, 0), (1, 1), (2, 1), (2, 2), (3, 2)], 27: [(0, 0), (1, 0), (2, 0), (3, 0), (4, 0)], 28: [(0, 0), (0, 1), (0, 2), (0, 3), (1, 3), (1, 4)], 29: [(0, 0), (1, 0), (2, 0), (3, 0), (4, 0)], 30: [(0, 0), (1, 0), (2, 0), (3, 0), (4, 0)], 31: [(0, 0), (1, 0), (2, 0), (3, 0), (4, 0)], 32: [(0, 0), (1, 0), (2, 0), (3, 0), (4, 0)], 33: [(0, 0), (1, 0), (2, 0), (3, 0), (4, 0)], 34: [(0, 0), (1, 0), (1, 1), (2, 1), (2, 2), (3, 2)], 35: [(0, 0), (1, 0), (1, 1), (2, 1), (2, 2), (3, 2)], 36: [(0, 0), (1, 0), (2, 0), (3, 0), (4, 0)], 37: [(0, 0), (1, 0), (2, 0), (3, 0), (4, 0)], 38: [(0, 0), (1, 0), (2, 0), (3, 0), (4, 0)], 39: [(0, 0), (1, 0), (1, 1), (2, 1), (2, 2), (3, 2)], 40: [(0, 0), (1, 0), (2, 0), (3, 0), (4, 0)], 41: [(0, 0), (1, 0), (2, 0), (3, 0), (4, 0)], 42: [(0, 0), (0, 1), (0, 2), (0, 3), (1, 3), (1, 4)], 43: [(0, 0), (0, 1), (0, 2), (0, 3), (1, 3), (1, 4)], 44: [(0, 0), (1, 0), (2, 0), (3, 0), (4, 0)], 45: [(0, 0), (1, 0), (1, 1), (2, 1), (2, 2), (3, 2)], 46: [(0, 0), (1, 0), (2, 0), (3, 0), (4, 0)], 47: [(0, 0), (1, 0), (1, 1), (2, 1), (2, 2), (3, 2)], 48: [(0, 0), (0, 1), (0, 2), (0, 3), (1, 3), (1, 4)], 49: [(0, 0), (1, 0), (2, 0), (3, 0), (4, 0)], 50: [(0, 0), (1, 0), (1, 1), (2, 1), (2, 2), (3, 2)], 51: [(0, 0), (0, 1), (0, 2), (0, 3), (1, 3), (1, 4)], 52: [(0, 0), (1, 0), (2, 0), (3, 0), (4, 0)], 53: [(0, 0), (0, 1), (0, 2), (0, 3), (1, 3), (1, 4)], 54: [(0, 0), (1, 0), (2, 0), (3, 0), (4, 0)], 55: [(0, 0), (0, 1), (0, 2), (0, 3), (1, 3), (1, 4)], 56: [(0, 0), (0, 1), (0, 2), (0, 3), (1, 3), (1, 4)], 57: [(0, 0), (0, 1), (0, 2), (0, 3), (1, 3), (1, 4)], 58: [(0, 0), (0, 1), (0, 2), (0, 3), (1, 3), (1, 4)], 59: [(0, 0), (1, 0), (1, 1), (2, 1), (2, 2), (3, 2)], 60: [(0, 0), (0, 1), (0, 2), (0, 3), (1, 3), (1, 4)], 61: [(0, 0), (1, 0), (2, 0), (3, 0), (4, 0)], 62: [(0, 0), (1, 0), (2, 0), (3, 0), (4, 0)], 63: [(0, 0), (0, 1), (0, 2), (0, 3), (1, 3), (1, 4)], 64: [(0, 0), (1, 0), (2, 0), (3, 0), (4, 0)], 65: [(0, 0), (1, 0), (2, 0), (3, 0), (4, 0)], 66: [(0, 0), (0, 1), (0, 2), (0, 3), (1, 3), (1, 4)], 67: [(0, 0), (0, 1), (0, 2), (0, 3), (1, 3), (1, 4)], 68: [(0, 0), (1, 0), (1, 1), (2, 1), (2, 2), (3, 2)], 69: [(0, 0), (1, 0), (1, 1), (2, 1), (2, 2), (3, 2)], 70: [(0, 0), (1, 0), (1, 1), (2, 1), (2, 2), (3, 2)], 71: [(0, 0), (1, 0), (2, 0), (3, 0), (4, 0)], 72: [(0, 0), (1, 0), (1, 1), (2, 1), (2, 2), (3, 2)], 73: [(0, 0), (0, 1), (0, 2), (0, 3), (1, 3), (1, 4)], 74: [(0, 0), (1, 0), (2, 0), (3, 0), (4, 0)], 75: [(0, 0), (0, 1), (0, 2), (0, 3), (1, 3), (1, 4)], 76: [(0, 0), (1, 0), (1, 1), (2, 1), (2, 2), (3, 2)], 77: [(0, 0), (1, 0), (1, 1), (2, 1), (2, 2), (3, 2)], 78: [(0, 0), (1, 0), (1, 1), (2, 1), (2, 2), (3, 2)], 79: [(0, 0), (0, 1), (0, 2), (0, 3), (1, 3), (1, 4)], 80: [(0, 0), (1, 0), (1, 1), (2, 1), (2, 2), (3, 2)], 81: [(0, 0), (0, 1), (0, 2), (0, 3), (1, 3), (1, 4)], 82: [(0, 0), (1, 0), (1, 1), (2, 1), (2, 2), (3, 2)], 83: [(0, 0), (1, 0), (1, 1), (2, 1), (2, 2), (3, 2)], 84: [(0, 0), (0, 1), (0, 2), (0, 3), (1, 3), (1, 4)], 85: [(0, 0), (1, 0), (1, 1), (2, 1), (2, 2), (3, 2)], 86: [(0, 0), (0, 1), (0, 2), (0, 3), (1, 3), (1, 4)], 87: [(0, 0), (0, 1), (0, 2), (0, 3), (1, 3), (1, 4)], 88: [(0, 0), (0, 1), (0, 2), (0, 3), (1, 3), (1, 4)], 89: [(0, 0), (0, 1), (0, 2), (0, 3), (1, 3), (1, 4)], 90: [(0, 0), (0, 1), (0, 2), (0, 3), (1, 3), (1, 4)], 91: [(0, 0), (1, 0), (2, 0), (3, 0), (4, 0)], 92: [(0, 0), (0, 1), (0, 2), (0, 3), (1, 3), (1, 4)], 93: [(0, 0), (1, 0), (2, 0), (3, 0), (4, 0)], 94: [(0, 0), (0, 1), (0, 2), (0, 3), (1, 3), (1, 4)], 95: [(0, 0), (1, 0), (2, 0), (3, 0), (4, 0)], 96: [(0, 0), (1, 0), (1, 1), (2, 1), (2, 2), (3, 2)], 97: [(0, 0), (1, 0), (2, 0), (3, 0), (4, 0)], 98: [(0, 0), (1, 0), (2, 0), (3, 0), (4, 0)], 99: [(0, 0), (1, 0), (1, 1), (2, 1), (2, 2), (3, 2)]}\n"
     ]
    }
   ],
   "source": [
    "print user_path"
   ]
  },
  {
   "cell_type": "code",
   "execution_count": 94,
   "metadata": {
    "collapsed": true
   },
   "outputs": [],
   "source": [
    "trajectory = []\n",
    "for key in user_path:\n",
    "    trajectory.append(tuple(user_path[key]))"
   ]
  },
  {
   "cell_type": "code",
   "execution_count": 95,
   "metadata": {
    "collapsed": false
   },
   "outputs": [],
   "source": [
    "#print tuple(trajectory)"
   ]
  },
  {
   "cell_type": "markdown",
   "metadata": {},
   "source": [
    "## 樣式探勘"
   ]
  },
  {
   "cell_type": "code",
   "execution_count": 118,
   "metadata": {
    "collapsed": false
   },
   "outputs": [
    {
     "name": "stdout",
     "output_type": "stream",
     "text": [
      "(((0, 0), (1, 0), (1, 1), (2, 1), (3, 2)), 26)\n",
      "(((0, 0), (0, 1), (0, 2), (0, 3), (1, 4)), 36)\n",
      "(((0, 0), (1, 0), (2, 0), (3, 0), (4, 0)), 37)\n",
      "(((0, 0), (1, 0), (1, 1), (2, 1), (2, 2)), 26)\n",
      "(((0, 0), (0, 2), (0, 3), (1, 3), (1, 4)), 36)\n",
      "(((0, 0), (1, 0), (1, 1), (2, 1), (2, 2), (3, 2)), 26)\n",
      "(((1, 0), (1, 1), (2, 1), (2, 2), (3, 2)), 26)\n",
      "(((0, 1), (0, 2), (0, 3), (1, 3), (1, 4)), 36)\n",
      "(((0, 0), (1, 0), (1, 1), (2, 2), (3, 2)), 26)\n",
      "(((0, 0), (0, 1), (0, 2), (1, 3), (1, 4)), 36)\n",
      "(((0, 0), (0, 1), (0, 3), (1, 3), (1, 4)), 36)\n",
      "(((0, 0), (1, 1), (2, 1), (2, 2), (3, 2)), 26)\n",
      "(((0, 0), (1, 0), (2, 1), (2, 2), (3, 2)), 26)\n",
      "(((0, 0), (0, 1), (0, 2), (0, 3), (1, 3)), 36)\n",
      "(((0, 0), (0, 1), (0, 2), (0, 3), (1, 3), (1, 4)), 36)\n"
     ]
    }
   ],
   "source": [
    "from pymining import seqmining\n",
    "freq_seqs = seqmining.freq_seq_enum(tuple(trajectory), 5)\n",
    "for path in freq_seqs:\n",
    "    if len(path[0]) >= 5:\n",
    "        print path\n"
   ]
  },
  {
   "cell_type": "markdown",
   "metadata": {},
   "source": [
    "## 產生連接圖"
   ]
  },
  {
   "cell_type": "code",
   "execution_count": 121,
   "metadata": {
    "collapsed": false
   },
   "outputs": [],
   "source": [
    "import networkx as nx\n",
    "\n",
    "graph = nx.Graph()\n",
    "\n",
    "for path in freq_seqs:\n",
    "    ele = path[0]\n",
    "    if len(ele) >= 2:\n",
    "        for i in range(0, len(ele) - 1):\n",
    "            if abs(ele[i+1][0] - ele[i][0]) +  abs(ele[i+1][1] - ele[i][1]) <= 1:\n",
    "                graph.add_edge(ele[i], ele[i+1],duration=1)\n"
   ]
  },
  {
   "cell_type": "code",
   "execution_count": 122,
   "metadata": {
    "collapsed": false
   },
   "outputs": [
    {
     "data": {
      "image/png": "[encoded data removed]",
      "text/plain": [
       "<matplotlib.figure.Figure at 0x5f72df0>"
      ]
     },
     "metadata": {},
     "output_type": "display_data"
    }
   ],
   "source": [
    "nx.draw(graph)"
   ]
  },
  {
   "cell_type": "code",
   "execution_count": 123,
   "metadata": {
    "collapsed": false
   },
   "outputs": [
    {
     "data": {
      "image/png": "[encoded data removed]",
      "text/plain": [
       "<matplotlib.figure.Figure at 0x5f67510>"
      ]
     },
     "metadata": {},
     "output_type": "display_data"
    }
   ],
   "source": [
    "# positions for all nodes\n",
    "pos=nx.spring_layout(graph) \n",
    "\n",
    "# nodes\n",
    "nx.draw_networkx_nodes(graph,pos,node_size=700)\n",
    "\n",
    "# edges\n",
    "nx.draw_networkx_edges(graph,pos, width=6)\n",
    "\n",
    "\n",
    "# labels\n",
    "nx.draw_networkx_labels(graph,pos,font_size=10,font_family='sans-serif')\n",
    "\n",
    "plt.axis('off')\n",
    "plt.savefig(\"weighted_graph.png\") # save as png\n",
    "plt.show() # display"
   ]
  },
  {
   "cell_type": "code",
   "execution_count": 1,
   "metadata": {
    "collapsed": false
   },
   "outputs": [
    {
     "name": "stderr",
     "output_type": "stream",
     "text": [
      "C:\\Python27\\lib\\site-packages\\dateutil\\parser.py:428: UnicodeWarning: Unicode equal comparison failed to convert both arguments to Unicode - interpreting them as being unequal\n",
      "  elif res.tzname and res.tzname in time.tzname:\n"
     ]
    },
    {
     "data": {
      "text/plain": [
       "332"
      ]
     },
     "execution_count": 1,
     "metadata": {},
     "output_type": "execute_result"
    }
   ],
   "source": [
    "import datetime\n",
    "import os\n",
    "import pandas\n",
    "\n",
    "seattle_fire_responses = pandas.read_csv('0203.csv', parse_dates=[\n",
    "    'Datetime'\n",
    "], usecols=[\n",
    "    'Address',\n",
    "    'Type',\n",
    "    'Datetime',\n",
    "    'Latitude',\n",
    "    'Longitude',\n",
    "    'Incident Number',\n",
    "]).dropna()\n",
    "len(seattle_fire_responses)"
   ]
  },
  {
   "cell_type": "code",
   "execution_count": 2,
   "metadata": {
    "collapsed": false
   },
   "outputs": [
    {
     "data": {
      "text/html": [
       "<div>\n",
       "<table border=\"1\" class=\"dataframe\">\n",
       "  <thead>\n",
       "    <tr style=\"text-align: right;\">\n",
       "      <th></th>\n",
       "      <th>Address</th>\n",
       "      <th>Type</th>\n",
       "      <th>Datetime</th>\n",
       "      <th>Latitude</th>\n",
       "      <th>Longitude</th>\n",
       "      <th>Incident Number</th>\n",
       "    </tr>\n",
       "  </thead>\n",
       "  <tbody>\n",
       "    <tr>\n",
       "      <th>0</th>\n",
       "      <td>4th Av N / Mercer St</td>\n",
       "      <td>Aid Response</td>\n",
       "      <td>2014-02-03 23:56:00</td>\n",
       "      <td>47.624564</td>\n",
       "      <td>-122.348877</td>\n",
       "      <td>F140012355</td>\n",
       "    </tr>\n",
       "    <tr>\n",
       "      <th>1</th>\n",
       "      <td>2121 8th Av</td>\n",
       "      <td>Aid Response</td>\n",
       "      <td>2014-02-03 23:47:00</td>\n",
       "      <td>47.616647</td>\n",
       "      <td>-122.338160</td>\n",
       "      <td>F140012352</td>\n",
       "    </tr>\n",
       "  </tbody>\n",
       "</table>\n",
       "</div>"
      ],
      "text/plain": [
       "                Address          Type            Datetime   Latitude  \\\n",
       "0  4th Av N / Mercer St  Aid Response 2014-02-03 23:56:00  47.624564   \n",
       "1           2121 8th Av  Aid Response 2014-02-03 23:47:00  47.616647   \n",
       "\n",
       "    Longitude Incident Number  \n",
       "0 -122.348877      F140012355  \n",
       "1 -122.338160      F140012352  "
      ]
     },
     "execution_count": 2,
     "metadata": {},
     "output_type": "execute_result"
    }
   ],
   "source": [
    "seattle_fire_response_locations = seattle_fire_responses[\n",
    "    ['Longitude', 'Latitude']].values\n",
    "seattle_fire_responses[:2]"
   ]
  },
  {
   "cell_type": "markdown",
   "metadata": {},
   "source": [
    "## http://www.spatialreference.org/"
   ]
  },
  {
   "cell_type": "code",
   "execution_count": 3,
   "metadata": {
    "collapsed": false
   },
   "outputs": [
    {
     "name": "stdout",
     "output_type": "stream",
     "text": [
      "(-122.348877, 47.624563999999999)\n",
      "(-122.348877, 47.624563999983344)\n"
     ]
    }
   ],
   "source": [
    "from geometryIO import get_transformPoint, proj4LL\n",
    "\n",
    "# http://spatialreference.org/ref/epsg/2855/\n",
    "proj4_washington_north = (\n",
    "    '+proj=lcc +lat_1=48.73333333333333 +lat_2=47.5 +lat_0=47 '\n",
    "    '+lon_0=-120.8333333333333 +x_0=500000 +y_0=0 +ellps=GRS80 +units=m +no_defs ')\n",
    "transform_point = get_transformPoint(proj4LL, proj4_washington_north)\n",
    "untransform_point = get_transformPoint(proj4_washington_north, proj4LL)\n",
    "print tuple(seattle_fire_response_locations[0])\n",
    "print untransform_point(*transform_point(*seattle_fire_response_locations[0]))"
   ]
  },
  {
   "cell_type": "code",
   "execution_count": 4,
   "metadata": {
    "collapsed": false
   },
   "outputs": [
    {
     "data": {
      "text/plain": [
       "array([[ 386093.63374589,   70561.88624272],\n",
       "       [ 386881.79616456,   69666.03052991]])"
      ]
     },
     "execution_count": 4,
     "metadata": {},
     "output_type": "execute_result"
    }
   ],
   "source": [
    "import numpy as np\n",
    "\n",
    "seattle_fire_response_xys = np.array([\n",
    "    transform_point(*_) for _ in seattle_fire_response_locations])\n",
    "seattle_fire_response_xys[:2]"
   ]
  },
  {
   "cell_type": "code",
   "execution_count": 5,
   "metadata": {
    "collapsed": false
   },
   "outputs": [
    {
     "data": {
      "text/plain": [
       "0.00018110725534360492"
      ]
     },
     "execution_count": 5,
     "metadata": {},
     "output_type": "execute_result"
    }
   ],
   "source": [
    "from scipy.spatial import KDTree\n",
    "\n",
    "def rate_hotspots(hotspot_xys, client_xys, radius_in_meters):\n",
    "    covered_count = 0\n",
    "    summed_distance = 0\n",
    "    try:\n",
    "        hotspot_kdtree = KDTree(hotspot_xys)\n",
    "    except ValueError:\n",
    "        return 0\n",
    "    for client_xy in client_xys:\n",
    "        hotspot_distances, hotspot_indices = hotspot_kdtree.query(\n",
    "            client_xy, 1)\n",
    "        if hotspot_distances < radius_in_meters:\n",
    "            covered_count += 1\n",
    "        summed_distance += hotspot_distances\n",
    "    return covered_count / float(summed_distance)\n",
    "\n",
    "radius_in_meters = 800\n",
    "rate_hotspots(seattle_fire_response_xys[:10], seattle_fire_response_xys, radius_in_meters)"
   ]
  },
  {
   "cell_type": "code",
   "execution_count": 6,
   "metadata": {
    "collapsed": false
   },
   "outputs": [
    {
     "name": "stdout",
     "output_type": "stream",
     "text": [
      "Populating the interactive namespace from numpy and matplotlib\n"
     ]
    }
   ],
   "source": [
    "%pylab inline"
   ]
  },
  {
   "cell_type": "code",
   "execution_count": 7,
   "metadata": {
    "collapsed": false
   },
   "outputs": [
    {
     "data": {
      "text/plain": [
       "0.01064235044280993"
      ]
     },
     "execution_count": 7,
     "metadata": {},
     "output_type": "execute_result"
    }
   ],
   "source": [
    "from scipy.spatial.distance import euclidean\n",
    "\n",
    "def get_distance_in_degrees(xy, distance_in_meters):\n",
    "    location1 = untransform_point(*xy)\n",
    "    location2 = untransform_point(xy[0] + distance_in_meters, xy[1])\n",
    "    return euclidean(location1, location2)\n",
    "\n",
    "get_distance_in_degrees(seattle_fire_response_xys[0], distance_in_meters=800)"
   ]
  },
  {
   "cell_type": "code",
   "execution_count": 8,
   "metadata": {
    "collapsed": false
   },
   "outputs": [
    {
     "name": "stderr",
     "output_type": "stream",
     "text": [
      "C:\\Python27\\lib\\site-packages\\matplotlib\\collections.py:590: FutureWarning: elementwise comparison failed; returning scalar instead, but in the future will perform elementwise comparison\n",
      "  if self._edgecolors == str('face'):\n"
     ]
    },
    {
     "data": {
      "image/png": "[encoded data removed]",
      "text/plain": [
       "<matplotlib.figure.Figure at 0x33266d0>"
      ]
     },
     "metadata": {},
     "output_type": "display_data"
    }
   ],
   "source": [
    "import numpy as np\n",
    "from matplotlib import pyplot as plt\n",
    "from mpl_toolkits.basemap import Basemap, cm\n",
    "from shapely.geometry import MultiPoint\n",
    "\n",
    "def plot_hotspots(hotspot_xys, client_xys, radius_in_meters):\n",
    "    hotspot_locations = np.array([untransform_point(*_) for _ in hotspot_xys]) \n",
    "    client_locations = np.array([untransform_point(*_) for _ in client_xys])\n",
    "    llcrnrlon, llcrnrlat, urcrnrlon, urcrnrlat = MultiPoint(client_locations).bounds\n",
    "    m = Basemap(\n",
    "        llcrnrlon, llcrnrlat, urcrnrlon, urcrnrlat, resolution='h', projection='tmerc',\n",
    "        lon_0=np.mean([llcrnrlon, urcrnrlon]),\n",
    "        lat_0=np.mean([llcrnrlat, urcrnrlat]))\n",
    "    m.drawcoastlines()\n",
    "    radius_in_degrees = get_distance_in_degrees(client_xys[0], radius_in_meters)\n",
    "    for hotspot_location in hotspot_locations:\n",
    "        m.tissot(*hotspot_location, radius_deg=radius_in_degrees, npts=15, color='r')\n",
    "    m.scatter(client_locations[:, 0], client_locations[:, 1],\n",
    "        color='b', latlon=True, marker='.', zorder=10)\n",
    "    plt.axis('off')\n",
    "\n",
    "hotspots_via_random = seattle_fire_response_xys[:5]\n",
    "plot_hotspots(hotspots_via_random, seattle_fire_response_xys, radius_in_meters)"
   ]
  },
  {
   "cell_type": "code",
   "execution_count": 9,
   "metadata": {
    "collapsed": false
   },
   "outputs": [
    {
     "data": {
      "image/png": "[encoded data removed]",
      "text/plain": [
       "<matplotlib.figure.Figure at 0x13149170>"
      ]
     },
     "metadata": {},
     "output_type": "display_data"
    }
   ],
   "source": [
    "def plot_rating_vs_count(title, hotspot_xys):\n",
    "    hotspot_counts = xrange(len(hotspot_xys))\n",
    "    hotspot_ratings = []\n",
    "    for hotspot_count in hotspot_counts:\n",
    "        hotspot_ratings.append(rate_hotspots(\n",
    "            hotspot_xys[:hotspot_count], seattle_fire_response_xys, radius_in_meters))\n",
    "    plt.plot(hotspot_counts, hotspot_ratings)\n",
    "    plt.xlabel('hotspot_count')\n",
    "    plt.ylabel('hotspot_rating')\n",
    "    plt.title(title)\n",
    "    return hotspot_ratings\n",
    "\n",
    "hotspots_via_random_ratings = plot_rating_vs_count(\n",
    "    'Place five ambulances at random', hotspots_via_random)"
   ]
  },
  {
   "cell_type": "code",
   "execution_count": 10,
   "metadata": {
    "collapsed": false
   },
   "outputs": [
    {
     "data": {
      "text/plain": [
       "array([ 387649.22387623,   70446.07270113])"
      ]
     },
     "execution_count": 10,
     "metadata": {},
     "output_type": "execute_result"
    }
   ],
   "source": [
    "import numpy as np\n",
    "\n",
    "def place_hotspot_via_mean(xys):\n",
    "    return np.mean(xys, axis=0)\n",
    "\n",
    "place_hotspot_via_mean(seattle_fire_response_xys)"
   ]
  },
  {
   "cell_type": "code",
   "execution_count": 11,
   "metadata": {
    "collapsed": false
   },
   "outputs": [
    {
     "name": "stdout",
     "output_type": "stream",
     "text": [
      "1750875.42005\n",
      "1717521.5521\n"
     ]
    }
   ],
   "source": [
    "from scipy.optimize import fmin_bfgs\n",
    "from scipy.spatial.distance import euclidean\n",
    "\n",
    "def sum_distances_from_hotspot(hotspot_xy, client_xys):\n",
    "    return sum(euclidean(hotspot_xy, _) for _ in client_xys)\n",
    "\n",
    "def price_hotspot_via_distance(hotspot_xy, client_xys):\n",
    "    summed_distance = sum_distances_from_hotspot(hotspot_xy, client_xys)\n",
    "    return summed_distance\n",
    "\n",
    "def place_hotspot_via_bfgs(xys):\n",
    "    return fmin_bfgs(price_hotspot_via_distance, xys[0], args=(xys,), disp=0)\n",
    "\n",
    "def place_and_price_hotspot(\n",
    "        client_xys, place_hotspot, price_hotspot=price_hotspot_via_distance):\n",
    "    hotspot_xy = place_hotspot(client_xys)\n",
    "    return price_hotspot(hotspot_xy, client_xys)\n",
    "\n",
    "print place_and_price_hotspot(seattle_fire_response_xys, place_hotspot_via_mean)\n",
    "print place_and_price_hotspot(seattle_fire_response_xys, place_hotspot_via_bfgs)"
   ]
  },
  {
   "cell_type": "code",
   "execution_count": 12,
   "metadata": {
    "collapsed": false
   },
   "outputs": [
    {
     "name": "stdout",
     "output_type": "stream",
     "text": [
      "5273.72114473\n",
      "5173.25768705\n"
     ]
    }
   ],
   "source": [
    "def price_hotspot_via_distance_over_count(hotspot_xy, client_xys):\n",
    "    summed_distance = sum_distances_from_hotspot(hotspot_xy, client_xys)\n",
    "    client_count = len(client_xys)\n",
    "    return summed_distance / float(client_count)\n",
    "\n",
    "print place_and_price_hotspot(\n",
    "    seattle_fire_response_xys, place_hotspot_via_mean, price_hotspot_via_distance_over_count)\n",
    "print place_and_price_hotspot(\n",
    "    seattle_fire_response_xys, place_hotspot_via_bfgs, price_hotspot_via_distance_over_count)"
   ]
  },
  {
   "cell_type": "code",
   "execution_count": 13,
   "metadata": {
    "collapsed": false
   },
   "outputs": [
    {
     "name": "stdout",
     "output_type": "stream",
     "text": [
      "0.000017\n"
     ]
    },
    {
     "data": {
      "image/png": "[encoded data removed]",
      "text/plain": [
       "<matplotlib.figure.Figure at 0x13660e90>"
      ]
     },
     "metadata": {},
     "output_type": "display_data"
    }
   ],
   "source": [
    "hotspots_via_single = hotspot_xys = [place_hotspot_via_bfgs(seattle_fire_response_xys)]\n",
    "plot_hotspots(hotspot_xys, seattle_fire_response_xys, radius_in_meters)\n",
    "print '%f' % rate_hotspots(hotspot_xys, seattle_fire_response_xys, radius_in_meters)"
   ]
  },
  {
   "cell_type": "code",
   "execution_count": 14,
   "metadata": {
    "collapsed": false
   },
   "outputs": [
    {
     "data": {
      "text/plain": [
       "26657.061209676896"
      ]
     },
     "execution_count": 14,
     "metadata": {},
     "output_type": "execute_result"
    }
   ],
   "source": [
    "from itertools import combinations\n",
    "from scipy.spatial.distance import euclidean\n",
    "\n",
    "def get_diameter(xys):\n",
    "    diameter = 0\n",
    "    for xy1, xy2 in combinations(xys, 2):\n",
    "        distance = euclidean(xy1, xy2)\n",
    "        if distance > diameter:\n",
    "            diameter = distance\n",
    "    return diameter\n",
    "\n",
    "get_diameter(seattle_fire_response_xys)"
   ]
  },
  {
   "cell_type": "code",
   "execution_count": 15,
   "metadata": {
    "collapsed": false
   },
   "outputs": [
    {
     "data": {
      "text/plain": [
       "2"
      ]
     },
     "execution_count": 15,
     "metadata": {},
     "output_type": "execute_result"
    }
   ],
   "source": [
    "from sklearn.cluster import KMeans\n",
    "\n",
    "def split_group(xys, split_count=2):\n",
    "    model = KMeans(n_clusters=split_count)\n",
    "    model.fit(xys)\n",
    "    return [xys[model.labels_ == _] for _ in xrange(split_count)]\n",
    "\n",
    "len(split_group(seattle_fire_response_xys))"
   ]
  },
  {
   "cell_type": "code",
   "execution_count": 16,
   "metadata": {
    "collapsed": false
   },
   "outputs": [
    {
     "name": "stdout",
     "output_type": "stream",
     "text": [
      "hotspot_count = 63\n",
      "hotspot_rating = 0.00238600216535\n"
     ]
    },
    {
     "data": {
      "image/png": "[encoded data removed]",
      "text/plain": [
       "<matplotlib.figure.Figure at 0x13ac8a90>"
      ]
     },
     "metadata": {},
     "output_type": "display_data"
    }
   ],
   "source": [
    "import numpy as np\n",
    "\n",
    "def yield_hotspot_via_split(xys, radius_in_meters):\n",
    "    diameter_in_meters = radius_in_meters * 2\n",
    "    groups = [xys]\n",
    "    hotspot_packs = []\n",
    "    while groups:\n",
    "        group = groups.pop(0)\n",
    "        if get_diameter(group) > diameter_in_meters:\n",
    "            groups.extend(split_group(group))\n",
    "            continue    \n",
    "        hotspot_xy = place_hotspot_via_mean(group)\n",
    "        hotspot_price = price_hotspot_via_distance_over_count(hotspot_xy, group)\n",
    "        hotspot_packs.append((hotspot_price, hotspot_xy))\n",
    "    for hotspot_price, hotspot_xy in sorted(hotspot_packs, key=lambda x: x[0]):\n",
    "        yield hotspot_xy\n",
    "        \n",
    "hotspots_via_split = hotspot_xys = list(yield_hotspot_via_split(\n",
    "    seattle_fire_response_xys, radius_in_meters))\n",
    "print 'hotspot_count = %s' % len(hotspot_xys)\n",
    "print 'hotspot_rating = %s' % rate_hotspots(\n",
    "    hotspot_xys, seattle_fire_response_xys, radius_in_meters)\n",
    "plot_hotspots(hotspot_xys, seattle_fire_response_xys, radius_in_meters)"
   ]
  },
  {
   "cell_type": "code",
   "execution_count": 17,
   "metadata": {
    "collapsed": false
   },
   "outputs": [
    {
     "data": {
      "image/png": "[encoded data removed]",
      "text/plain": [
       "<matplotlib.figure.Figure at 0x15f81770>"
      ]
     },
     "metadata": {},
     "output_type": "display_data"
    }
   ],
   "source": [
    "hotspots_via_split_ratings = plot_rating_vs_count(\n",
    "    'Place ambulances via split', hotspots_via_split)"
   ]
  },
  {
   "cell_type": "code",
   "execution_count": 47,
   "metadata": {
    "collapsed": false
   },
   "outputs": [
    {
     "name": "stdout",
     "output_type": "stream",
     "text": [
      "[2, 3]\n"
     ]
    }
   ],
   "source": [
    "a = [1,2,3]\n",
    "a.remove(1)\n",
    "print a\n"
   ]
  },
  {
   "cell_type": "code",
   "execution_count": 51,
   "metadata": {
    "collapsed": false,
    "scrolled": true
   },
   "outputs": [
    {
     "name": "stdout",
     "output_type": "stream",
     "text": [
      "hotspot_count = 102\n",
      "hotspot_rating = 0.0039797274519\n"
     ]
    },
    {
     "data": {
      "image/png": "[encoded data removed]",
      "text/plain": [
       "<matplotlib.figure.Figure at 0x16884810>"
      ]
     },
     "metadata": {},
     "output_type": "display_data"
    }
   ],
   "source": [
    "def yield_hotspot_via_rank(xys, radius_in_meters):\n",
    "    pending_indices = np.arange(len(xys))\n",
    "    while len(pending_indices):\n",
    "        pending_xys = xys[pending_indices]        \n",
    "        pending_tree = KDTree(pending_xys)        \n",
    "        least_hotspot_price, least_hotspot_xy, least_indices = np.inf, None, []\n",
    "        for pending_index in pending_indices:\n",
    "            xy = xys[pending_index]\n",
    "            selected_indices = pending_tree.query_ball_point(xy, radius_in_meters)            \n",
    "            selected_xys = pending_xys[selected_indices]\n",
    "            # Price hotspot\n",
    "            hotspot_price = price_hotspot_via_distance_over_count(xy, selected_xys)\n",
    "            if hotspot_price > least_hotspot_price:\n",
    "                continue\n",
    "            least_hotspot_price = hotspot_price\n",
    "            least_hotspot_xy = xy\n",
    "            least_indices = pending_indices[selected_indices]\n",
    "        yield least_hotspot_xy\n",
    "        pending_indices = np.array(list(set(pending_indices) - set(least_indices)))\n",
    "\n",
    "hotspots_via_rank = hotspot_xys = list(yield_hotspot_via_rank(\n",
    "    seattle_fire_response_xys, radius_in_meters))\n",
    "print 'hotspot_count = %s' % len(hotspot_xys)\n",
    "print 'hotspot_rating = %s' % rate_hotspots(\n",
    "    hotspot_xys, seattle_fire_response_xys, radius_in_meters)\n",
    "plot_hotspots(hotspot_xys, seattle_fire_response_xys, radius_in_meters)"
   ]
  },
  {
   "cell_type": "code",
   "execution_count": 52,
   "metadata": {
    "collapsed": false
   },
   "outputs": [
    {
     "data": {
      "image/png": "[encoded data removed]",
      "text/plain": [
       "<matplotlib.figure.Figure at 0x1385a430>"
      ]
     },
     "metadata": {},
     "output_type": "display_data"
    }
   ],
   "source": [
    "hotspots_via_rank_ratings = plot_rating_vs_count(\n",
    "    'Place ambulances via rank', hotspots_via_rank)"
   ]
  },
  {
   "cell_type": "code",
   "execution_count": 53,
   "metadata": {
    "collapsed": false
   },
   "outputs": [
    {
     "data": {
      "image/png": "[encoded data removed]",
      "text/plain": [
       "<matplotlib.figure.Figure at 0x169d6570>"
      ]
     },
     "metadata": {},
     "output_type": "display_data"
    }
   ],
   "source": [
    "technique_packs = [\n",
    "    ('split', hotspots_via_split_ratings),\n",
    "    ('rank', hotspots_via_rank_ratings),\n",
    "]\n",
    "hotspot_counts = range(max(len(_[1]) for _ in technique_packs))\n",
    "for technique_name, technique_ratings in technique_packs:\n",
    "    plt.plot(\n",
    "        hotspot_counts[:len(technique_ratings)], technique_ratings, label=technique_name)\n",
    "plt.xlabel('hotspot_count')\n",
    "plt.ylabel('hotspot_rating')\n",
    "plt.title('Method comparison')\n",
    "plt.legend(loc='upper left');"
   ]
  }
 ],
 "metadata": {
  "kernelspec": {
   "display_name": "Python 2",
   "language": "python",
   "name": "python2"
  },
  "language_info": {
   "codemirror_mode": {
    "name": "ipython",
    "version": 2
   },
   "file_extension": ".py",
   "mimetype": "text/x-python",
   "name": "python",
   "nbconvert_exporter": "python",
   "pygments_lexer": "ipython2",
   "version": "2.7.10"
  }
 },
 "nbformat": 4,
 "nbformat_minor": 0
}
